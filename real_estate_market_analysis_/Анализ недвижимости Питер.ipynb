{
 "cells": [
  {
   "cell_type": "markdown",
   "metadata": {
    "toc": true
   },
   "source": [
    "<h1>Содержание<span class=\"tocSkip\"></span></h1>\n",
    "<div class=\"toc\"><ul class=\"toc-item\"><li><span><a href=\"#Исследование-объявлений-о-продаже-квартир\" data-toc-modified-id=\"Исследование-объявлений-о-продаже-квартир-1\">Исследование объявлений о продаже квартир</a></span><ul class=\"toc-item\"><li><span><a href=\"#Изучение-данных-из-файла\" data-toc-modified-id=\"Изучение-данных-из-файла-1.1\">Изучение данных из файла</a></span><ul class=\"toc-item\"><li><span><a href=\"#Вывод\" data-toc-modified-id=\"Вывод-1.1.1\">Вывод</a></span></li></ul></li><li><span><a href=\"#Предобработка-данных\" data-toc-modified-id=\"Предобработка-данных-1.2\">Предобработка данных</a></span><ul class=\"toc-item\"><li><span><a href=\"#Вывод\" data-toc-modified-id=\"Вывод-1.2.1\">Вывод</a></span></li></ul></li><li><span><a href=\"#Расчёты-и-добавление-результатов-в-таблицу\" data-toc-modified-id=\"Расчёты-и-добавление-результатов-в-таблицу-1.3\">Расчёты и добавление результатов в таблицу</a></span><ul class=\"toc-item\"><li><span><a href=\"#Вывод\" data-toc-modified-id=\"Вывод-1.3.1\">Вывод</a></span></li></ul></li><li><span><a href=\"#Исследовательский-анализ-данных\" data-toc-modified-id=\"Исследовательский-анализ-данных-1.4\">Исследовательский анализ данных</a></span></li><li><span><a href=\"#Общий-вывод\" data-toc-modified-id=\"Общий-вывод-1.5\">Общий вывод</a></span></li></ul></li></ul></div>"
   ]
  },
  {
   "cell_type": "markdown",
   "metadata": {},
   "source": [
    "# Исследование объявлений о продаже квартир\n",
    "\n",
    "В вашем распоряжении данные сервиса Яндекс.Недвижимость — архив объявлений о продаже квартир в Санкт-Петербурге и соседних населённых пунктах за несколько лет. Нужно научиться определять рыночную стоимость объектов недвижимости. Ваша задача — установить параметры. Это позволит построить автоматизированную систему: она отследит аномалии и мошенническую деятельность. \n",
    "\n",
    "По каждой квартире на продажу доступны два вида данных. Первые вписаны пользователем, вторые получены автоматически на основе картографических данных. Например, расстояние до центра, аэропорта, ближайшего парка и водоёма.\n",
    "\n",
    "\n",
    "**Описание данных**:\n",
    "\n",
    "\t• airports_nearest — расстояние до ближайшего аэропорта в метрах (м)\n",
    "\t• balcony — число балконов\n",
    "\t• ceiling_height — высота потолков (м)\n",
    "\t• cityCenters_nearest — расстояние до центра города (м)\n",
    "\t• days_exposition — сколько дней было размещено объявление (от публикации до снятия)\n",
    "\t• first_day_exposition — дата публикации\n",
    "\t• floor — этаж\n",
    "\t• floors_total — всего этажей в доме\n",
    "\t• is_apartment — апартаменты (булев тип)\n",
    "\t• kitchen_area — площадь кухни в квадратных метрах (м²)\n",
    "\t• last_price — цена на момент снятия с публикации\n",
    "\t• living_area — жилая площадь в квадратных метрах (м²)\n",
    "\t• locality_name — название населённого пункта\n",
    "\t• open_plan — свободная планировка (булев тип)\n",
    "\t• parks_around3000 — число парков в радиусе 3 км\n",
    "\t• parks_nearest — расстояние до ближайшего парка (м)\n",
    "\t• ponds_around3000 — число водоёмов в радиусе 3 км\n",
    "\t• ponds_nearest — расстояние до ближайшего водоёма (м)\n",
    "\t• rooms — число комнат\n",
    "\t• studio — квартира-студия (булев тип)\n",
    "\t• total_area — площадь квартиры в квадратных метрах (м²)\n",
    "\t• total_images — число фотографий квартиры в объявлении\n"
   ]
  },
  {
   "cell_type": "markdown",
   "metadata": {},
   "source": [
    "## Изучение данных из файла"
   ]
  },
  {
   "cell_type": "code",
   "execution_count": 1,
   "metadata": {},
   "outputs": [],
   "source": [
    "import pandas as pd\n",
    "import numpy as np\n",
    "import matplotlib.pyplot as plt\n",
    "import seaborn as sns"
   ]
  },
  {
   "cell_type": "code",
   "execution_count": 2,
   "metadata": {},
   "outputs": [
    {
     "name": "stdout",
     "output_type": "stream",
     "text": [
      "<class 'pandas.core.frame.DataFrame'>\n",
      "RangeIndex: 23699 entries, 0 to 23698\n",
      "Data columns (total 22 columns):\n",
      " #   Column                Non-Null Count  Dtype  \n",
      "---  ------                --------------  -----  \n",
      " 0   total_images          23699 non-null  int64  \n",
      " 1   last_price            23699 non-null  float64\n",
      " 2   total_area            23699 non-null  float64\n",
      " 3   first_day_exposition  23699 non-null  object \n",
      " 4   rooms                 23699 non-null  int64  \n",
      " 5   ceiling_height        14504 non-null  float64\n",
      " 6   floors_total          23613 non-null  float64\n",
      " 7   living_area           21796 non-null  float64\n",
      " 8   floor                 23699 non-null  int64  \n",
      " 9   is_apartment          2775 non-null   object \n",
      " 10  studio                23699 non-null  bool   \n",
      " 11  open_plan             23699 non-null  bool   \n",
      " 12  kitchen_area          21421 non-null  float64\n",
      " 13  balcony               12180 non-null  float64\n",
      " 14  locality_name         23650 non-null  object \n",
      " 15  airports_nearest      18157 non-null  float64\n",
      " 16  cityCenters_nearest   18180 non-null  float64\n",
      " 17  parks_around3000      18181 non-null  float64\n",
      " 18  parks_nearest         8079 non-null   float64\n",
      " 19  ponds_around3000      18181 non-null  float64\n",
      " 20  ponds_nearest         9110 non-null   float64\n",
      " 21  days_exposition       20518 non-null  float64\n",
      "dtypes: bool(2), float64(14), int64(3), object(3)\n",
      "memory usage: 3.7+ MB\n"
     ]
    }
   ],
   "source": [
    "df = pd.read_csv('/real_estate_data.csv', sep='\\t')\n",
    "df.info()"
   ]
  },
  {
   "cell_type": "code",
   "execution_count": 3,
   "metadata": {},
   "outputs": [
    {
     "data": {
      "text/html": [
       "<div>\n",
       "<style scoped>\n",
       "    .dataframe tbody tr th:only-of-type {\n",
       "        vertical-align: middle;\n",
       "    }\n",
       "\n",
       "    .dataframe tbody tr th {\n",
       "        vertical-align: top;\n",
       "    }\n",
       "\n",
       "    .dataframe thead th {\n",
       "        text-align: right;\n",
       "    }\n",
       "</style>\n",
       "<table border=\"1\" class=\"dataframe\">\n",
       "  <thead>\n",
       "    <tr style=\"text-align: right;\">\n",
       "      <th></th>\n",
       "      <th>total_images</th>\n",
       "      <th>last_price</th>\n",
       "      <th>total_area</th>\n",
       "      <th>first_day_exposition</th>\n",
       "      <th>rooms</th>\n",
       "      <th>ceiling_height</th>\n",
       "      <th>floors_total</th>\n",
       "      <th>living_area</th>\n",
       "      <th>floor</th>\n",
       "      <th>is_apartment</th>\n",
       "      <th>...</th>\n",
       "      <th>kitchen_area</th>\n",
       "      <th>balcony</th>\n",
       "      <th>locality_name</th>\n",
       "      <th>airports_nearest</th>\n",
       "      <th>cityCenters_nearest</th>\n",
       "      <th>parks_around3000</th>\n",
       "      <th>parks_nearest</th>\n",
       "      <th>ponds_around3000</th>\n",
       "      <th>ponds_nearest</th>\n",
       "      <th>days_exposition</th>\n",
       "    </tr>\n",
       "  </thead>\n",
       "  <tbody>\n",
       "    <tr>\n",
       "      <th>0</th>\n",
       "      <td>20</td>\n",
       "      <td>13000000.0</td>\n",
       "      <td>108.00</td>\n",
       "      <td>2019-03-07T00:00:00</td>\n",
       "      <td>3</td>\n",
       "      <td>2.70</td>\n",
       "      <td>16.0</td>\n",
       "      <td>51.00</td>\n",
       "      <td>8</td>\n",
       "      <td>NaN</td>\n",
       "      <td>...</td>\n",
       "      <td>25.00</td>\n",
       "      <td>NaN</td>\n",
       "      <td>Санкт-Петербург</td>\n",
       "      <td>18863.0</td>\n",
       "      <td>16028.0</td>\n",
       "      <td>1.0</td>\n",
       "      <td>482.0</td>\n",
       "      <td>2.0</td>\n",
       "      <td>755.0</td>\n",
       "      <td>NaN</td>\n",
       "    </tr>\n",
       "    <tr>\n",
       "      <th>1</th>\n",
       "      <td>7</td>\n",
       "      <td>3350000.0</td>\n",
       "      <td>40.40</td>\n",
       "      <td>2018-12-04T00:00:00</td>\n",
       "      <td>1</td>\n",
       "      <td>NaN</td>\n",
       "      <td>11.0</td>\n",
       "      <td>18.60</td>\n",
       "      <td>1</td>\n",
       "      <td>NaN</td>\n",
       "      <td>...</td>\n",
       "      <td>11.00</td>\n",
       "      <td>2.0</td>\n",
       "      <td>посёлок Шушары</td>\n",
       "      <td>12817.0</td>\n",
       "      <td>18603.0</td>\n",
       "      <td>0.0</td>\n",
       "      <td>NaN</td>\n",
       "      <td>0.0</td>\n",
       "      <td>NaN</td>\n",
       "      <td>81.0</td>\n",
       "    </tr>\n",
       "    <tr>\n",
       "      <th>2</th>\n",
       "      <td>10</td>\n",
       "      <td>5196000.0</td>\n",
       "      <td>56.00</td>\n",
       "      <td>2015-08-20T00:00:00</td>\n",
       "      <td>2</td>\n",
       "      <td>NaN</td>\n",
       "      <td>5.0</td>\n",
       "      <td>34.30</td>\n",
       "      <td>4</td>\n",
       "      <td>NaN</td>\n",
       "      <td>...</td>\n",
       "      <td>8.30</td>\n",
       "      <td>0.0</td>\n",
       "      <td>Санкт-Петербург</td>\n",
       "      <td>21741.0</td>\n",
       "      <td>13933.0</td>\n",
       "      <td>1.0</td>\n",
       "      <td>90.0</td>\n",
       "      <td>2.0</td>\n",
       "      <td>574.0</td>\n",
       "      <td>558.0</td>\n",
       "    </tr>\n",
       "    <tr>\n",
       "      <th>3</th>\n",
       "      <td>0</td>\n",
       "      <td>64900000.0</td>\n",
       "      <td>159.00</td>\n",
       "      <td>2015-07-24T00:00:00</td>\n",
       "      <td>3</td>\n",
       "      <td>NaN</td>\n",
       "      <td>14.0</td>\n",
       "      <td>NaN</td>\n",
       "      <td>9</td>\n",
       "      <td>NaN</td>\n",
       "      <td>...</td>\n",
       "      <td>NaN</td>\n",
       "      <td>0.0</td>\n",
       "      <td>Санкт-Петербург</td>\n",
       "      <td>28098.0</td>\n",
       "      <td>6800.0</td>\n",
       "      <td>2.0</td>\n",
       "      <td>84.0</td>\n",
       "      <td>3.0</td>\n",
       "      <td>234.0</td>\n",
       "      <td>424.0</td>\n",
       "    </tr>\n",
       "    <tr>\n",
       "      <th>4</th>\n",
       "      <td>2</td>\n",
       "      <td>10000000.0</td>\n",
       "      <td>100.00</td>\n",
       "      <td>2018-06-19T00:00:00</td>\n",
       "      <td>2</td>\n",
       "      <td>3.03</td>\n",
       "      <td>14.0</td>\n",
       "      <td>32.00</td>\n",
       "      <td>13</td>\n",
       "      <td>NaN</td>\n",
       "      <td>...</td>\n",
       "      <td>41.00</td>\n",
       "      <td>NaN</td>\n",
       "      <td>Санкт-Петербург</td>\n",
       "      <td>31856.0</td>\n",
       "      <td>8098.0</td>\n",
       "      <td>2.0</td>\n",
       "      <td>112.0</td>\n",
       "      <td>1.0</td>\n",
       "      <td>48.0</td>\n",
       "      <td>121.0</td>\n",
       "    </tr>\n",
       "    <tr>\n",
       "      <th>5</th>\n",
       "      <td>10</td>\n",
       "      <td>2890000.0</td>\n",
       "      <td>30.40</td>\n",
       "      <td>2018-09-10T00:00:00</td>\n",
       "      <td>1</td>\n",
       "      <td>NaN</td>\n",
       "      <td>12.0</td>\n",
       "      <td>14.40</td>\n",
       "      <td>5</td>\n",
       "      <td>NaN</td>\n",
       "      <td>...</td>\n",
       "      <td>9.10</td>\n",
       "      <td>NaN</td>\n",
       "      <td>городской посёлок Янино-1</td>\n",
       "      <td>NaN</td>\n",
       "      <td>NaN</td>\n",
       "      <td>NaN</td>\n",
       "      <td>NaN</td>\n",
       "      <td>NaN</td>\n",
       "      <td>NaN</td>\n",
       "      <td>55.0</td>\n",
       "    </tr>\n",
       "    <tr>\n",
       "      <th>6</th>\n",
       "      <td>6</td>\n",
       "      <td>3700000.0</td>\n",
       "      <td>37.30</td>\n",
       "      <td>2017-11-02T00:00:00</td>\n",
       "      <td>1</td>\n",
       "      <td>NaN</td>\n",
       "      <td>26.0</td>\n",
       "      <td>10.60</td>\n",
       "      <td>6</td>\n",
       "      <td>NaN</td>\n",
       "      <td>...</td>\n",
       "      <td>14.40</td>\n",
       "      <td>1.0</td>\n",
       "      <td>посёлок Парголово</td>\n",
       "      <td>52996.0</td>\n",
       "      <td>19143.0</td>\n",
       "      <td>0.0</td>\n",
       "      <td>NaN</td>\n",
       "      <td>0.0</td>\n",
       "      <td>NaN</td>\n",
       "      <td>155.0</td>\n",
       "    </tr>\n",
       "    <tr>\n",
       "      <th>7</th>\n",
       "      <td>5</td>\n",
       "      <td>7915000.0</td>\n",
       "      <td>71.60</td>\n",
       "      <td>2019-04-18T00:00:00</td>\n",
       "      <td>2</td>\n",
       "      <td>NaN</td>\n",
       "      <td>24.0</td>\n",
       "      <td>NaN</td>\n",
       "      <td>22</td>\n",
       "      <td>NaN</td>\n",
       "      <td>...</td>\n",
       "      <td>18.90</td>\n",
       "      <td>2.0</td>\n",
       "      <td>Санкт-Петербург</td>\n",
       "      <td>23982.0</td>\n",
       "      <td>11634.0</td>\n",
       "      <td>0.0</td>\n",
       "      <td>NaN</td>\n",
       "      <td>0.0</td>\n",
       "      <td>NaN</td>\n",
       "      <td>NaN</td>\n",
       "    </tr>\n",
       "    <tr>\n",
       "      <th>8</th>\n",
       "      <td>20</td>\n",
       "      <td>2900000.0</td>\n",
       "      <td>33.16</td>\n",
       "      <td>2018-05-23T00:00:00</td>\n",
       "      <td>1</td>\n",
       "      <td>NaN</td>\n",
       "      <td>27.0</td>\n",
       "      <td>15.43</td>\n",
       "      <td>26</td>\n",
       "      <td>NaN</td>\n",
       "      <td>...</td>\n",
       "      <td>8.81</td>\n",
       "      <td>NaN</td>\n",
       "      <td>посёлок Мурино</td>\n",
       "      <td>NaN</td>\n",
       "      <td>NaN</td>\n",
       "      <td>NaN</td>\n",
       "      <td>NaN</td>\n",
       "      <td>NaN</td>\n",
       "      <td>NaN</td>\n",
       "      <td>189.0</td>\n",
       "    </tr>\n",
       "    <tr>\n",
       "      <th>9</th>\n",
       "      <td>18</td>\n",
       "      <td>5400000.0</td>\n",
       "      <td>61.00</td>\n",
       "      <td>2017-02-26T00:00:00</td>\n",
       "      <td>3</td>\n",
       "      <td>2.50</td>\n",
       "      <td>9.0</td>\n",
       "      <td>43.60</td>\n",
       "      <td>7</td>\n",
       "      <td>NaN</td>\n",
       "      <td>...</td>\n",
       "      <td>6.50</td>\n",
       "      <td>2.0</td>\n",
       "      <td>Санкт-Петербург</td>\n",
       "      <td>50898.0</td>\n",
       "      <td>15008.0</td>\n",
       "      <td>0.0</td>\n",
       "      <td>NaN</td>\n",
       "      <td>0.0</td>\n",
       "      <td>NaN</td>\n",
       "      <td>289.0</td>\n",
       "    </tr>\n",
       "    <tr>\n",
       "      <th>10</th>\n",
       "      <td>5</td>\n",
       "      <td>5050000.0</td>\n",
       "      <td>39.60</td>\n",
       "      <td>2017-11-16T00:00:00</td>\n",
       "      <td>1</td>\n",
       "      <td>2.67</td>\n",
       "      <td>12.0</td>\n",
       "      <td>20.30</td>\n",
       "      <td>3</td>\n",
       "      <td>NaN</td>\n",
       "      <td>...</td>\n",
       "      <td>8.50</td>\n",
       "      <td>NaN</td>\n",
       "      <td>Санкт-Петербург</td>\n",
       "      <td>38357.0</td>\n",
       "      <td>13878.0</td>\n",
       "      <td>1.0</td>\n",
       "      <td>310.0</td>\n",
       "      <td>2.0</td>\n",
       "      <td>553.0</td>\n",
       "      <td>137.0</td>\n",
       "    </tr>\n",
       "    <tr>\n",
       "      <th>11</th>\n",
       "      <td>9</td>\n",
       "      <td>3300000.0</td>\n",
       "      <td>44.00</td>\n",
       "      <td>2018-08-27T00:00:00</td>\n",
       "      <td>2</td>\n",
       "      <td>NaN</td>\n",
       "      <td>5.0</td>\n",
       "      <td>31.00</td>\n",
       "      <td>4</td>\n",
       "      <td>False</td>\n",
       "      <td>...</td>\n",
       "      <td>6.00</td>\n",
       "      <td>1.0</td>\n",
       "      <td>Ломоносов</td>\n",
       "      <td>48252.0</td>\n",
       "      <td>51677.0</td>\n",
       "      <td>0.0</td>\n",
       "      <td>NaN</td>\n",
       "      <td>0.0</td>\n",
       "      <td>NaN</td>\n",
       "      <td>7.0</td>\n",
       "    </tr>\n",
       "    <tr>\n",
       "      <th>12</th>\n",
       "      <td>10</td>\n",
       "      <td>3890000.0</td>\n",
       "      <td>54.00</td>\n",
       "      <td>2016-06-30T00:00:00</td>\n",
       "      <td>2</td>\n",
       "      <td>NaN</td>\n",
       "      <td>5.0</td>\n",
       "      <td>30.00</td>\n",
       "      <td>5</td>\n",
       "      <td>NaN</td>\n",
       "      <td>...</td>\n",
       "      <td>9.00</td>\n",
       "      <td>0.0</td>\n",
       "      <td>Сертолово</td>\n",
       "      <td>NaN</td>\n",
       "      <td>NaN</td>\n",
       "      <td>NaN</td>\n",
       "      <td>NaN</td>\n",
       "      <td>NaN</td>\n",
       "      <td>NaN</td>\n",
       "      <td>90.0</td>\n",
       "    </tr>\n",
       "    <tr>\n",
       "      <th>13</th>\n",
       "      <td>20</td>\n",
       "      <td>3550000.0</td>\n",
       "      <td>42.80</td>\n",
       "      <td>2017-07-01T00:00:00</td>\n",
       "      <td>2</td>\n",
       "      <td>2.56</td>\n",
       "      <td>5.0</td>\n",
       "      <td>27.00</td>\n",
       "      <td>5</td>\n",
       "      <td>NaN</td>\n",
       "      <td>...</td>\n",
       "      <td>5.20</td>\n",
       "      <td>1.0</td>\n",
       "      <td>Петергоф</td>\n",
       "      <td>37868.0</td>\n",
       "      <td>33058.0</td>\n",
       "      <td>1.0</td>\n",
       "      <td>294.0</td>\n",
       "      <td>3.0</td>\n",
       "      <td>298.0</td>\n",
       "      <td>366.0</td>\n",
       "    </tr>\n",
       "    <tr>\n",
       "      <th>14</th>\n",
       "      <td>1</td>\n",
       "      <td>4400000.0</td>\n",
       "      <td>36.00</td>\n",
       "      <td>2016-06-23T00:00:00</td>\n",
       "      <td>1</td>\n",
       "      <td>NaN</td>\n",
       "      <td>6.0</td>\n",
       "      <td>17.00</td>\n",
       "      <td>1</td>\n",
       "      <td>NaN</td>\n",
       "      <td>...</td>\n",
       "      <td>8.00</td>\n",
       "      <td>0.0</td>\n",
       "      <td>Пушкин</td>\n",
       "      <td>20782.0</td>\n",
       "      <td>30759.0</td>\n",
       "      <td>0.0</td>\n",
       "      <td>NaN</td>\n",
       "      <td>1.0</td>\n",
       "      <td>96.0</td>\n",
       "      <td>203.0</td>\n",
       "    </tr>\n",
       "    <tr>\n",
       "      <th>15</th>\n",
       "      <td>16</td>\n",
       "      <td>4650000.0</td>\n",
       "      <td>39.00</td>\n",
       "      <td>2017-11-18T00:00:00</td>\n",
       "      <td>1</td>\n",
       "      <td>NaN</td>\n",
       "      <td>14.0</td>\n",
       "      <td>20.50</td>\n",
       "      <td>5</td>\n",
       "      <td>NaN</td>\n",
       "      <td>...</td>\n",
       "      <td>7.60</td>\n",
       "      <td>1.0</td>\n",
       "      <td>Санкт-Петербург</td>\n",
       "      <td>12900.0</td>\n",
       "      <td>14259.0</td>\n",
       "      <td>1.0</td>\n",
       "      <td>590.0</td>\n",
       "      <td>1.0</td>\n",
       "      <td>296.0</td>\n",
       "      <td>19.0</td>\n",
       "    </tr>\n",
       "    <tr>\n",
       "      <th>16</th>\n",
       "      <td>11</td>\n",
       "      <td>6700000.0</td>\n",
       "      <td>82.00</td>\n",
       "      <td>2017-11-23T00:00:00</td>\n",
       "      <td>3</td>\n",
       "      <td>3.05</td>\n",
       "      <td>5.0</td>\n",
       "      <td>55.60</td>\n",
       "      <td>1</td>\n",
       "      <td>NaN</td>\n",
       "      <td>...</td>\n",
       "      <td>9.00</td>\n",
       "      <td>NaN</td>\n",
       "      <td>Санкт-Петербург</td>\n",
       "      <td>22108.0</td>\n",
       "      <td>10698.0</td>\n",
       "      <td>3.0</td>\n",
       "      <td>420.0</td>\n",
       "      <td>0.0</td>\n",
       "      <td>NaN</td>\n",
       "      <td>397.0</td>\n",
       "    </tr>\n",
       "    <tr>\n",
       "      <th>17</th>\n",
       "      <td>6</td>\n",
       "      <td>4180000.0</td>\n",
       "      <td>36.00</td>\n",
       "      <td>2016-09-09T00:00:00</td>\n",
       "      <td>1</td>\n",
       "      <td>NaN</td>\n",
       "      <td>17.0</td>\n",
       "      <td>16.50</td>\n",
       "      <td>7</td>\n",
       "      <td>NaN</td>\n",
       "      <td>...</td>\n",
       "      <td>11.00</td>\n",
       "      <td>1.0</td>\n",
       "      <td>Санкт-Петербург</td>\n",
       "      <td>33564.0</td>\n",
       "      <td>14616.0</td>\n",
       "      <td>0.0</td>\n",
       "      <td>NaN</td>\n",
       "      <td>1.0</td>\n",
       "      <td>859.0</td>\n",
       "      <td>571.0</td>\n",
       "    </tr>\n",
       "    <tr>\n",
       "      <th>18</th>\n",
       "      <td>8</td>\n",
       "      <td>3250000.0</td>\n",
       "      <td>31.00</td>\n",
       "      <td>2017-01-27T00:00:00</td>\n",
       "      <td>1</td>\n",
       "      <td>2.50</td>\n",
       "      <td>5.0</td>\n",
       "      <td>19.40</td>\n",
       "      <td>2</td>\n",
       "      <td>NaN</td>\n",
       "      <td>...</td>\n",
       "      <td>5.60</td>\n",
       "      <td>1.0</td>\n",
       "      <td>Санкт-Петербург</td>\n",
       "      <td>44060.0</td>\n",
       "      <td>10842.0</td>\n",
       "      <td>1.0</td>\n",
       "      <td>759.0</td>\n",
       "      <td>0.0</td>\n",
       "      <td>NaN</td>\n",
       "      <td>168.0</td>\n",
       "    </tr>\n",
       "    <tr>\n",
       "      <th>19</th>\n",
       "      <td>16</td>\n",
       "      <td>14200000.0</td>\n",
       "      <td>121.00</td>\n",
       "      <td>2019-01-09T00:00:00</td>\n",
       "      <td>3</td>\n",
       "      <td>2.75</td>\n",
       "      <td>16.0</td>\n",
       "      <td>76.00</td>\n",
       "      <td>8</td>\n",
       "      <td>NaN</td>\n",
       "      <td>...</td>\n",
       "      <td>12.00</td>\n",
       "      <td>NaN</td>\n",
       "      <td>Санкт-Петербург</td>\n",
       "      <td>38900.0</td>\n",
       "      <td>12843.0</td>\n",
       "      <td>0.0</td>\n",
       "      <td>NaN</td>\n",
       "      <td>0.0</td>\n",
       "      <td>NaN</td>\n",
       "      <td>97.0</td>\n",
       "    </tr>\n",
       "    <tr>\n",
       "      <th>20</th>\n",
       "      <td>12</td>\n",
       "      <td>6120000.0</td>\n",
       "      <td>80.00</td>\n",
       "      <td>2017-09-28T00:00:00</td>\n",
       "      <td>3</td>\n",
       "      <td>2.70</td>\n",
       "      <td>27.0</td>\n",
       "      <td>48.00</td>\n",
       "      <td>11</td>\n",
       "      <td>NaN</td>\n",
       "      <td>...</td>\n",
       "      <td>12.00</td>\n",
       "      <td>2.0</td>\n",
       "      <td>посёлок Парголово</td>\n",
       "      <td>53134.0</td>\n",
       "      <td>19311.0</td>\n",
       "      <td>0.0</td>\n",
       "      <td>NaN</td>\n",
       "      <td>0.0</td>\n",
       "      <td>NaN</td>\n",
       "      <td>74.0</td>\n",
       "    </tr>\n",
       "    <tr>\n",
       "      <th>21</th>\n",
       "      <td>13</td>\n",
       "      <td>3200000.0</td>\n",
       "      <td>31.60</td>\n",
       "      <td>2018-03-14T00:00:00</td>\n",
       "      <td>1</td>\n",
       "      <td>NaN</td>\n",
       "      <td>5.0</td>\n",
       "      <td>16.90</td>\n",
       "      <td>2</td>\n",
       "      <td>NaN</td>\n",
       "      <td>...</td>\n",
       "      <td>5.70</td>\n",
       "      <td>1.0</td>\n",
       "      <td>Санкт-Петербург</td>\n",
       "      <td>36064.0</td>\n",
       "      <td>9722.0</td>\n",
       "      <td>1.0</td>\n",
       "      <td>248.0</td>\n",
       "      <td>0.0</td>\n",
       "      <td>NaN</td>\n",
       "      <td>310.0</td>\n",
       "    </tr>\n",
       "    <tr>\n",
       "      <th>22</th>\n",
       "      <td>20</td>\n",
       "      <td>5000000.0</td>\n",
       "      <td>58.00</td>\n",
       "      <td>2017-04-24T00:00:00</td>\n",
       "      <td>2</td>\n",
       "      <td>2.75</td>\n",
       "      <td>25.0</td>\n",
       "      <td>30.00</td>\n",
       "      <td>15</td>\n",
       "      <td>NaN</td>\n",
       "      <td>...</td>\n",
       "      <td>11.00</td>\n",
       "      <td>2.0</td>\n",
       "      <td>деревня Кудрово</td>\n",
       "      <td>NaN</td>\n",
       "      <td>NaN</td>\n",
       "      <td>NaN</td>\n",
       "      <td>NaN</td>\n",
       "      <td>NaN</td>\n",
       "      <td>NaN</td>\n",
       "      <td>60.0</td>\n",
       "    </tr>\n",
       "    <tr>\n",
       "      <th>23</th>\n",
       "      <td>11</td>\n",
       "      <td>2950000.0</td>\n",
       "      <td>32.00</td>\n",
       "      <td>2016-10-29T00:00:00</td>\n",
       "      <td>1</td>\n",
       "      <td>2.60</td>\n",
       "      <td>9.0</td>\n",
       "      <td>17.70</td>\n",
       "      <td>9</td>\n",
       "      <td>NaN</td>\n",
       "      <td>...</td>\n",
       "      <td>6.10</td>\n",
       "      <td>NaN</td>\n",
       "      <td>Санкт-Петербург</td>\n",
       "      <td>15414.0</td>\n",
       "      <td>14211.0</td>\n",
       "      <td>2.0</td>\n",
       "      <td>517.0</td>\n",
       "      <td>1.0</td>\n",
       "      <td>190.0</td>\n",
       "      <td>615.0</td>\n",
       "    </tr>\n",
       "    <tr>\n",
       "      <th>24</th>\n",
       "      <td>8</td>\n",
       "      <td>6500000.0</td>\n",
       "      <td>97.20</td>\n",
       "      <td>2015-10-31T00:00:00</td>\n",
       "      <td>2</td>\n",
       "      <td>NaN</td>\n",
       "      <td>3.0</td>\n",
       "      <td>46.50</td>\n",
       "      <td>1</td>\n",
       "      <td>NaN</td>\n",
       "      <td>...</td>\n",
       "      <td>19.60</td>\n",
       "      <td>0.0</td>\n",
       "      <td>Санкт-Петербург</td>\n",
       "      <td>20052.0</td>\n",
       "      <td>2336.0</td>\n",
       "      <td>3.0</td>\n",
       "      <td>411.0</td>\n",
       "      <td>3.0</td>\n",
       "      <td>124.0</td>\n",
       "      <td>265.0</td>\n",
       "    </tr>\n",
       "    <tr>\n",
       "      <th>25</th>\n",
       "      <td>3</td>\n",
       "      <td>6800000.0</td>\n",
       "      <td>76.00</td>\n",
       "      <td>2015-10-01T00:00:00</td>\n",
       "      <td>2</td>\n",
       "      <td>2.75</td>\n",
       "      <td>23.0</td>\n",
       "      <td>39.00</td>\n",
       "      <td>18</td>\n",
       "      <td>False</td>\n",
       "      <td>...</td>\n",
       "      <td>15.00</td>\n",
       "      <td>2.0</td>\n",
       "      <td>Санкт-Петербург</td>\n",
       "      <td>34967.0</td>\n",
       "      <td>14640.0</td>\n",
       "      <td>0.0</td>\n",
       "      <td>NaN</td>\n",
       "      <td>1.0</td>\n",
       "      <td>564.0</td>\n",
       "      <td>300.0</td>\n",
       "    </tr>\n",
       "    <tr>\n",
       "      <th>26</th>\n",
       "      <td>6</td>\n",
       "      <td>4050000.0</td>\n",
       "      <td>60.00</td>\n",
       "      <td>2017-04-28T00:00:00</td>\n",
       "      <td>4</td>\n",
       "      <td>NaN</td>\n",
       "      <td>5.0</td>\n",
       "      <td>43.00</td>\n",
       "      <td>4</td>\n",
       "      <td>NaN</td>\n",
       "      <td>...</td>\n",
       "      <td>7.00</td>\n",
       "      <td>NaN</td>\n",
       "      <td>Санкт-Петербург</td>\n",
       "      <td>11580.0</td>\n",
       "      <td>10510.0</td>\n",
       "      <td>0.0</td>\n",
       "      <td>NaN</td>\n",
       "      <td>1.0</td>\n",
       "      <td>95.0</td>\n",
       "      <td>265.0</td>\n",
       "    </tr>\n",
       "    <tr>\n",
       "      <th>27</th>\n",
       "      <td>20</td>\n",
       "      <td>7100000.0</td>\n",
       "      <td>70.00</td>\n",
       "      <td>2017-05-12T00:00:00</td>\n",
       "      <td>3</td>\n",
       "      <td>2.60</td>\n",
       "      <td>17.0</td>\n",
       "      <td>49.00</td>\n",
       "      <td>11</td>\n",
       "      <td>NaN</td>\n",
       "      <td>...</td>\n",
       "      <td>9.20</td>\n",
       "      <td>0.0</td>\n",
       "      <td>Санкт-Петербург</td>\n",
       "      <td>29197.0</td>\n",
       "      <td>11456.0</td>\n",
       "      <td>2.0</td>\n",
       "      <td>452.0</td>\n",
       "      <td>1.0</td>\n",
       "      <td>779.0</td>\n",
       "      <td>151.0</td>\n",
       "    </tr>\n",
       "    <tr>\n",
       "      <th>28</th>\n",
       "      <td>8</td>\n",
       "      <td>4170000.0</td>\n",
       "      <td>44.00</td>\n",
       "      <td>2017-12-13T00:00:00</td>\n",
       "      <td>1</td>\n",
       "      <td>2.90</td>\n",
       "      <td>6.0</td>\n",
       "      <td>20.80</td>\n",
       "      <td>1</td>\n",
       "      <td>NaN</td>\n",
       "      <td>...</td>\n",
       "      <td>11.70</td>\n",
       "      <td>1.0</td>\n",
       "      <td>Пушкин</td>\n",
       "      <td>18557.0</td>\n",
       "      <td>30710.0</td>\n",
       "      <td>0.0</td>\n",
       "      <td>NaN</td>\n",
       "      <td>1.0</td>\n",
       "      <td>118.0</td>\n",
       "      <td>74.0</td>\n",
       "    </tr>\n",
       "    <tr>\n",
       "      <th>29</th>\n",
       "      <td>9</td>\n",
       "      <td>8600000.0</td>\n",
       "      <td>100.00</td>\n",
       "      <td>2016-04-09T00:00:00</td>\n",
       "      <td>3</td>\n",
       "      <td>NaN</td>\n",
       "      <td>19.0</td>\n",
       "      <td>52.00</td>\n",
       "      <td>15</td>\n",
       "      <td>False</td>\n",
       "      <td>...</td>\n",
       "      <td>11.00</td>\n",
       "      <td>0.0</td>\n",
       "      <td>Санкт-Петербург</td>\n",
       "      <td>30394.0</td>\n",
       "      <td>11526.0</td>\n",
       "      <td>1.0</td>\n",
       "      <td>532.0</td>\n",
       "      <td>1.0</td>\n",
       "      <td>896.0</td>\n",
       "      <td>125.0</td>\n",
       "    </tr>\n",
       "  </tbody>\n",
       "</table>\n",
       "<p>30 rows × 22 columns</p>\n",
       "</div>"
      ],
      "text/plain": [
       "    total_images  last_price  total_area first_day_exposition  rooms  \\\n",
       "0             20  13000000.0      108.00  2019-03-07T00:00:00      3   \n",
       "1              7   3350000.0       40.40  2018-12-04T00:00:00      1   \n",
       "2             10   5196000.0       56.00  2015-08-20T00:00:00      2   \n",
       "3              0  64900000.0      159.00  2015-07-24T00:00:00      3   \n",
       "4              2  10000000.0      100.00  2018-06-19T00:00:00      2   \n",
       "5             10   2890000.0       30.40  2018-09-10T00:00:00      1   \n",
       "6              6   3700000.0       37.30  2017-11-02T00:00:00      1   \n",
       "7              5   7915000.0       71.60  2019-04-18T00:00:00      2   \n",
       "8             20   2900000.0       33.16  2018-05-23T00:00:00      1   \n",
       "9             18   5400000.0       61.00  2017-02-26T00:00:00      3   \n",
       "10             5   5050000.0       39.60  2017-11-16T00:00:00      1   \n",
       "11             9   3300000.0       44.00  2018-08-27T00:00:00      2   \n",
       "12            10   3890000.0       54.00  2016-06-30T00:00:00      2   \n",
       "13            20   3550000.0       42.80  2017-07-01T00:00:00      2   \n",
       "14             1   4400000.0       36.00  2016-06-23T00:00:00      1   \n",
       "15            16   4650000.0       39.00  2017-11-18T00:00:00      1   \n",
       "16            11   6700000.0       82.00  2017-11-23T00:00:00      3   \n",
       "17             6   4180000.0       36.00  2016-09-09T00:00:00      1   \n",
       "18             8   3250000.0       31.00  2017-01-27T00:00:00      1   \n",
       "19            16  14200000.0      121.00  2019-01-09T00:00:00      3   \n",
       "20            12   6120000.0       80.00  2017-09-28T00:00:00      3   \n",
       "21            13   3200000.0       31.60  2018-03-14T00:00:00      1   \n",
       "22            20   5000000.0       58.00  2017-04-24T00:00:00      2   \n",
       "23            11   2950000.0       32.00  2016-10-29T00:00:00      1   \n",
       "24             8   6500000.0       97.20  2015-10-31T00:00:00      2   \n",
       "25             3   6800000.0       76.00  2015-10-01T00:00:00      2   \n",
       "26             6   4050000.0       60.00  2017-04-28T00:00:00      4   \n",
       "27            20   7100000.0       70.00  2017-05-12T00:00:00      3   \n",
       "28             8   4170000.0       44.00  2017-12-13T00:00:00      1   \n",
       "29             9   8600000.0      100.00  2016-04-09T00:00:00      3   \n",
       "\n",
       "    ceiling_height  floors_total  living_area  floor is_apartment  ...  \\\n",
       "0             2.70          16.0        51.00      8          NaN  ...   \n",
       "1              NaN          11.0        18.60      1          NaN  ...   \n",
       "2              NaN           5.0        34.30      4          NaN  ...   \n",
       "3              NaN          14.0          NaN      9          NaN  ...   \n",
       "4             3.03          14.0        32.00     13          NaN  ...   \n",
       "5              NaN          12.0        14.40      5          NaN  ...   \n",
       "6              NaN          26.0        10.60      6          NaN  ...   \n",
       "7              NaN          24.0          NaN     22          NaN  ...   \n",
       "8              NaN          27.0        15.43     26          NaN  ...   \n",
       "9             2.50           9.0        43.60      7          NaN  ...   \n",
       "10            2.67          12.0        20.30      3          NaN  ...   \n",
       "11             NaN           5.0        31.00      4        False  ...   \n",
       "12             NaN           5.0        30.00      5          NaN  ...   \n",
       "13            2.56           5.0        27.00      5          NaN  ...   \n",
       "14             NaN           6.0        17.00      1          NaN  ...   \n",
       "15             NaN          14.0        20.50      5          NaN  ...   \n",
       "16            3.05           5.0        55.60      1          NaN  ...   \n",
       "17             NaN          17.0        16.50      7          NaN  ...   \n",
       "18            2.50           5.0        19.40      2          NaN  ...   \n",
       "19            2.75          16.0        76.00      8          NaN  ...   \n",
       "20            2.70          27.0        48.00     11          NaN  ...   \n",
       "21             NaN           5.0        16.90      2          NaN  ...   \n",
       "22            2.75          25.0        30.00     15          NaN  ...   \n",
       "23            2.60           9.0        17.70      9          NaN  ...   \n",
       "24             NaN           3.0        46.50      1          NaN  ...   \n",
       "25            2.75          23.0        39.00     18        False  ...   \n",
       "26             NaN           5.0        43.00      4          NaN  ...   \n",
       "27            2.60          17.0        49.00     11          NaN  ...   \n",
       "28            2.90           6.0        20.80      1          NaN  ...   \n",
       "29             NaN          19.0        52.00     15        False  ...   \n",
       "\n",
       "    kitchen_area  balcony              locality_name  airports_nearest  \\\n",
       "0          25.00      NaN            Санкт-Петербург           18863.0   \n",
       "1          11.00      2.0             посёлок Шушары           12817.0   \n",
       "2           8.30      0.0            Санкт-Петербург           21741.0   \n",
       "3            NaN      0.0            Санкт-Петербург           28098.0   \n",
       "4          41.00      NaN            Санкт-Петербург           31856.0   \n",
       "5           9.10      NaN  городской посёлок Янино-1               NaN   \n",
       "6          14.40      1.0          посёлок Парголово           52996.0   \n",
       "7          18.90      2.0            Санкт-Петербург           23982.0   \n",
       "8           8.81      NaN             посёлок Мурино               NaN   \n",
       "9           6.50      2.0            Санкт-Петербург           50898.0   \n",
       "10          8.50      NaN            Санкт-Петербург           38357.0   \n",
       "11          6.00      1.0                  Ломоносов           48252.0   \n",
       "12          9.00      0.0                  Сертолово               NaN   \n",
       "13          5.20      1.0                   Петергоф           37868.0   \n",
       "14          8.00      0.0                     Пушкин           20782.0   \n",
       "15          7.60      1.0            Санкт-Петербург           12900.0   \n",
       "16          9.00      NaN            Санкт-Петербург           22108.0   \n",
       "17         11.00      1.0            Санкт-Петербург           33564.0   \n",
       "18          5.60      1.0            Санкт-Петербург           44060.0   \n",
       "19         12.00      NaN            Санкт-Петербург           38900.0   \n",
       "20         12.00      2.0          посёлок Парголово           53134.0   \n",
       "21          5.70      1.0            Санкт-Петербург           36064.0   \n",
       "22         11.00      2.0            деревня Кудрово               NaN   \n",
       "23          6.10      NaN            Санкт-Петербург           15414.0   \n",
       "24         19.60      0.0            Санкт-Петербург           20052.0   \n",
       "25         15.00      2.0            Санкт-Петербург           34967.0   \n",
       "26          7.00      NaN            Санкт-Петербург           11580.0   \n",
       "27          9.20      0.0            Санкт-Петербург           29197.0   \n",
       "28         11.70      1.0                     Пушкин           18557.0   \n",
       "29         11.00      0.0            Санкт-Петербург           30394.0   \n",
       "\n",
       "   cityCenters_nearest  parks_around3000  parks_nearest  ponds_around3000  \\\n",
       "0              16028.0               1.0          482.0               2.0   \n",
       "1              18603.0               0.0            NaN               0.0   \n",
       "2              13933.0               1.0           90.0               2.0   \n",
       "3               6800.0               2.0           84.0               3.0   \n",
       "4               8098.0               2.0          112.0               1.0   \n",
       "5                  NaN               NaN            NaN               NaN   \n",
       "6              19143.0               0.0            NaN               0.0   \n",
       "7              11634.0               0.0            NaN               0.0   \n",
       "8                  NaN               NaN            NaN               NaN   \n",
       "9              15008.0               0.0            NaN               0.0   \n",
       "10             13878.0               1.0          310.0               2.0   \n",
       "11             51677.0               0.0            NaN               0.0   \n",
       "12                 NaN               NaN            NaN               NaN   \n",
       "13             33058.0               1.0          294.0               3.0   \n",
       "14             30759.0               0.0            NaN               1.0   \n",
       "15             14259.0               1.0          590.0               1.0   \n",
       "16             10698.0               3.0          420.0               0.0   \n",
       "17             14616.0               0.0            NaN               1.0   \n",
       "18             10842.0               1.0          759.0               0.0   \n",
       "19             12843.0               0.0            NaN               0.0   \n",
       "20             19311.0               0.0            NaN               0.0   \n",
       "21              9722.0               1.0          248.0               0.0   \n",
       "22                 NaN               NaN            NaN               NaN   \n",
       "23             14211.0               2.0          517.0               1.0   \n",
       "24              2336.0               3.0          411.0               3.0   \n",
       "25             14640.0               0.0            NaN               1.0   \n",
       "26             10510.0               0.0            NaN               1.0   \n",
       "27             11456.0               2.0          452.0               1.0   \n",
       "28             30710.0               0.0            NaN               1.0   \n",
       "29             11526.0               1.0          532.0               1.0   \n",
       "\n",
       "    ponds_nearest  days_exposition  \n",
       "0           755.0              NaN  \n",
       "1             NaN             81.0  \n",
       "2           574.0            558.0  \n",
       "3           234.0            424.0  \n",
       "4            48.0            121.0  \n",
       "5             NaN             55.0  \n",
       "6             NaN            155.0  \n",
       "7             NaN              NaN  \n",
       "8             NaN            189.0  \n",
       "9             NaN            289.0  \n",
       "10          553.0            137.0  \n",
       "11            NaN              7.0  \n",
       "12            NaN             90.0  \n",
       "13          298.0            366.0  \n",
       "14           96.0            203.0  \n",
       "15          296.0             19.0  \n",
       "16            NaN            397.0  \n",
       "17          859.0            571.0  \n",
       "18            NaN            168.0  \n",
       "19            NaN             97.0  \n",
       "20            NaN             74.0  \n",
       "21            NaN            310.0  \n",
       "22            NaN             60.0  \n",
       "23          190.0            615.0  \n",
       "24          124.0            265.0  \n",
       "25          564.0            300.0  \n",
       "26           95.0            265.0  \n",
       "27          779.0            151.0  \n",
       "28          118.0             74.0  \n",
       "29          896.0            125.0  \n",
       "\n",
       "[30 rows x 22 columns]"
      ]
     },
     "execution_count": 3,
     "metadata": {},
     "output_type": "execute_result"
    }
   ],
   "source": [
    "df.head(30)"
   ]
  },
  {
   "cell_type": "code",
   "execution_count": 4,
   "metadata": {},
   "outputs": [
    {
     "data": {
      "text/plain": [
       "total_images                0\n",
       "last_price                  0\n",
       "total_area                  0\n",
       "first_day_exposition        0\n",
       "rooms                       0\n",
       "ceiling_height           9195\n",
       "floors_total               86\n",
       "living_area              1903\n",
       "floor                       0\n",
       "is_apartment            20924\n",
       "studio                      0\n",
       "open_plan                   0\n",
       "kitchen_area             2278\n",
       "balcony                 11519\n",
       "locality_name              49\n",
       "airports_nearest         5542\n",
       "cityCenters_nearest      5519\n",
       "parks_around3000         5518\n",
       "parks_nearest           15620\n",
       "ponds_around3000         5518\n",
       "ponds_nearest           14589\n",
       "days_exposition          3181\n",
       "dtype: int64"
      ]
     },
     "execution_count": 4,
     "metadata": {},
     "output_type": "execute_result"
    }
   ],
   "source": [
    "df.isna().sum()"
   ]
  },
  {
   "cell_type": "markdown",
   "metadata": {},
   "source": [
    "### Вывод"
   ]
  },
  {
   "cell_type": "markdown",
   "metadata": {},
   "source": [
    "В представленном для анализа Датафрейме 23699 значений, 22 столбца c данными категориального, количественного и логического типа. \n",
    "\n",
    "\n",
    "- Пропуски присутствуют в 14 столбцах: ceiling_height, floors_total, living_area, is_apartment, kitchen_area, balcony, locality_name, airports_nearest, cityCenters_nearest, parks_around3000, parks_nearest, ponds_around3000, ponds_nearest, days_exposition;\n",
    "\n",
    "\n",
    "- Названия столбцов \"cityCenters_nearest\", \"parks_around3000\", \"ponds_around3000\" заполнено  с нарушением стиля;\n",
    "\n",
    "\n",
    "- Неверно определен тип данных float64 в столбцах floors_total, last_price, balcony,  parks_around3000,\tponds_around3000,\tdays_exposition должен быть int64. Также в столбце first_day_exposition находится дата, а тип данных определился как object.\n",
    "\n",
    "\n"
   ]
  },
  {
   "cell_type": "markdown",
   "metadata": {},
   "source": [
    "## Предобработка данных"
   ]
  },
  {
   "cell_type": "markdown",
   "metadata": {},
   "source": [
    "Начну с самого простого - приведу в порядок названия столбцов, чтобы дальше было удобно обрабатывать данные:"
   ]
  },
  {
   "cell_type": "code",
   "execution_count": 5,
   "metadata": {},
   "outputs": [
    {
     "data": {
      "text/plain": [
       "Index(['total_images', 'last_price', 'total_area', 'first_day_exposition',\n",
       "       'rooms', 'ceiling_height', 'floors_total', 'living_area', 'floor',\n",
       "       'is_apartment', 'studio', 'open_plan', 'kitchen_area', 'balcony',\n",
       "       'locality_name', 'airports_nearest', 'city_сenters_nearest',\n",
       "       'parks_around_3000', 'parks_nearest', 'ponds_around_3000',\n",
       "       'ponds_nearest', 'days_exposition'],\n",
       "      dtype='object')"
      ]
     },
     "execution_count": 5,
     "metadata": {},
     "output_type": "execute_result"
    }
   ],
   "source": [
    "df = df.rename(columns = {\n",
    "    'cityCenters_nearest':'city_сenters_nearest',\n",
    "    'parks_around3000':'parks_around_3000',\n",
    "    'ponds_around3000':'ponds_around_3000',\n",
    "})\n",
    "df.columns"
   ]
  },
  {
   "cell_type": "markdown",
   "metadata": {},
   "source": [
    "В столбцах 'floors_total' и 'locality_name' наименьшее число пропусков - 86 и 49. Кол-во этажей и населенный пункт скорее всего были не указаны, больше похоже на человеческий фактор, так как Nan немного. Восстановить эти данные будет достаточно проблематично, поэтому стоит их удалить методом dropna(), чтобы не искажать статистику и совершать дальнейший анализ со столбцами."
   ]
  },
  {
   "cell_type": "code",
   "execution_count": 6,
   "metadata": {},
   "outputs": [],
   "source": [
    "df.dropna(subset = ['floors_total', 'locality_name'], inplace = True)"
   ]
  },
  {
   "cell_type": "markdown",
   "metadata": {},
   "source": [
    "Далее обработаем пропуски в столбце с количеством балконов, заменим все пропуски на 0. Т.к. скорее всего люди ничего не указывали в данной строке по причине отсутствия балкона.\n",
    "\n",
    "Также поступим и со столбцами с числом парков и водоемов в радиусе 3 км. Здесь данные вносились автоматически и скорее всего не были определены из-за отсутсвия информации, которая заполнялась человеком.\n",
    "\n",
    "Плюс сразу поправим типы данных в столбцах balcony, floors_total, parks_around_3000, ponds_around_3000 на тип int64. "
   ]
  },
  {
   "cell_type": "code",
   "execution_count": 7,
   "metadata": {},
   "outputs": [
    {
     "name": "stdout",
     "output_type": "stream",
     "text": [
      "<class 'pandas.core.frame.DataFrame'>\n",
      "Int64Index: 23565 entries, 0 to 23698\n",
      "Data columns (total 22 columns):\n",
      " #   Column                Non-Null Count  Dtype  \n",
      "---  ------                --------------  -----  \n",
      " 0   total_images          23565 non-null  int64  \n",
      " 1   last_price            23565 non-null  float64\n",
      " 2   total_area            23565 non-null  float64\n",
      " 3   first_day_exposition  23565 non-null  object \n",
      " 4   rooms                 23565 non-null  int64  \n",
      " 5   ceiling_height        14481 non-null  float64\n",
      " 6   floors_total          23565 non-null  int32  \n",
      " 7   living_area           21700 non-null  float64\n",
      " 8   floor                 23565 non-null  int64  \n",
      " 9   is_apartment          2760 non-null   object \n",
      " 10  studio                23565 non-null  bool   \n",
      " 11  open_plan             23565 non-null  bool   \n",
      " 12  kitchen_area          21343 non-null  float64\n",
      " 13  balcony               23565 non-null  int32  \n",
      " 14  locality_name         23565 non-null  object \n",
      " 15  airports_nearest      18041 non-null  float64\n",
      " 16  city_сenters_nearest  18064 non-null  float64\n",
      " 17  parks_around_3000     23565 non-null  int32  \n",
      " 18  parks_nearest         8030 non-null   float64\n",
      " 19  ponds_around_3000     23565 non-null  int32  \n",
      " 20  ponds_nearest         9036 non-null   float64\n",
      " 21  days_exposition       20394 non-null  float64\n",
      "dtypes: bool(2), float64(10), int32(4), int64(3), object(3)\n",
      "memory usage: 3.5+ MB\n"
     ]
    }
   ],
   "source": [
    "columns_wrong_type = ['balcony', 'floors_total', 'parks_around_3000', 'ponds_around_3000']\n",
    "\n",
    "for column in columns_wrong_type:\n",
    "    df[column] = df[column].fillna(0).astype('int')\n",
    "df.info()"
   ]
  },
  {
   "cell_type": "markdown",
   "metadata": {},
   "source": [
    "В столбце is_apartment 20924 пропуска. В процессе работы над проектом этот столбец нам не понадобится, поэтому его можно удалить:"
   ]
  },
  {
   "cell_type": "code",
   "execution_count": 8,
   "metadata": {},
   "outputs": [
    {
     "data": {
      "text/plain": [
       "Index(['total_images', 'last_price', 'total_area', 'first_day_exposition',\n",
       "       'rooms', 'ceiling_height', 'floors_total', 'living_area', 'floor',\n",
       "       'studio', 'open_plan', 'kitchen_area', 'balcony', 'locality_name',\n",
       "       'airports_nearest', 'city_сenters_nearest', 'parks_around_3000',\n",
       "       'parks_nearest', 'ponds_around_3000', 'ponds_nearest',\n",
       "       'days_exposition'],\n",
       "      dtype='object')"
      ]
     },
     "execution_count": 8,
     "metadata": {},
     "output_type": "execute_result"
    }
   ],
   "source": [
    "df.drop(['is_apartment'], axis='columns', inplace=True)\n",
    "df.columns"
   ]
  },
  {
   "cell_type": "markdown",
   "metadata": {},
   "source": [
    "Для того чтобы понять, как лучше заполнить пропуски в столбце ceiling_height, используем методы unique() и describe():"
   ]
  },
  {
   "cell_type": "code",
   "execution_count": 9,
   "metadata": {},
   "outputs": [
    {
     "data": {
      "text/plain": [
       "array([  2.7 ,    nan,   3.03,   2.5 ,   2.67,   2.56,   3.05,   2.75,\n",
       "         2.6 ,   2.9 ,   2.8 ,   2.55,   3.  ,   2.65,   3.2 ,   2.61,\n",
       "         3.25,   3.45,   2.77,   2.85,   2.64,   2.57,   4.15,   3.5 ,\n",
       "         3.3 ,   2.71,   4.  ,   2.47,   2.73,   2.84,   3.1 ,   2.34,\n",
       "         3.4 ,   3.06,   2.72,   2.54,   2.51,   2.78,   2.76,  25.  ,\n",
       "         2.58,   3.7 ,   2.52,   5.2 ,   2.87,   2.66,   2.59,   2.  ,\n",
       "         2.45,   3.6 ,   2.92,   3.11,   3.13,   3.8 ,   3.15,   3.55,\n",
       "         3.16,   3.62,   3.12,   2.53,   2.74,   2.96,   2.46,   5.3 ,\n",
       "         5.  ,   2.79,   2.95,   4.06,   2.94,   3.82,   3.54,   3.53,\n",
       "         2.83,   4.7 ,   2.4 ,   3.38,   3.01,   5.6 ,   3.65,   3.9 ,\n",
       "         3.18,   3.35,   2.3 ,   3.57,   2.48,   2.62,   2.82,   3.98,\n",
       "         2.63,   3.83,   3.52,   3.95,   3.75,   2.88,   3.67,   3.87,\n",
       "         3.66,   3.85,   3.86,   4.19,   3.24,   4.8 ,   4.5 ,   4.2 ,\n",
       "         3.36,  32.  ,   3.08,   3.68,   3.07,   3.37,   3.09,   8.  ,\n",
       "         3.26,   3.34,   2.81,   3.44,   2.97,   3.14,   4.37,   2.68,\n",
       "         3.22,   3.27,  27.  ,   4.1 ,   2.93,   3.46,  24.  ,   3.47,\n",
       "         3.33,   3.63,   3.32,  26.  ,   1.2 ,   8.3 ,   2.98,   2.86,\n",
       "         3.17,   4.4 ,   3.28,   3.04,   4.45,   5.5 ,   3.84,   3.23,\n",
       "         3.02,   3.21,   3.43,   3.78,   4.3 ,   3.39,   2.69,   3.31,\n",
       "         4.65,   3.56,   2.2 ,   3.51,   3.93,   3.42,   2.99,   3.49,\n",
       "        14.  ,   4.14,   2.91,   3.88,   1.75,   4.25,   3.29,  20.  ,\n",
       "         2.25,   3.76,   3.69,   6.  ,  22.6 ,   2.89,   3.58,   5.8 ,\n",
       "        27.5 ,   2.49,   4.9 ,   3.48,  10.3 ,   1.  , 100.  ,   3.59])"
      ]
     },
     "execution_count": 9,
     "metadata": {},
     "output_type": "execute_result"
    }
   ],
   "source": [
    "df['ceiling_height'].unique()"
   ]
  },
  {
   "cell_type": "code",
   "execution_count": 10,
   "metadata": {},
   "outputs": [
    {
     "data": {
      "text/plain": [
       "count    14481.000000\n",
       "mean         2.771283\n",
       "std          1.261983\n",
       "min          1.000000\n",
       "25%          2.510000\n",
       "50%          2.650000\n",
       "75%          2.800000\n",
       "max        100.000000\n",
       "Name: ceiling_height, dtype: float64"
      ]
     },
     "execution_count": 10,
     "metadata": {},
     "output_type": "execute_result"
    }
   ],
   "source": [
    "df['ceiling_height'].describe()"
   ]
  },
  {
   "cell_type": "markdown",
   "metadata": {},
   "source": [
    "В данных с высотой потолков есть значительные выбросы, например, 100 м., 32 м. или 26 м. В описании проекта указана информация именно о квартирах, но даже если учесть особняки, то очень вряд ли там настолько высокие потолки. Можно предположить, что это человеческий фактор - ошибки при наборе с клавиатуры. Чтобы эти выбросы не искажали статистику, необходимо их удалить:"
   ]
  },
  {
   "cell_type": "code",
   "execution_count": 11,
   "metadata": {},
   "outputs": [
    {
     "data": {
      "text/plain": [
       "count    14409.000000\n",
       "mean         2.721282\n",
       "std          0.259417\n",
       "min          2.000000\n",
       "25%          2.510000\n",
       "50%          2.650000\n",
       "75%          2.800000\n",
       "max          4.150000\n",
       "Name: ceiling_height, dtype: float64"
      ]
     },
     "execution_count": 11,
     "metadata": {},
     "output_type": "execute_result"
    }
   ],
   "source": [
    "df.drop(df[df.ceiling_height > 4.15].index, inplace=True)\n",
    "df.drop(df[df.ceiling_height < 2.00].index, inplace=True) # удалим потолки более 4.15 метров и менее 2 метров\n",
    "df.reset_index(inplace=True) # Обновляю индексы\n",
    "df['ceiling_height'].describe() # снова проверим описание данных в столбце"
   ]
  },
  {
   "cell_type": "markdown",
   "metadata": {},
   "source": [
    "Теперь стандартное отклонение минимально, выбросов нет. Можно заполнить пропущенные значения по медиане:"
   ]
  },
  {
   "cell_type": "code",
   "execution_count": 12,
   "metadata": {},
   "outputs": [],
   "source": [
    "df.ceiling_height.fillna(df['ceiling_height'].median(), inplace=True)"
   ]
  },
  {
   "cell_type": "markdown",
   "metadata": {},
   "source": [
    "Также для анализа нам необходима жилая площадь, проверим данные столбца living_area на выбросы:"
   ]
  },
  {
   "cell_type": "code",
   "execution_count": 13,
   "metadata": {},
   "outputs": [
    {
     "data": {
      "text/plain": [
       "count    21632.0000\n",
       "mean        34.3502\n",
       "std         21.6643\n",
       "min          2.0000\n",
       "25%         18.6000\n",
       "50%         30.0000\n",
       "75%         42.2000\n",
       "max        409.7000\n",
       "Name: living_area, dtype: float64"
      ]
     },
     "execution_count": 13,
     "metadata": {},
     "output_type": "execute_result"
    }
   ],
   "source": [
    "df['living_area'].describe()"
   ]
  },
  {
   "cell_type": "code",
   "execution_count": 14,
   "metadata": {},
   "outputs": [
    {
     "name": "stdout",
     "output_type": "stream",
     "text": [
      "23493\n",
      "6198\n"
     ]
    }
   ],
   "source": [
    "# код ревьюера\n",
    "print(len(df))\n",
    "print(len(df[df['living_area'] < 20]))"
   ]
  },
  {
   "cell_type": "code",
   "execution_count": 15,
   "metadata": {},
   "outputs": [
    {
     "data": {
      "text/plain": [
       "1861"
      ]
     },
     "execution_count": 15,
     "metadata": {},
     "output_type": "execute_result"
    }
   ],
   "source": [
    "df.living_area.isna().sum()"
   ]
  },
  {
   "cell_type": "code",
   "execution_count": 16,
   "metadata": {},
   "outputs": [
    {
     "data": {
      "text/plain": [
       "0"
      ]
     },
     "execution_count": 16,
     "metadata": {},
     "output_type": "execute_result"
    }
   ],
   "source": [
    "for room in df['rooms'].unique():\n",
    "    median = df.loc[df['rooms'] == room, 'living_area'].median()\n",
    "    df.loc[(df['living_area'].isna()) & (df['rooms'] == room),'living_area'] = median\n",
    "df.living_area.isna().sum()"
   ]
  },
  {
   "cell_type": "code",
   "execution_count": 17,
   "metadata": {},
   "outputs": [
    {
     "name": "stdout",
     "output_type": "stream",
     "text": [
      "Комнат:3, медиана:9.5\n",
      "Комнат:1, медиана:9.004999999999999\n",
      "Комнат:2, медиана:8.7\n",
      "Комнат:4, медиана:11.05\n",
      "Комнат:5, медиана:15.0\n",
      "Комнат:6, медиана:19.5\n",
      "Комнат:0, медиана:nan\n",
      "Комнат:7, медиана:19.75\n",
      "Комнат:11, медиана:12.600000000000001\n",
      "Комнат:8, медиана:25.0\n",
      "Комнат:14, медиана:21.25\n",
      "Комнат:10, медиана:19.8\n",
      "Комнат:15, медиана:100.0\n",
      "Комнат:9, медиана:14.3\n",
      "Комнат:19, медиана:27.6\n",
      "Комнат:16, медиана:13.0\n",
      "Комнат:12, медиана:112.0\n",
      "Пропуски в столбце площадь кухни: 192\n"
     ]
    }
   ],
   "source": [
    "for rooms in df['rooms'].unique():\n",
    "    median = df.loc[df['rooms'] == rooms, 'kitchen_area'].median()\n",
    "    print(f'Комнат:{rooms}, медиана:{median}')\n",
    "    df.loc[(df['kitchen_area'].isna()) & (df['rooms'] == rooms),'kitchen_area'] = median\n",
    "print(f'Пропуски в столбце площадь кухни: {df.kitchen_area.isna().sum()}')"
   ]
  },
  {
   "cell_type": "markdown",
   "metadata": {},
   "source": [
    "Еще у нас остался столбец с датой, тип которого определился, как object. Исправим это:"
   ]
  },
  {
   "cell_type": "code",
   "execution_count": 18,
   "metadata": {},
   "outputs": [
    {
     "data": {
      "text/html": [
       "<div>\n",
       "<style scoped>\n",
       "    .dataframe tbody tr th:only-of-type {\n",
       "        vertical-align: middle;\n",
       "    }\n",
       "\n",
       "    .dataframe tbody tr th {\n",
       "        vertical-align: top;\n",
       "    }\n",
       "\n",
       "    .dataframe thead th {\n",
       "        text-align: right;\n",
       "    }\n",
       "</style>\n",
       "<table border=\"1\" class=\"dataframe\">\n",
       "  <thead>\n",
       "    <tr style=\"text-align: right;\">\n",
       "      <th></th>\n",
       "      <th>index</th>\n",
       "      <th>total_images</th>\n",
       "      <th>last_price</th>\n",
       "      <th>total_area</th>\n",
       "      <th>first_day_exposition</th>\n",
       "      <th>rooms</th>\n",
       "      <th>ceiling_height</th>\n",
       "      <th>floors_total</th>\n",
       "      <th>living_area</th>\n",
       "      <th>floor</th>\n",
       "      <th>...</th>\n",
       "      <th>kitchen_area</th>\n",
       "      <th>balcony</th>\n",
       "      <th>locality_name</th>\n",
       "      <th>airports_nearest</th>\n",
       "      <th>city_сenters_nearest</th>\n",
       "      <th>parks_around_3000</th>\n",
       "      <th>parks_nearest</th>\n",
       "      <th>ponds_around_3000</th>\n",
       "      <th>ponds_nearest</th>\n",
       "      <th>days_exposition</th>\n",
       "    </tr>\n",
       "  </thead>\n",
       "  <tbody>\n",
       "    <tr>\n",
       "      <th>0</th>\n",
       "      <td>0</td>\n",
       "      <td>20</td>\n",
       "      <td>13000000.0</td>\n",
       "      <td>108.00</td>\n",
       "      <td>2019-03-07</td>\n",
       "      <td>3</td>\n",
       "      <td>2.70</td>\n",
       "      <td>16</td>\n",
       "      <td>51.0</td>\n",
       "      <td>8</td>\n",
       "      <td>...</td>\n",
       "      <td>25.00</td>\n",
       "      <td>0</td>\n",
       "      <td>Санкт-Петербург</td>\n",
       "      <td>18863.0</td>\n",
       "      <td>16028.0</td>\n",
       "      <td>1</td>\n",
       "      <td>482.0</td>\n",
       "      <td>2</td>\n",
       "      <td>755.0</td>\n",
       "      <td>NaN</td>\n",
       "    </tr>\n",
       "    <tr>\n",
       "      <th>1</th>\n",
       "      <td>1</td>\n",
       "      <td>7</td>\n",
       "      <td>3350000.0</td>\n",
       "      <td>40.40</td>\n",
       "      <td>2018-12-04</td>\n",
       "      <td>1</td>\n",
       "      <td>2.65</td>\n",
       "      <td>11</td>\n",
       "      <td>18.6</td>\n",
       "      <td>1</td>\n",
       "      <td>...</td>\n",
       "      <td>11.00</td>\n",
       "      <td>2</td>\n",
       "      <td>посёлок Шушары</td>\n",
       "      <td>12817.0</td>\n",
       "      <td>18603.0</td>\n",
       "      <td>0</td>\n",
       "      <td>NaN</td>\n",
       "      <td>0</td>\n",
       "      <td>NaN</td>\n",
       "      <td>81.0</td>\n",
       "    </tr>\n",
       "    <tr>\n",
       "      <th>2</th>\n",
       "      <td>2</td>\n",
       "      <td>10</td>\n",
       "      <td>5196000.0</td>\n",
       "      <td>56.00</td>\n",
       "      <td>2015-08-20</td>\n",
       "      <td>2</td>\n",
       "      <td>2.65</td>\n",
       "      <td>5</td>\n",
       "      <td>34.3</td>\n",
       "      <td>4</td>\n",
       "      <td>...</td>\n",
       "      <td>8.30</td>\n",
       "      <td>0</td>\n",
       "      <td>Санкт-Петербург</td>\n",
       "      <td>21741.0</td>\n",
       "      <td>13933.0</td>\n",
       "      <td>1</td>\n",
       "      <td>90.0</td>\n",
       "      <td>2</td>\n",
       "      <td>574.0</td>\n",
       "      <td>558.0</td>\n",
       "    </tr>\n",
       "    <tr>\n",
       "      <th>3</th>\n",
       "      <td>3</td>\n",
       "      <td>0</td>\n",
       "      <td>64900000.0</td>\n",
       "      <td>159.00</td>\n",
       "      <td>2015-07-24</td>\n",
       "      <td>3</td>\n",
       "      <td>2.65</td>\n",
       "      <td>14</td>\n",
       "      <td>45.0</td>\n",
       "      <td>9</td>\n",
       "      <td>...</td>\n",
       "      <td>9.50</td>\n",
       "      <td>0</td>\n",
       "      <td>Санкт-Петербург</td>\n",
       "      <td>28098.0</td>\n",
       "      <td>6800.0</td>\n",
       "      <td>2</td>\n",
       "      <td>84.0</td>\n",
       "      <td>3</td>\n",
       "      <td>234.0</td>\n",
       "      <td>424.0</td>\n",
       "    </tr>\n",
       "    <tr>\n",
       "      <th>4</th>\n",
       "      <td>4</td>\n",
       "      <td>2</td>\n",
       "      <td>10000000.0</td>\n",
       "      <td>100.00</td>\n",
       "      <td>2018-06-19</td>\n",
       "      <td>2</td>\n",
       "      <td>3.03</td>\n",
       "      <td>14</td>\n",
       "      <td>32.0</td>\n",
       "      <td>13</td>\n",
       "      <td>...</td>\n",
       "      <td>41.00</td>\n",
       "      <td>0</td>\n",
       "      <td>Санкт-Петербург</td>\n",
       "      <td>31856.0</td>\n",
       "      <td>8098.0</td>\n",
       "      <td>2</td>\n",
       "      <td>112.0</td>\n",
       "      <td>1</td>\n",
       "      <td>48.0</td>\n",
       "      <td>121.0</td>\n",
       "    </tr>\n",
       "    <tr>\n",
       "      <th>...</th>\n",
       "      <td>...</td>\n",
       "      <td>...</td>\n",
       "      <td>...</td>\n",
       "      <td>...</td>\n",
       "      <td>...</td>\n",
       "      <td>...</td>\n",
       "      <td>...</td>\n",
       "      <td>...</td>\n",
       "      <td>...</td>\n",
       "      <td>...</td>\n",
       "      <td>...</td>\n",
       "      <td>...</td>\n",
       "      <td>...</td>\n",
       "      <td>...</td>\n",
       "      <td>...</td>\n",
       "      <td>...</td>\n",
       "      <td>...</td>\n",
       "      <td>...</td>\n",
       "      <td>...</td>\n",
       "      <td>...</td>\n",
       "      <td>...</td>\n",
       "    </tr>\n",
       "    <tr>\n",
       "      <th>23488</th>\n",
       "      <td>23694</td>\n",
       "      <td>9</td>\n",
       "      <td>9700000.0</td>\n",
       "      <td>133.81</td>\n",
       "      <td>2017-03-21</td>\n",
       "      <td>3</td>\n",
       "      <td>3.70</td>\n",
       "      <td>5</td>\n",
       "      <td>73.3</td>\n",
       "      <td>3</td>\n",
       "      <td>...</td>\n",
       "      <td>13.83</td>\n",
       "      <td>0</td>\n",
       "      <td>Санкт-Петербург</td>\n",
       "      <td>24665.0</td>\n",
       "      <td>4232.0</td>\n",
       "      <td>1</td>\n",
       "      <td>796.0</td>\n",
       "      <td>3</td>\n",
       "      <td>381.0</td>\n",
       "      <td>NaN</td>\n",
       "    </tr>\n",
       "    <tr>\n",
       "      <th>23489</th>\n",
       "      <td>23695</td>\n",
       "      <td>14</td>\n",
       "      <td>3100000.0</td>\n",
       "      <td>59.00</td>\n",
       "      <td>2018-01-15</td>\n",
       "      <td>3</td>\n",
       "      <td>2.65</td>\n",
       "      <td>5</td>\n",
       "      <td>38.0</td>\n",
       "      <td>4</td>\n",
       "      <td>...</td>\n",
       "      <td>8.50</td>\n",
       "      <td>0</td>\n",
       "      <td>Тосно</td>\n",
       "      <td>NaN</td>\n",
       "      <td>NaN</td>\n",
       "      <td>0</td>\n",
       "      <td>NaN</td>\n",
       "      <td>0</td>\n",
       "      <td>NaN</td>\n",
       "      <td>45.0</td>\n",
       "    </tr>\n",
       "    <tr>\n",
       "      <th>23490</th>\n",
       "      <td>23696</td>\n",
       "      <td>18</td>\n",
       "      <td>2500000.0</td>\n",
       "      <td>56.70</td>\n",
       "      <td>2018-02-11</td>\n",
       "      <td>2</td>\n",
       "      <td>2.65</td>\n",
       "      <td>3</td>\n",
       "      <td>29.7</td>\n",
       "      <td>1</td>\n",
       "      <td>...</td>\n",
       "      <td>8.70</td>\n",
       "      <td>0</td>\n",
       "      <td>село Рождествено</td>\n",
       "      <td>NaN</td>\n",
       "      <td>NaN</td>\n",
       "      <td>0</td>\n",
       "      <td>NaN</td>\n",
       "      <td>0</td>\n",
       "      <td>NaN</td>\n",
       "      <td>NaN</td>\n",
       "    </tr>\n",
       "    <tr>\n",
       "      <th>23491</th>\n",
       "      <td>23697</td>\n",
       "      <td>13</td>\n",
       "      <td>11475000.0</td>\n",
       "      <td>76.75</td>\n",
       "      <td>2017-03-28</td>\n",
       "      <td>2</td>\n",
       "      <td>3.00</td>\n",
       "      <td>17</td>\n",
       "      <td>30.5</td>\n",
       "      <td>12</td>\n",
       "      <td>...</td>\n",
       "      <td>23.30</td>\n",
       "      <td>2</td>\n",
       "      <td>Санкт-Петербург</td>\n",
       "      <td>39140.0</td>\n",
       "      <td>10364.0</td>\n",
       "      <td>2</td>\n",
       "      <td>173.0</td>\n",
       "      <td>3</td>\n",
       "      <td>196.0</td>\n",
       "      <td>602.0</td>\n",
       "    </tr>\n",
       "    <tr>\n",
       "      <th>23492</th>\n",
       "      <td>23698</td>\n",
       "      <td>4</td>\n",
       "      <td>1350000.0</td>\n",
       "      <td>32.30</td>\n",
       "      <td>2017-07-21</td>\n",
       "      <td>1</td>\n",
       "      <td>2.50</td>\n",
       "      <td>5</td>\n",
       "      <td>12.3</td>\n",
       "      <td>1</td>\n",
       "      <td>...</td>\n",
       "      <td>9.00</td>\n",
       "      <td>0</td>\n",
       "      <td>поселок Новый Учхоз</td>\n",
       "      <td>NaN</td>\n",
       "      <td>NaN</td>\n",
       "      <td>0</td>\n",
       "      <td>NaN</td>\n",
       "      <td>0</td>\n",
       "      <td>NaN</td>\n",
       "      <td>NaN</td>\n",
       "    </tr>\n",
       "  </tbody>\n",
       "</table>\n",
       "<p>23493 rows × 22 columns</p>\n",
       "</div>"
      ],
      "text/plain": [
       "       index  total_images  last_price  total_area first_day_exposition  \\\n",
       "0          0            20  13000000.0      108.00           2019-03-07   \n",
       "1          1             7   3350000.0       40.40           2018-12-04   \n",
       "2          2            10   5196000.0       56.00           2015-08-20   \n",
       "3          3             0  64900000.0      159.00           2015-07-24   \n",
       "4          4             2  10000000.0      100.00           2018-06-19   \n",
       "...      ...           ...         ...         ...                  ...   \n",
       "23488  23694             9   9700000.0      133.81           2017-03-21   \n",
       "23489  23695            14   3100000.0       59.00           2018-01-15   \n",
       "23490  23696            18   2500000.0       56.70           2018-02-11   \n",
       "23491  23697            13  11475000.0       76.75           2017-03-28   \n",
       "23492  23698             4   1350000.0       32.30           2017-07-21   \n",
       "\n",
       "       rooms  ceiling_height  floors_total  living_area  floor  ...  \\\n",
       "0          3            2.70            16         51.0      8  ...   \n",
       "1          1            2.65            11         18.6      1  ...   \n",
       "2          2            2.65             5         34.3      4  ...   \n",
       "3          3            2.65            14         45.0      9  ...   \n",
       "4          2            3.03            14         32.0     13  ...   \n",
       "...      ...             ...           ...          ...    ...  ...   \n",
       "23488      3            3.70             5         73.3      3  ...   \n",
       "23489      3            2.65             5         38.0      4  ...   \n",
       "23490      2            2.65             3         29.7      1  ...   \n",
       "23491      2            3.00            17         30.5     12  ...   \n",
       "23492      1            2.50             5         12.3      1  ...   \n",
       "\n",
       "       kitchen_area  balcony        locality_name  airports_nearest  \\\n",
       "0             25.00        0      Санкт-Петербург           18863.0   \n",
       "1             11.00        2       посёлок Шушары           12817.0   \n",
       "2              8.30        0      Санкт-Петербург           21741.0   \n",
       "3              9.50        0      Санкт-Петербург           28098.0   \n",
       "4             41.00        0      Санкт-Петербург           31856.0   \n",
       "...             ...      ...                  ...               ...   \n",
       "23488         13.83        0      Санкт-Петербург           24665.0   \n",
       "23489          8.50        0                Тосно               NaN   \n",
       "23490          8.70        0     село Рождествено               NaN   \n",
       "23491         23.30        2      Санкт-Петербург           39140.0   \n",
       "23492          9.00        0  поселок Новый Учхоз               NaN   \n",
       "\n",
       "      city_сenters_nearest  parks_around_3000  parks_nearest  \\\n",
       "0                  16028.0                  1          482.0   \n",
       "1                  18603.0                  0            NaN   \n",
       "2                  13933.0                  1           90.0   \n",
       "3                   6800.0                  2           84.0   \n",
       "4                   8098.0                  2          112.0   \n",
       "...                    ...                ...            ...   \n",
       "23488               4232.0                  1          796.0   \n",
       "23489                  NaN                  0            NaN   \n",
       "23490                  NaN                  0            NaN   \n",
       "23491              10364.0                  2          173.0   \n",
       "23492                  NaN                  0            NaN   \n",
       "\n",
       "       ponds_around_3000  ponds_nearest  days_exposition  \n",
       "0                      2          755.0              NaN  \n",
       "1                      0            NaN             81.0  \n",
       "2                      2          574.0            558.0  \n",
       "3                      3          234.0            424.0  \n",
       "4                      1           48.0            121.0  \n",
       "...                  ...            ...              ...  \n",
       "23488                  3          381.0              NaN  \n",
       "23489                  0            NaN             45.0  \n",
       "23490                  0            NaN              NaN  \n",
       "23491                  3          196.0            602.0  \n",
       "23492                  0            NaN              NaN  \n",
       "\n",
       "[23493 rows x 22 columns]"
      ]
     },
     "execution_count": 18,
     "metadata": {},
     "output_type": "execute_result"
    }
   ],
   "source": [
    "df['first_day_exposition'] = pd.to_datetime(df['first_day_exposition'], format='%Y%m%dT%H:%M:%S')\n",
    "df"
   ]
  },
  {
   "cell_type": "code",
   "execution_count": 19,
   "metadata": {},
   "outputs": [
    {
     "name": "stdout",
     "output_type": "stream",
     "text": [
      "<class 'pandas.core.frame.DataFrame'>\n",
      "RangeIndex: 23493 entries, 0 to 23492\n",
      "Data columns (total 22 columns):\n",
      " #   Column                Non-Null Count  Dtype         \n",
      "---  ------                --------------  -----         \n",
      " 0   index                 23493 non-null  int64         \n",
      " 1   total_images          23493 non-null  int64         \n",
      " 2   last_price            23493 non-null  float64       \n",
      " 3   total_area            23493 non-null  float64       \n",
      " 4   first_day_exposition  23493 non-null  datetime64[ns]\n",
      " 5   rooms                 23493 non-null  int64         \n",
      " 6   ceiling_height        23493 non-null  float64       \n",
      " 7   floors_total          23493 non-null  int32         \n",
      " 8   living_area           23493 non-null  float64       \n",
      " 9   floor                 23493 non-null  int64         \n",
      " 10  studio                23493 non-null  bool          \n",
      " 11  open_plan             23493 non-null  bool          \n",
      " 12  kitchen_area          23301 non-null  float64       \n",
      " 13  balcony               23493 non-null  int32         \n",
      " 14  locality_name         23493 non-null  object        \n",
      " 15  airports_nearest      17987 non-null  float64       \n",
      " 16  city_сenters_nearest  18007 non-null  float64       \n",
      " 17  parks_around_3000     23493 non-null  int32         \n",
      " 18  parks_nearest         7997 non-null   float64       \n",
      " 19  ponds_around_3000     23493 non-null  int32         \n",
      " 20  ponds_nearest         9001 non-null   float64       \n",
      " 21  days_exposition       20336 non-null  float64       \n",
      "dtypes: bool(2), datetime64[ns](1), float64(10), int32(4), int64(4), object(1)\n",
      "memory usage: 3.3+ MB\n"
     ]
    }
   ],
   "source": [
    "df.info()"
   ]
  },
  {
   "cell_type": "markdown",
   "metadata": {},
   "source": [
    "### Вывод"
   ]
  },
  {
   "cell_type": "markdown",
   "metadata": {},
   "source": [
    "Все выявленные аномалии в данных были обработаны, пропуски заполнены, логика заполнения по каждому описана.\n",
    "\n",
    "В оставшихся столбцах: airports_nearest , city_сenters_nearest , parks_nearest , ponds_nearest , days_exposition - обрабатывать пропущенные значения не будем, оставим Nan, чтобы не исказить статистики и в будущем иметь возможность работать с ними как с числовыми столбцами. Для этих столбцов нет подходящего значения на замену."
   ]
  },
  {
   "cell_type": "markdown",
   "metadata": {},
   "source": [
    "## Расчёты и добавление результатов в таблицу"
   ]
  },
  {
   "cell_type": "markdown",
   "metadata": {},
   "source": [
    "Посчитаем и добавим в таблицу цену квадратного метра."
   ]
  },
  {
   "cell_type": "code",
   "execution_count": 20,
   "metadata": {},
   "outputs": [
    {
     "data": {
      "text/html": [
       "<div>\n",
       "<style scoped>\n",
       "    .dataframe tbody tr th:only-of-type {\n",
       "        vertical-align: middle;\n",
       "    }\n",
       "\n",
       "    .dataframe tbody tr th {\n",
       "        vertical-align: top;\n",
       "    }\n",
       "\n",
       "    .dataframe thead th {\n",
       "        text-align: right;\n",
       "    }\n",
       "</style>\n",
       "<table border=\"1\" class=\"dataframe\">\n",
       "  <thead>\n",
       "    <tr style=\"text-align: right;\">\n",
       "      <th></th>\n",
       "      <th>index</th>\n",
       "      <th>total_images</th>\n",
       "      <th>last_price</th>\n",
       "      <th>total_area</th>\n",
       "      <th>first_day_exposition</th>\n",
       "      <th>rooms</th>\n",
       "      <th>ceiling_height</th>\n",
       "      <th>floors_total</th>\n",
       "      <th>living_area</th>\n",
       "      <th>floor</th>\n",
       "      <th>...</th>\n",
       "      <th>balcony</th>\n",
       "      <th>locality_name</th>\n",
       "      <th>airports_nearest</th>\n",
       "      <th>city_сenters_nearest</th>\n",
       "      <th>parks_around_3000</th>\n",
       "      <th>parks_nearest</th>\n",
       "      <th>ponds_around_3000</th>\n",
       "      <th>ponds_nearest</th>\n",
       "      <th>days_exposition</th>\n",
       "      <th>price_for_sq_meter</th>\n",
       "    </tr>\n",
       "  </thead>\n",
       "  <tbody>\n",
       "    <tr>\n",
       "      <th>0</th>\n",
       "      <td>0</td>\n",
       "      <td>20</td>\n",
       "      <td>13000000.0</td>\n",
       "      <td>108.0</td>\n",
       "      <td>2019-03-07</td>\n",
       "      <td>3</td>\n",
       "      <td>2.70</td>\n",
       "      <td>16</td>\n",
       "      <td>51.0</td>\n",
       "      <td>8</td>\n",
       "      <td>...</td>\n",
       "      <td>0</td>\n",
       "      <td>Санкт-Петербург</td>\n",
       "      <td>18863.0</td>\n",
       "      <td>16028.0</td>\n",
       "      <td>1</td>\n",
       "      <td>482.0</td>\n",
       "      <td>2</td>\n",
       "      <td>755.0</td>\n",
       "      <td>NaN</td>\n",
       "      <td>120370</td>\n",
       "    </tr>\n",
       "    <tr>\n",
       "      <th>1</th>\n",
       "      <td>1</td>\n",
       "      <td>7</td>\n",
       "      <td>3350000.0</td>\n",
       "      <td>40.4</td>\n",
       "      <td>2018-12-04</td>\n",
       "      <td>1</td>\n",
       "      <td>2.65</td>\n",
       "      <td>11</td>\n",
       "      <td>18.6</td>\n",
       "      <td>1</td>\n",
       "      <td>...</td>\n",
       "      <td>2</td>\n",
       "      <td>посёлок Шушары</td>\n",
       "      <td>12817.0</td>\n",
       "      <td>18603.0</td>\n",
       "      <td>0</td>\n",
       "      <td>NaN</td>\n",
       "      <td>0</td>\n",
       "      <td>NaN</td>\n",
       "      <td>81.0</td>\n",
       "      <td>82920</td>\n",
       "    </tr>\n",
       "    <tr>\n",
       "      <th>2</th>\n",
       "      <td>2</td>\n",
       "      <td>10</td>\n",
       "      <td>5196000.0</td>\n",
       "      <td>56.0</td>\n",
       "      <td>2015-08-20</td>\n",
       "      <td>2</td>\n",
       "      <td>2.65</td>\n",
       "      <td>5</td>\n",
       "      <td>34.3</td>\n",
       "      <td>4</td>\n",
       "      <td>...</td>\n",
       "      <td>0</td>\n",
       "      <td>Санкт-Петербург</td>\n",
       "      <td>21741.0</td>\n",
       "      <td>13933.0</td>\n",
       "      <td>1</td>\n",
       "      <td>90.0</td>\n",
       "      <td>2</td>\n",
       "      <td>574.0</td>\n",
       "      <td>558.0</td>\n",
       "      <td>92785</td>\n",
       "    </tr>\n",
       "    <tr>\n",
       "      <th>3</th>\n",
       "      <td>3</td>\n",
       "      <td>0</td>\n",
       "      <td>64900000.0</td>\n",
       "      <td>159.0</td>\n",
       "      <td>2015-07-24</td>\n",
       "      <td>3</td>\n",
       "      <td>2.65</td>\n",
       "      <td>14</td>\n",
       "      <td>45.0</td>\n",
       "      <td>9</td>\n",
       "      <td>...</td>\n",
       "      <td>0</td>\n",
       "      <td>Санкт-Петербург</td>\n",
       "      <td>28098.0</td>\n",
       "      <td>6800.0</td>\n",
       "      <td>2</td>\n",
       "      <td>84.0</td>\n",
       "      <td>3</td>\n",
       "      <td>234.0</td>\n",
       "      <td>424.0</td>\n",
       "      <td>408176</td>\n",
       "    </tr>\n",
       "    <tr>\n",
       "      <th>4</th>\n",
       "      <td>4</td>\n",
       "      <td>2</td>\n",
       "      <td>10000000.0</td>\n",
       "      <td>100.0</td>\n",
       "      <td>2018-06-19</td>\n",
       "      <td>2</td>\n",
       "      <td>3.03</td>\n",
       "      <td>14</td>\n",
       "      <td>32.0</td>\n",
       "      <td>13</td>\n",
       "      <td>...</td>\n",
       "      <td>0</td>\n",
       "      <td>Санкт-Петербург</td>\n",
       "      <td>31856.0</td>\n",
       "      <td>8098.0</td>\n",
       "      <td>2</td>\n",
       "      <td>112.0</td>\n",
       "      <td>1</td>\n",
       "      <td>48.0</td>\n",
       "      <td>121.0</td>\n",
       "      <td>100000</td>\n",
       "    </tr>\n",
       "  </tbody>\n",
       "</table>\n",
       "<p>5 rows × 23 columns</p>\n",
       "</div>"
      ],
      "text/plain": [
       "   index  total_images  last_price  total_area first_day_exposition  rooms  \\\n",
       "0      0            20  13000000.0       108.0           2019-03-07      3   \n",
       "1      1             7   3350000.0        40.4           2018-12-04      1   \n",
       "2      2            10   5196000.0        56.0           2015-08-20      2   \n",
       "3      3             0  64900000.0       159.0           2015-07-24      3   \n",
       "4      4             2  10000000.0       100.0           2018-06-19      2   \n",
       "\n",
       "   ceiling_height  floors_total  living_area  floor  ...  balcony  \\\n",
       "0            2.70            16         51.0      8  ...        0   \n",
       "1            2.65            11         18.6      1  ...        2   \n",
       "2            2.65             5         34.3      4  ...        0   \n",
       "3            2.65            14         45.0      9  ...        0   \n",
       "4            3.03            14         32.0     13  ...        0   \n",
       "\n",
       "     locality_name  airports_nearest  city_сenters_nearest parks_around_3000  \\\n",
       "0  Санкт-Петербург           18863.0               16028.0                 1   \n",
       "1   посёлок Шушары           12817.0               18603.0                 0   \n",
       "2  Санкт-Петербург           21741.0               13933.0                 1   \n",
       "3  Санкт-Петербург           28098.0                6800.0                 2   \n",
       "4  Санкт-Петербург           31856.0                8098.0                 2   \n",
       "\n",
       "   parks_nearest  ponds_around_3000  ponds_nearest  days_exposition  \\\n",
       "0          482.0                  2          755.0              NaN   \n",
       "1            NaN                  0            NaN             81.0   \n",
       "2           90.0                  2          574.0            558.0   \n",
       "3           84.0                  3          234.0            424.0   \n",
       "4          112.0                  1           48.0            121.0   \n",
       "\n",
       "   price_for_sq_meter  \n",
       "0              120370  \n",
       "1               82920  \n",
       "2               92785  \n",
       "3              408176  \n",
       "4              100000  \n",
       "\n",
       "[5 rows x 23 columns]"
      ]
     },
     "execution_count": 20,
     "metadata": {},
     "output_type": "execute_result"
    }
   ],
   "source": [
    "df['price_for_sq_meter'] = (df['last_price'] / df['total_area']).astype(int)\n",
    "df.head()"
   ]
  },
  {
   "cell_type": "markdown",
   "metadata": {},
   "source": [
    "Добавим столбцы с днем недели, месяцем и годом:"
   ]
  },
  {
   "cell_type": "code",
   "execution_count": 21,
   "metadata": {},
   "outputs": [
    {
     "data": {
      "text/html": [
       "<div>\n",
       "<style scoped>\n",
       "    .dataframe tbody tr th:only-of-type {\n",
       "        vertical-align: middle;\n",
       "    }\n",
       "\n",
       "    .dataframe tbody tr th {\n",
       "        vertical-align: top;\n",
       "    }\n",
       "\n",
       "    .dataframe thead th {\n",
       "        text-align: right;\n",
       "    }\n",
       "</style>\n",
       "<table border=\"1\" class=\"dataframe\">\n",
       "  <thead>\n",
       "    <tr style=\"text-align: right;\">\n",
       "      <th></th>\n",
       "      <th>index</th>\n",
       "      <th>total_images</th>\n",
       "      <th>last_price</th>\n",
       "      <th>total_area</th>\n",
       "      <th>first_day_exposition</th>\n",
       "      <th>rooms</th>\n",
       "      <th>ceiling_height</th>\n",
       "      <th>floors_total</th>\n",
       "      <th>living_area</th>\n",
       "      <th>floor</th>\n",
       "      <th>...</th>\n",
       "      <th>city_сenters_nearest</th>\n",
       "      <th>parks_around_3000</th>\n",
       "      <th>parks_nearest</th>\n",
       "      <th>ponds_around_3000</th>\n",
       "      <th>ponds_nearest</th>\n",
       "      <th>days_exposition</th>\n",
       "      <th>price_for_sq_meter</th>\n",
       "      <th>weekday</th>\n",
       "      <th>month</th>\n",
       "      <th>year</th>\n",
       "    </tr>\n",
       "  </thead>\n",
       "  <tbody>\n",
       "    <tr>\n",
       "      <th>0</th>\n",
       "      <td>0</td>\n",
       "      <td>20</td>\n",
       "      <td>13000000.0</td>\n",
       "      <td>108.0</td>\n",
       "      <td>2019-03-07</td>\n",
       "      <td>3</td>\n",
       "      <td>2.70</td>\n",
       "      <td>16</td>\n",
       "      <td>51.0</td>\n",
       "      <td>8</td>\n",
       "      <td>...</td>\n",
       "      <td>16028.0</td>\n",
       "      <td>1</td>\n",
       "      <td>482.0</td>\n",
       "      <td>2</td>\n",
       "      <td>755.0</td>\n",
       "      <td>NaN</td>\n",
       "      <td>120370</td>\n",
       "      <td>3</td>\n",
       "      <td>3</td>\n",
       "      <td>2019</td>\n",
       "    </tr>\n",
       "    <tr>\n",
       "      <th>1</th>\n",
       "      <td>1</td>\n",
       "      <td>7</td>\n",
       "      <td>3350000.0</td>\n",
       "      <td>40.4</td>\n",
       "      <td>2018-12-04</td>\n",
       "      <td>1</td>\n",
       "      <td>2.65</td>\n",
       "      <td>11</td>\n",
       "      <td>18.6</td>\n",
       "      <td>1</td>\n",
       "      <td>...</td>\n",
       "      <td>18603.0</td>\n",
       "      <td>0</td>\n",
       "      <td>NaN</td>\n",
       "      <td>0</td>\n",
       "      <td>NaN</td>\n",
       "      <td>81.0</td>\n",
       "      <td>82920</td>\n",
       "      <td>1</td>\n",
       "      <td>12</td>\n",
       "      <td>2018</td>\n",
       "    </tr>\n",
       "    <tr>\n",
       "      <th>2</th>\n",
       "      <td>2</td>\n",
       "      <td>10</td>\n",
       "      <td>5196000.0</td>\n",
       "      <td>56.0</td>\n",
       "      <td>2015-08-20</td>\n",
       "      <td>2</td>\n",
       "      <td>2.65</td>\n",
       "      <td>5</td>\n",
       "      <td>34.3</td>\n",
       "      <td>4</td>\n",
       "      <td>...</td>\n",
       "      <td>13933.0</td>\n",
       "      <td>1</td>\n",
       "      <td>90.0</td>\n",
       "      <td>2</td>\n",
       "      <td>574.0</td>\n",
       "      <td>558.0</td>\n",
       "      <td>92785</td>\n",
       "      <td>3</td>\n",
       "      <td>8</td>\n",
       "      <td>2015</td>\n",
       "    </tr>\n",
       "    <tr>\n",
       "      <th>3</th>\n",
       "      <td>3</td>\n",
       "      <td>0</td>\n",
       "      <td>64900000.0</td>\n",
       "      <td>159.0</td>\n",
       "      <td>2015-07-24</td>\n",
       "      <td>3</td>\n",
       "      <td>2.65</td>\n",
       "      <td>14</td>\n",
       "      <td>45.0</td>\n",
       "      <td>9</td>\n",
       "      <td>...</td>\n",
       "      <td>6800.0</td>\n",
       "      <td>2</td>\n",
       "      <td>84.0</td>\n",
       "      <td>3</td>\n",
       "      <td>234.0</td>\n",
       "      <td>424.0</td>\n",
       "      <td>408176</td>\n",
       "      <td>4</td>\n",
       "      <td>7</td>\n",
       "      <td>2015</td>\n",
       "    </tr>\n",
       "    <tr>\n",
       "      <th>4</th>\n",
       "      <td>4</td>\n",
       "      <td>2</td>\n",
       "      <td>10000000.0</td>\n",
       "      <td>100.0</td>\n",
       "      <td>2018-06-19</td>\n",
       "      <td>2</td>\n",
       "      <td>3.03</td>\n",
       "      <td>14</td>\n",
       "      <td>32.0</td>\n",
       "      <td>13</td>\n",
       "      <td>...</td>\n",
       "      <td>8098.0</td>\n",
       "      <td>2</td>\n",
       "      <td>112.0</td>\n",
       "      <td>1</td>\n",
       "      <td>48.0</td>\n",
       "      <td>121.0</td>\n",
       "      <td>100000</td>\n",
       "      <td>1</td>\n",
       "      <td>6</td>\n",
       "      <td>2018</td>\n",
       "    </tr>\n",
       "  </tbody>\n",
       "</table>\n",
       "<p>5 rows × 26 columns</p>\n",
       "</div>"
      ],
      "text/plain": [
       "   index  total_images  last_price  total_area first_day_exposition  rooms  \\\n",
       "0      0            20  13000000.0       108.0           2019-03-07      3   \n",
       "1      1             7   3350000.0        40.4           2018-12-04      1   \n",
       "2      2            10   5196000.0        56.0           2015-08-20      2   \n",
       "3      3             0  64900000.0       159.0           2015-07-24      3   \n",
       "4      4             2  10000000.0       100.0           2018-06-19      2   \n",
       "\n",
       "   ceiling_height  floors_total  living_area  floor  ...  \\\n",
       "0            2.70            16         51.0      8  ...   \n",
       "1            2.65            11         18.6      1  ...   \n",
       "2            2.65             5         34.3      4  ...   \n",
       "3            2.65            14         45.0      9  ...   \n",
       "4            3.03            14         32.0     13  ...   \n",
       "\n",
       "   city_сenters_nearest  parks_around_3000  parks_nearest  ponds_around_3000  \\\n",
       "0               16028.0                  1          482.0                  2   \n",
       "1               18603.0                  0            NaN                  0   \n",
       "2               13933.0                  1           90.0                  2   \n",
       "3                6800.0                  2           84.0                  3   \n",
       "4                8098.0                  2          112.0                  1   \n",
       "\n",
       "  ponds_nearest  days_exposition  price_for_sq_meter  weekday  month  year  \n",
       "0         755.0              NaN              120370        3      3  2019  \n",
       "1           NaN             81.0               82920        1     12  2018  \n",
       "2         574.0            558.0               92785        3      8  2015  \n",
       "3         234.0            424.0              408176        4      7  2015  \n",
       "4          48.0            121.0              100000        1      6  2018  \n",
       "\n",
       "[5 rows x 26 columns]"
      ]
     },
     "execution_count": 21,
     "metadata": {},
     "output_type": "execute_result"
    }
   ],
   "source": [
    "df['weekday'] = df['first_day_exposition'].dt.weekday\n",
    "df['month'] = df['first_day_exposition'].dt.month\n",
    "df['year'] = df['first_day_exposition'].dt.year\n",
    "df.head()"
   ]
  },
  {
   "cell_type": "markdown",
   "metadata": {},
   "source": [
    "Добавим cтолбец с этажом, распределив этажность по группам: первый, последний, другой."
   ]
  },
  {
   "cell_type": "code",
   "execution_count": 22,
   "metadata": {},
   "outputs": [
    {
     "data": {
      "text/plain": [
       "другой       17286\n",
       "последний     3304\n",
       "первый        2903\n",
       "Name: floor_group, dtype: int64"
      ]
     },
     "execution_count": 22,
     "metadata": {},
     "output_type": "execute_result"
    }
   ],
   "source": [
    "def apartment_floor(row):\n",
    "    if row['floor'] == 1:\n",
    "        return 'первый'\n",
    "    if row['floor'] == row['floors_total']:\n",
    "        return 'последний'\n",
    "    return 'другой'\n",
    "\n",
    "df['floor_group'] = df.apply(apartment_floor, axis=1)\n",
    "df.floor_group.value_counts() "
   ]
  },
  {
   "cell_type": "markdown",
   "metadata": {},
   "source": [
    "Добавим столбец с соотношением жилой площади к общей площади:"
   ]
  },
  {
   "cell_type": "code",
   "execution_count": 23,
   "metadata": {},
   "outputs": [
    {
     "data": {
      "text/html": [
       "<div>\n",
       "<style scoped>\n",
       "    .dataframe tbody tr th:only-of-type {\n",
       "        vertical-align: middle;\n",
       "    }\n",
       "\n",
       "    .dataframe tbody tr th {\n",
       "        vertical-align: top;\n",
       "    }\n",
       "\n",
       "    .dataframe thead th {\n",
       "        text-align: right;\n",
       "    }\n",
       "</style>\n",
       "<table border=\"1\" class=\"dataframe\">\n",
       "  <thead>\n",
       "    <tr style=\"text-align: right;\">\n",
       "      <th></th>\n",
       "      <th>index</th>\n",
       "      <th>total_images</th>\n",
       "      <th>last_price</th>\n",
       "      <th>total_area</th>\n",
       "      <th>first_day_exposition</th>\n",
       "      <th>rooms</th>\n",
       "      <th>ceiling_height</th>\n",
       "      <th>floors_total</th>\n",
       "      <th>living_area</th>\n",
       "      <th>floor</th>\n",
       "      <th>...</th>\n",
       "      <th>parks_nearest</th>\n",
       "      <th>ponds_around_3000</th>\n",
       "      <th>ponds_nearest</th>\n",
       "      <th>days_exposition</th>\n",
       "      <th>price_for_sq_meter</th>\n",
       "      <th>weekday</th>\n",
       "      <th>month</th>\n",
       "      <th>year</th>\n",
       "      <th>floor_group</th>\n",
       "      <th>part_living_to_total</th>\n",
       "    </tr>\n",
       "  </thead>\n",
       "  <tbody>\n",
       "    <tr>\n",
       "      <th>0</th>\n",
       "      <td>0</td>\n",
       "      <td>20</td>\n",
       "      <td>13000000.0</td>\n",
       "      <td>108.0</td>\n",
       "      <td>2019-03-07</td>\n",
       "      <td>3</td>\n",
       "      <td>2.70</td>\n",
       "      <td>16</td>\n",
       "      <td>51.0</td>\n",
       "      <td>8</td>\n",
       "      <td>...</td>\n",
       "      <td>482.0</td>\n",
       "      <td>2</td>\n",
       "      <td>755.0</td>\n",
       "      <td>NaN</td>\n",
       "      <td>120370</td>\n",
       "      <td>3</td>\n",
       "      <td>3</td>\n",
       "      <td>2019</td>\n",
       "      <td>другой</td>\n",
       "      <td>0.47</td>\n",
       "    </tr>\n",
       "    <tr>\n",
       "      <th>1</th>\n",
       "      <td>1</td>\n",
       "      <td>7</td>\n",
       "      <td>3350000.0</td>\n",
       "      <td>40.4</td>\n",
       "      <td>2018-12-04</td>\n",
       "      <td>1</td>\n",
       "      <td>2.65</td>\n",
       "      <td>11</td>\n",
       "      <td>18.6</td>\n",
       "      <td>1</td>\n",
       "      <td>...</td>\n",
       "      <td>NaN</td>\n",
       "      <td>0</td>\n",
       "      <td>NaN</td>\n",
       "      <td>81.0</td>\n",
       "      <td>82920</td>\n",
       "      <td>1</td>\n",
       "      <td>12</td>\n",
       "      <td>2018</td>\n",
       "      <td>первый</td>\n",
       "      <td>0.46</td>\n",
       "    </tr>\n",
       "    <tr>\n",
       "      <th>2</th>\n",
       "      <td>2</td>\n",
       "      <td>10</td>\n",
       "      <td>5196000.0</td>\n",
       "      <td>56.0</td>\n",
       "      <td>2015-08-20</td>\n",
       "      <td>2</td>\n",
       "      <td>2.65</td>\n",
       "      <td>5</td>\n",
       "      <td>34.3</td>\n",
       "      <td>4</td>\n",
       "      <td>...</td>\n",
       "      <td>90.0</td>\n",
       "      <td>2</td>\n",
       "      <td>574.0</td>\n",
       "      <td>558.0</td>\n",
       "      <td>92785</td>\n",
       "      <td>3</td>\n",
       "      <td>8</td>\n",
       "      <td>2015</td>\n",
       "      <td>другой</td>\n",
       "      <td>0.61</td>\n",
       "    </tr>\n",
       "    <tr>\n",
       "      <th>3</th>\n",
       "      <td>3</td>\n",
       "      <td>0</td>\n",
       "      <td>64900000.0</td>\n",
       "      <td>159.0</td>\n",
       "      <td>2015-07-24</td>\n",
       "      <td>3</td>\n",
       "      <td>2.65</td>\n",
       "      <td>14</td>\n",
       "      <td>45.0</td>\n",
       "      <td>9</td>\n",
       "      <td>...</td>\n",
       "      <td>84.0</td>\n",
       "      <td>3</td>\n",
       "      <td>234.0</td>\n",
       "      <td>424.0</td>\n",
       "      <td>408176</td>\n",
       "      <td>4</td>\n",
       "      <td>7</td>\n",
       "      <td>2015</td>\n",
       "      <td>другой</td>\n",
       "      <td>0.28</td>\n",
       "    </tr>\n",
       "    <tr>\n",
       "      <th>4</th>\n",
       "      <td>4</td>\n",
       "      <td>2</td>\n",
       "      <td>10000000.0</td>\n",
       "      <td>100.0</td>\n",
       "      <td>2018-06-19</td>\n",
       "      <td>2</td>\n",
       "      <td>3.03</td>\n",
       "      <td>14</td>\n",
       "      <td>32.0</td>\n",
       "      <td>13</td>\n",
       "      <td>...</td>\n",
       "      <td>112.0</td>\n",
       "      <td>1</td>\n",
       "      <td>48.0</td>\n",
       "      <td>121.0</td>\n",
       "      <td>100000</td>\n",
       "      <td>1</td>\n",
       "      <td>6</td>\n",
       "      <td>2018</td>\n",
       "      <td>другой</td>\n",
       "      <td>0.32</td>\n",
       "    </tr>\n",
       "  </tbody>\n",
       "</table>\n",
       "<p>5 rows × 28 columns</p>\n",
       "</div>"
      ],
      "text/plain": [
       "   index  total_images  last_price  total_area first_day_exposition  rooms  \\\n",
       "0      0            20  13000000.0       108.0           2019-03-07      3   \n",
       "1      1             7   3350000.0        40.4           2018-12-04      1   \n",
       "2      2            10   5196000.0        56.0           2015-08-20      2   \n",
       "3      3             0  64900000.0       159.0           2015-07-24      3   \n",
       "4      4             2  10000000.0       100.0           2018-06-19      2   \n",
       "\n",
       "   ceiling_height  floors_total  living_area  floor  ...  parks_nearest  \\\n",
       "0            2.70            16         51.0      8  ...          482.0   \n",
       "1            2.65            11         18.6      1  ...            NaN   \n",
       "2            2.65             5         34.3      4  ...           90.0   \n",
       "3            2.65            14         45.0      9  ...           84.0   \n",
       "4            3.03            14         32.0     13  ...          112.0   \n",
       "\n",
       "   ponds_around_3000  ponds_nearest  days_exposition price_for_sq_meter  \\\n",
       "0                  2          755.0              NaN             120370   \n",
       "1                  0            NaN             81.0              82920   \n",
       "2                  2          574.0            558.0              92785   \n",
       "3                  3          234.0            424.0             408176   \n",
       "4                  1           48.0            121.0             100000   \n",
       "\n",
       "   weekday  month  year  floor_group  part_living_to_total  \n",
       "0        3      3  2019       другой                  0.47  \n",
       "1        1     12  2018       первый                  0.46  \n",
       "2        3      8  2015       другой                  0.61  \n",
       "3        4      7  2015       другой                  0.28  \n",
       "4        1      6  2018       другой                  0.32  \n",
       "\n",
       "[5 rows x 28 columns]"
      ]
     },
     "execution_count": 23,
     "metadata": {},
     "output_type": "execute_result"
    }
   ],
   "source": [
    "df['part_living_to_total'] = (df.living_area / df.total_area).round(2)\n",
    "df.head()"
   ]
  },
  {
   "cell_type": "markdown",
   "metadata": {},
   "source": [
    "Добавим столбец с соотношением площади кухни к общей площади:"
   ]
  },
  {
   "cell_type": "code",
   "execution_count": 24,
   "metadata": {},
   "outputs": [
    {
     "data": {
      "text/html": [
       "<div>\n",
       "<style scoped>\n",
       "    .dataframe tbody tr th:only-of-type {\n",
       "        vertical-align: middle;\n",
       "    }\n",
       "\n",
       "    .dataframe tbody tr th {\n",
       "        vertical-align: top;\n",
       "    }\n",
       "\n",
       "    .dataframe thead th {\n",
       "        text-align: right;\n",
       "    }\n",
       "</style>\n",
       "<table border=\"1\" class=\"dataframe\">\n",
       "  <thead>\n",
       "    <tr style=\"text-align: right;\">\n",
       "      <th></th>\n",
       "      <th>index</th>\n",
       "      <th>total_images</th>\n",
       "      <th>last_price</th>\n",
       "      <th>total_area</th>\n",
       "      <th>first_day_exposition</th>\n",
       "      <th>rooms</th>\n",
       "      <th>ceiling_height</th>\n",
       "      <th>floors_total</th>\n",
       "      <th>living_area</th>\n",
       "      <th>floor</th>\n",
       "      <th>...</th>\n",
       "      <th>ponds_around_3000</th>\n",
       "      <th>ponds_nearest</th>\n",
       "      <th>days_exposition</th>\n",
       "      <th>price_for_sq_meter</th>\n",
       "      <th>weekday</th>\n",
       "      <th>month</th>\n",
       "      <th>year</th>\n",
       "      <th>floor_group</th>\n",
       "      <th>part_living_to_total</th>\n",
       "      <th>part_kitchen_to_total</th>\n",
       "    </tr>\n",
       "  </thead>\n",
       "  <tbody>\n",
       "    <tr>\n",
       "      <th>0</th>\n",
       "      <td>0</td>\n",
       "      <td>20</td>\n",
       "      <td>13000000.0</td>\n",
       "      <td>108.0</td>\n",
       "      <td>2019-03-07</td>\n",
       "      <td>3</td>\n",
       "      <td>2.70</td>\n",
       "      <td>16</td>\n",
       "      <td>51.0</td>\n",
       "      <td>8</td>\n",
       "      <td>...</td>\n",
       "      <td>2</td>\n",
       "      <td>755.0</td>\n",
       "      <td>NaN</td>\n",
       "      <td>120370</td>\n",
       "      <td>3</td>\n",
       "      <td>3</td>\n",
       "      <td>2019</td>\n",
       "      <td>другой</td>\n",
       "      <td>0.47</td>\n",
       "      <td>0.23</td>\n",
       "    </tr>\n",
       "    <tr>\n",
       "      <th>1</th>\n",
       "      <td>1</td>\n",
       "      <td>7</td>\n",
       "      <td>3350000.0</td>\n",
       "      <td>40.4</td>\n",
       "      <td>2018-12-04</td>\n",
       "      <td>1</td>\n",
       "      <td>2.65</td>\n",
       "      <td>11</td>\n",
       "      <td>18.6</td>\n",
       "      <td>1</td>\n",
       "      <td>...</td>\n",
       "      <td>0</td>\n",
       "      <td>NaN</td>\n",
       "      <td>81.0</td>\n",
       "      <td>82920</td>\n",
       "      <td>1</td>\n",
       "      <td>12</td>\n",
       "      <td>2018</td>\n",
       "      <td>первый</td>\n",
       "      <td>0.46</td>\n",
       "      <td>0.27</td>\n",
       "    </tr>\n",
       "    <tr>\n",
       "      <th>2</th>\n",
       "      <td>2</td>\n",
       "      <td>10</td>\n",
       "      <td>5196000.0</td>\n",
       "      <td>56.0</td>\n",
       "      <td>2015-08-20</td>\n",
       "      <td>2</td>\n",
       "      <td>2.65</td>\n",
       "      <td>5</td>\n",
       "      <td>34.3</td>\n",
       "      <td>4</td>\n",
       "      <td>...</td>\n",
       "      <td>2</td>\n",
       "      <td>574.0</td>\n",
       "      <td>558.0</td>\n",
       "      <td>92785</td>\n",
       "      <td>3</td>\n",
       "      <td>8</td>\n",
       "      <td>2015</td>\n",
       "      <td>другой</td>\n",
       "      <td>0.61</td>\n",
       "      <td>0.15</td>\n",
       "    </tr>\n",
       "    <tr>\n",
       "      <th>3</th>\n",
       "      <td>3</td>\n",
       "      <td>0</td>\n",
       "      <td>64900000.0</td>\n",
       "      <td>159.0</td>\n",
       "      <td>2015-07-24</td>\n",
       "      <td>3</td>\n",
       "      <td>2.65</td>\n",
       "      <td>14</td>\n",
       "      <td>45.0</td>\n",
       "      <td>9</td>\n",
       "      <td>...</td>\n",
       "      <td>3</td>\n",
       "      <td>234.0</td>\n",
       "      <td>424.0</td>\n",
       "      <td>408176</td>\n",
       "      <td>4</td>\n",
       "      <td>7</td>\n",
       "      <td>2015</td>\n",
       "      <td>другой</td>\n",
       "      <td>0.28</td>\n",
       "      <td>0.06</td>\n",
       "    </tr>\n",
       "    <tr>\n",
       "      <th>4</th>\n",
       "      <td>4</td>\n",
       "      <td>2</td>\n",
       "      <td>10000000.0</td>\n",
       "      <td>100.0</td>\n",
       "      <td>2018-06-19</td>\n",
       "      <td>2</td>\n",
       "      <td>3.03</td>\n",
       "      <td>14</td>\n",
       "      <td>32.0</td>\n",
       "      <td>13</td>\n",
       "      <td>...</td>\n",
       "      <td>1</td>\n",
       "      <td>48.0</td>\n",
       "      <td>121.0</td>\n",
       "      <td>100000</td>\n",
       "      <td>1</td>\n",
       "      <td>6</td>\n",
       "      <td>2018</td>\n",
       "      <td>другой</td>\n",
       "      <td>0.32</td>\n",
       "      <td>0.41</td>\n",
       "    </tr>\n",
       "  </tbody>\n",
       "</table>\n",
       "<p>5 rows × 29 columns</p>\n",
       "</div>"
      ],
      "text/plain": [
       "   index  total_images  last_price  total_area first_day_exposition  rooms  \\\n",
       "0      0            20  13000000.0       108.0           2019-03-07      3   \n",
       "1      1             7   3350000.0        40.4           2018-12-04      1   \n",
       "2      2            10   5196000.0        56.0           2015-08-20      2   \n",
       "3      3             0  64900000.0       159.0           2015-07-24      3   \n",
       "4      4             2  10000000.0       100.0           2018-06-19      2   \n",
       "\n",
       "   ceiling_height  floors_total  living_area  floor  ...  ponds_around_3000  \\\n",
       "0            2.70            16         51.0      8  ...                  2   \n",
       "1            2.65            11         18.6      1  ...                  0   \n",
       "2            2.65             5         34.3      4  ...                  2   \n",
       "3            2.65            14         45.0      9  ...                  3   \n",
       "4            3.03            14         32.0     13  ...                  1   \n",
       "\n",
       "   ponds_nearest  days_exposition  price_for_sq_meter weekday  month  year  \\\n",
       "0          755.0              NaN              120370       3      3  2019   \n",
       "1            NaN             81.0               82920       1     12  2018   \n",
       "2          574.0            558.0               92785       3      8  2015   \n",
       "3          234.0            424.0              408176       4      7  2015   \n",
       "4           48.0            121.0              100000       1      6  2018   \n",
       "\n",
       "   floor_group  part_living_to_total  part_kitchen_to_total  \n",
       "0       другой                  0.47                   0.23  \n",
       "1       первый                  0.46                   0.27  \n",
       "2       другой                  0.61                   0.15  \n",
       "3       другой                  0.28                   0.06  \n",
       "4       другой                  0.32                   0.41  \n",
       "\n",
       "[5 rows x 29 columns]"
      ]
     },
     "execution_count": 24,
     "metadata": {},
     "output_type": "execute_result"
    }
   ],
   "source": [
    "df['part_kitchen_to_total'] = (df.kitchen_area / df.total_area).round(2)\n",
    "df.head()"
   ]
  },
  {
   "cell_type": "markdown",
   "metadata": {},
   "source": [
    "### Вывод"
   ]
  },
  {
   "cell_type": "markdown",
   "metadata": {},
   "source": [
    "Все добавленные столбцы понадобятся нам для дальнейшего анализа и получения выводов о том, какие критерии являются основными для определения рыночной стоимости недвижимости."
   ]
  },
  {
   "cell_type": "markdown",
   "metadata": {},
   "source": [
    "## Исследовательский анализ данных"
   ]
  },
  {
   "cell_type": "markdown",
   "metadata": {},
   "source": [
    "**1.** Изучим следующие параметры: площадь, цена, число комнат, высота потолков. Построим гистограммы для каждого параметра:"
   ]
  },
  {
   "cell_type": "code",
   "execution_count": 25,
   "metadata": {},
   "outputs": [
    {
     "data": {
      "image/png": "[encoded data removed]",
      "text/plain": [
       "<Figure size 576x432 with 1 Axes>"
      ]
     },
     "metadata": {
      "needs_background": "light"
     },
     "output_type": "display_data"
    },
    {
     "data": {
      "image/png": "[encoded data removed]",
      "text/plain": [
       "<Figure size 576x432 with 1 Axes>"
      ]
     },
     "metadata": {
      "needs_background": "light"
     },
     "output_type": "display_data"
    },
    {
     "data": {
      "image/png": "[encoded data removed]",
      "text/plain": [
       "<Figure size 576x432 with 1 Axes>"
      ]
     },
     "metadata": {
      "needs_background": "light"
     },
     "output_type": "display_data"
    },
    {
     "data": {
      "image/png": "[encoded data removed]",
      "text/plain": [
       "<Figure size 576x432 with 1 Axes>"
      ]
     },
     "metadata": {
      "needs_background": "light"
     },
     "output_type": "display_data"
    }
   ],
   "source": [
    "df.plot(y='total_area', kind='hist', bins=50, xlim=(0,300), figsize=(8,6), title='Общая площадь')\n",
    "df.plot(y='last_price', kind='hist', bins=100, xlim=(12190,40000000.0), figsize=(8,6), title='Стоимость')\n",
    "df.plot(y='rooms', kind='hist', bins=7, range=(0, 7), figsize=(8,6), title='Число комнат')\n",
    "df.plot(y='ceiling_height', kind='hist', bins=50, range=(2.2, 3.5), density=True, figsize=(8,6), title='Высота потолков')\n",
    "plt.show()"
   ]
  },
  {
   "cell_type": "code",
   "execution_count": 26,
   "metadata": {},
   "outputs": [
    {
     "name": "stdout",
     "output_type": "stream",
     "text": [
      "Площадь по медиане: 52.0\n",
      "Цена по медиане: 4630000.0\n",
      "Высота потолков по медиане: 2.65\n"
     ]
    }
   ],
   "source": [
    "print(\"Площадь по медиане:\", df.total_area.median())\n",
    "print(\"Цена по медиане:\", df.last_price.median())\n",
    "print(\"Высота потолков по медиане:\", df.ceiling_height.median())"
   ]
  },
  {
   "cell_type": "markdown",
   "metadata": {},
   "source": [
    "В данных по стоимости квартиры на момент снятия публикации заметила на гистограмме неравномерное распределение, нужно почистить данные от выбросов. В выборке очень мало квартир стоимостью больше 20 млн. и дешевле 500 тыс. Удалим данные значения:"
   ]
  },
  {
   "cell_type": "code",
   "execution_count": 27,
   "metadata": {},
   "outputs": [
    {
     "data": {
      "text/plain": [
       "<AxesSubplot:title={'center':'Стоимость'}, ylabel='Frequency'>"
      ]
     },
     "execution_count": 27,
     "metadata": {},
     "output_type": "execute_result"
    },
    {
     "data": {
      "image/png": "[encoded data removed]",
      "text/plain": [
       "<Figure size 576x432 with 1 Axes>"
      ]
     },
     "metadata": {
      "needs_background": "light"
     },
     "output_type": "display_data"
    }
   ],
   "source": [
    "df.drop(df[df.last_price < 500000].index, inplace=True)\n",
    "df.drop(df[df.last_price > 20000000].index, inplace=True)\n",
    "df.plot(y='last_price', kind='hist', bins=100, xlim=(12190,20000000.0), figsize=(8,6), title='Стоимость')"
   ]
  },
  {
   "cell_type": "code",
   "execution_count": 28,
   "metadata": {},
   "outputs": [
    {
     "name": "stdout",
     "output_type": "stream",
     "text": [
      "Цена по медиане: 4550000.0\n"
     ]
    }
   ],
   "source": [
    "print(\"Цена по медиане:\", df.last_price.median())"
   ]
  },
  {
   "cell_type": "markdown",
   "metadata": {},
   "source": [
    " **ВЫВОД**"
   ]
  },
  {
   "cell_type": "markdown",
   "metadata": {},
   "source": [
    "Гистограмма по столбцу total_area выглядит правдоподобно - квартир площадью менее 25 кв.м почти нет, большая доля квартир имеет площадь 50-60 кв.м. Следом по частоте идут квартиры от 30 до 50 кв.м. После значения 100 кв.м число квартир стремительно убывает.\n",
    "\n",
    "\n",
    "Медианная стоимость квартиры составляет 5.2 млн.\n",
    "Наибольшее количество квартир имеют 2 или 3 комнаты, следом по частоте идут 4х комнатные, а потом уже однакомнатные.\n",
    "Высота потолков составляет 2.65 метра."
   ]
  },
  {
   "cell_type": "markdown",
   "metadata": {},
   "source": [
    "**2.** Изучим время продажи квартиры с помощью гистограммы. Посчитаем среднее и медиану. "
   ]
  },
  {
   "cell_type": "code",
   "execution_count": 29,
   "metadata": {},
   "outputs": [
    {
     "data": {
      "image/png": "[encoded data removed]",
      "text/plain": [
       "<Figure size 1152x432 with 1 Axes>"
      ]
     },
     "metadata": {
      "needs_background": "light"
     },
     "output_type": "display_data"
    }
   ],
   "source": [
    "df.plot(y='days_exposition', kind='hist', bins=100, figsize=(16,6), xlim=(0,1000), title='Время продажи')\n",
    "plt.xlabel(\"days\")\n",
    "plt.show()"
   ]
  },
  {
   "cell_type": "code",
   "execution_count": 30,
   "metadata": {},
   "outputs": [
    {
     "data": {
      "text/plain": [
       "count    19829.000000\n",
       "mean       177.710928\n",
       "std        216.486828\n",
       "min          1.000000\n",
       "25%         44.000000\n",
       "50%         93.000000\n",
       "75%        226.000000\n",
       "max       1580.000000\n",
       "Name: days_exposition, dtype: float64"
      ]
     },
     "execution_count": 30,
     "metadata": {},
     "output_type": "execute_result"
    }
   ],
   "source": [
    "df['days_exposition'].describe()"
   ]
  },
  {
   "cell_type": "markdown",
   "metadata": {},
   "source": [
    "\n",
    "Медианное значение времени продажи квартиры составляет 97 дней, среднее - 180 , стандартное отклонение - 222, что говорит о наличии сильных выбросов. Продажа в 1580 дней является необыкновенно долгой, получается, что объект продавался 4 года.\n",
    "Избавимся от аномальных значений. Отсеем продажи, совершенные до 7 дней и не более 1,5 лет."
   ]
  },
  {
   "cell_type": "code",
   "execution_count": 31,
   "metadata": {},
   "outputs": [
    {
     "data": {
      "image/png": "[encoded data removed]",
      "text/plain": [
       "<Figure size 1152x432 with 1 Axes>"
      ]
     },
     "metadata": {
      "needs_background": "light"
     },
     "output_type": "display_data"
    }
   ],
   "source": [
    "good_exposition_data = df.query('7 < days_exposition < 550')['days_exposition'].astype(int)\n",
    "good_exposition_data.plot(y='days_exposition', kind='hist', bins=50, figsize=(16,6), xlim=(0,600), title='Время продажи')\n",
    "plt.xlabel(\"days\")\n",
    "plt.show()"
   ]
  },
  {
   "cell_type": "code",
   "execution_count": 32,
   "metadata": {},
   "outputs": [
    {
     "data": {
      "text/plain": [
       "count    17620.000000\n",
       "mean       137.331839\n",
       "std        126.486920\n",
       "min          8.000000\n",
       "25%         45.000000\n",
       "50%         90.000000\n",
       "75%        192.000000\n",
       "max        549.000000\n",
       "Name: days_exposition, dtype: float64"
      ]
     },
     "execution_count": 32,
     "metadata": {},
     "output_type": "execute_result"
    }
   ],
   "source": [
    "good_exposition_data.describe()"
   ]
  },
  {
   "cell_type": "markdown",
   "metadata": {},
   "source": [
    " **ВЫВОД**"
   ]
  },
  {
   "cell_type": "markdown",
   "metadata": {},
   "source": [
    "Исходя из полученных данных, можно сделать выводы, что самые частые продажи происходят в период от 45 до 60 дней. Если продажа произошла до 45 дней, то мы можем смело сказать, что продажа состоялась быстро. А вот если квартира на рынке задержалась более 200 дней, то такую продажу уже можно назвать долгой. При этом встречается недвижимость, которая продается более 1,5 лет."
   ]
  },
  {
   "cell_type": "markdown",
   "metadata": {},
   "source": [
    "**3.** Изучим зависит ли цена от площади, числа комнат, удалённости от центра. "
   ]
  },
  {
   "cell_type": "code",
   "execution_count": 33,
   "metadata": {},
   "outputs": [
    {
     "data": {
      "image/png": "[encoded data removed]",
      "text/plain": [
       "<Figure size 1440x288 with 3 Axes>"
      ]
     },
     "metadata": {
      "needs_background": "light"
     },
     "output_type": "display_data"
    }
   ],
   "source": [
    "fig, (ax1, ax2, ax3) = plt.subplots(1, 3, figsize=(20,4))\n",
    "\n",
    "ax1.scatter(df['last_price'], df['total_area'], alpha=0.05) # отношение площади к цене\n",
    "ax1.set_xlim([0,20000000])\n",
    "ax1.set_ylim([0,250])\n",
    "ax1.set_ylabel('total_area', fontsize=14)\n",
    "ax1.set_xlabel('price', fontsize=14)\n",
    "\n",
    "rooms_price = df[['rooms', 'last_price']].groupby(['rooms']).median() # отношение к-ва комнат к цене\n",
    "ax2.barh( rooms_price.index, rooms_price['last_price'] )\n",
    "ax2.set_ylabel('rooms', fontsize=14)\n",
    "ax2.set_xlabel('price', fontsize=14)\n",
    "y_pos = np.arange(0,8)\n",
    "ax2.set_yticks(y_pos)\n",
    "ax2.set_yticklabels([str(i) for i in range(0,8)])\n",
    "\n",
    "ax3.scatter(df['last_price'], df['city_сenters_nearest'], alpha=0.05) # отношение удаленности от центра к цене\n",
    "ax3.set_xlim([0,20000000])\n",
    "ax3.set_ylabel('Distance to center', fontsize=14)\n",
    "ax3.set_xlabel('price', fontsize=14)\n",
    "\n",
    "plt.show()"
   ]
  },
  {
   "cell_type": "code",
   "execution_count": 34,
   "metadata": {},
   "outputs": [
    {
     "data": {
      "text/html": [
       "<div>\n",
       "<style scoped>\n",
       "    .dataframe tbody tr th:only-of-type {\n",
       "        vertical-align: middle;\n",
       "    }\n",
       "\n",
       "    .dataframe tbody tr th {\n",
       "        vertical-align: top;\n",
       "    }\n",
       "\n",
       "    .dataframe thead th {\n",
       "        text-align: right;\n",
       "    }\n",
       "</style>\n",
       "<table border=\"1\" class=\"dataframe\">\n",
       "  <thead>\n",
       "    <tr style=\"text-align: right;\">\n",
       "      <th></th>\n",
       "      <th>last_price</th>\n",
       "      <th>total_area</th>\n",
       "      <th>city_сenters_nearest</th>\n",
       "      <th>rooms</th>\n",
       "    </tr>\n",
       "  </thead>\n",
       "  <tbody>\n",
       "    <tr>\n",
       "      <th>last_price</th>\n",
       "      <td>1.000000</td>\n",
       "      <td>0.771420</td>\n",
       "      <td>-0.354818</td>\n",
       "      <td>0.514259</td>\n",
       "    </tr>\n",
       "    <tr>\n",
       "      <th>total_area</th>\n",
       "      <td>0.771420</td>\n",
       "      <td>1.000000</td>\n",
       "      <td>-0.195163</td>\n",
       "      <td>0.797320</td>\n",
       "    </tr>\n",
       "    <tr>\n",
       "      <th>city_сenters_nearest</th>\n",
       "      <td>-0.354818</td>\n",
       "      <td>-0.195163</td>\n",
       "      <td>1.000000</td>\n",
       "      <td>-0.142071</td>\n",
       "    </tr>\n",
       "    <tr>\n",
       "      <th>rooms</th>\n",
       "      <td>0.514259</td>\n",
       "      <td>0.797320</td>\n",
       "      <td>-0.142071</td>\n",
       "      <td>1.000000</td>\n",
       "    </tr>\n",
       "  </tbody>\n",
       "</table>\n",
       "</div>"
      ],
      "text/plain": [
       "                      last_price  total_area  city_сenters_nearest     rooms\n",
       "last_price              1.000000    0.771420             -0.354818  0.514259\n",
       "total_area              0.771420    1.000000             -0.195163  0.797320\n",
       "city_сenters_nearest   -0.354818   -0.195163              1.000000 -0.142071\n",
       "rooms                   0.514259    0.797320             -0.142071  1.000000"
      ]
     },
     "execution_count": 34,
     "metadata": {},
     "output_type": "execute_result"
    }
   ],
   "source": [
    "df[['last_price','total_area','city_сenters_nearest','rooms']].corr()"
   ]
  },
  {
   "cell_type": "markdown",
   "metadata": {},
   "source": [
    " **ВЫВОД**"
   ]
  },
  {
   "cell_type": "markdown",
   "metadata": {},
   "source": [
    "На графике зависимости стоимости квартиры от общей площади явно видна положительная корреляция.\n",
    "На столбчатой диаграмме также заметна увеличивающаяся стоимость квартиры с увеличением числа комнат.\n",
    "\n",
    "Видно, что стоимость квартиры больше зависит от общей площади, и в меньшей степени от количества комнат. Наибольшая корреляция между количеством комнат и площадью, т.к. увеличение к-ва комнат обязательно ведет за собой увеличение площади.\n",
    "\n",
    "\n",
    "На графике зависимости стоимости квартиры от расстояния до центра города также видна зависимость - чем дальше квартира, тем дешевле она стоит."
   ]
  },
  {
   "cell_type": "markdown",
   "metadata": {},
   "source": [
    "**4.** Изучим зависимость цены от того, на каком этаже расположена квартира: первом, последнем или другом. Также изучим зависимость от даты размещения: дня недели, месяца и года."
   ]
  },
  {
   "cell_type": "code",
   "execution_count": 35,
   "metadata": {},
   "outputs": [
    {
     "data": {
      "image/png": "[encoded data removed]",
      "text/plain": [
       "<Figure size 720x360 with 1 Axes>"
      ]
     },
     "metadata": {
      "needs_background": "light"
     },
     "output_type": "display_data"
    }
   ],
   "source": [
    "floor_price = df[['floor_group', 'last_price']].groupby(['floor_group']).median().sort_values('last_price')\n",
    "plt.figure(figsize=(10,5))\n",
    "plt.barh( floor_price.index, floor_price['last_price'] )\n",
    "plt.title(\"Этаж\")\n",
    "plt.xlabel(\"Стоимость\")\n",
    "plt.show()"
   ]
  },
  {
   "cell_type": "markdown",
   "metadata": {},
   "source": [
    " **ВЫВОД**"
   ]
  },
  {
   "cell_type": "markdown",
   "metadata": {},
   "source": [
    "Квартиры на первом этаже стоят дешевле всего. Квартиры на последнем этаже выше по стоимости, чем на первом. Самые дорогие квартиры находятся на других этажах."
   ]
  },
  {
   "cell_type": "markdown",
   "metadata": {},
   "source": [
    "**5.** Изучим зависимость от даты размещения: дня недели, месяца и года."
   ]
  },
  {
   "cell_type": "code",
   "execution_count": 36,
   "metadata": {},
   "outputs": [
    {
     "data": {
      "image/png": "[encoded data removed]",
      "text/plain": [
       "<Figure size 864x360 with 1 Axes>"
      ]
     },
     "metadata": {
      "needs_background": "light"
     },
     "output_type": "display_data"
    }
   ],
   "source": [
    "year_price = df[['year', 'last_price']].groupby(['year']).median().sort_index() #сгруппируем данные по году\n",
    "plt.figure(figsize=(12,5))\n",
    "plt.bar( year_price.index, year_price['last_price'])#для этих данных лучше подойдет столбчатая диаграмма\n",
    "plt.title(\"Стоимость квартиры по годам\", fontsize=16)\n",
    "plt.ylabel(\"Стоимость\", fontsize=12)\n",
    "plt.ylim(4000000, 7000000)\n",
    "plt.show()"
   ]
  },
  {
   "cell_type": "code",
   "execution_count": 37,
   "metadata": {},
   "outputs": [
    {
     "data": {
      "image/png": "[encoded data removed]",
      "text/plain": [
       "<Figure size 864x360 with 1 Axes>"
      ]
     },
     "metadata": {
      "needs_background": "light"
     },
     "output_type": "display_data"
    }
   ],
   "source": [
    "month_price = df[['month', 'last_price']].groupby(['month']).median().sort_index()#сделаем группировку по месяцу\n",
    "month_price.index = ['январь', 'февраль', 'март', \"апрель\", \"май\", \"июнь\", \"июль\", \"август\", \"сентябрь\", \"октябрь\", \"ноябрь\", \"декабрь\"]\n",
    "plt.figure(figsize=(12,5))\n",
    "plt.plot( month_price.index, month_price['last_price']) #здесь для визуализации подойдет лучше график\n",
    "plt.title(\"Стоимость квартиры в зависимости от месяца\")\n",
    "plt.ylabel(\"Стоимость\", fontsize=12)\n",
    "plt.show()"
   ]
  },
  {
   "cell_type": "code",
   "execution_count": 38,
   "metadata": {},
   "outputs": [
    {
     "data": {
      "image/png": "[encoded data removed]",
      "text/plain": [
       "<Figure size 864x360 with 1 Axes>"
      ]
     },
     "metadata": {
      "needs_background": "light"
     },
     "output_type": "display_data"
    }
   ],
   "source": [
    "day_price = df[['weekday', 'last_price']].groupby(['weekday']).median().sort_index()#сделаем группировку по дням\n",
    "day_price.index = [\"понедельник\", \"вторник\", \"среда\", \"четверг\", \"пятница\", \"суббота\", \"воскресенье\"]\n",
    "plt.figure(figsize=(12,5))\n",
    "plt.plot( day_price.index, day_price['last_price'])#здесь для визуализации подойдет лучше график\n",
    "plt.ylabel(\"Стоимость\", fontsize=12)\n",
    "plt.title(\"Стоимость квартиры в зависимости от дня недели\")\n",
    "plt.show()"
   ]
  },
  {
   "cell_type": "markdown",
   "metadata": {},
   "source": [
    " **ВЫВОД**"
   ]
  },
  {
   "cell_type": "markdown",
   "metadata": {},
   "source": [
    "На основании данной выборки видно, что пик продаж недвижимости произошел в 2014 году, после чего стоимость начала падать аж до 2017 года. С 2018 года наблюдается небольшой рост.\n",
    "\n",
    "Далее по графику видно, что спад цен на квартиры происходит с апреля по июнь, а также в декабре. При этом в июне наблюдаются самые низкие цены по отношению к другим месяцам. А самая высокая стоимость наблюдается в сентябре.\n",
    "\n",
    "Стоимость квартир обычно выше во вторник  и четверг, при этом с четверга наблюдается нисходящий тренд. И получается, что стоимость квартир снижается на выходные дни. Воскресенье самый \"дешевый\" день."
   ]
  },
  {
   "cell_type": "markdown",
   "metadata": {},
   "source": [
    "**6.** Создадим топ-10 населённых пунктов с наибольшим числом объявлений. Далее посчитаем в них среднюю цену квадратного метра."
   ]
  },
  {
   "cell_type": "code",
   "execution_count": 39,
   "metadata": {},
   "outputs": [
    {
     "data": {
      "text/html": [
       "<div>\n",
       "<style scoped>\n",
       "    .dataframe tbody tr th:only-of-type {\n",
       "        vertical-align: middle;\n",
       "    }\n",
       "\n",
       "    .dataframe tbody tr th {\n",
       "        vertical-align: top;\n",
       "    }\n",
       "\n",
       "    .dataframe thead th {\n",
       "        text-align: right;\n",
       "    }\n",
       "</style>\n",
       "<table border=\"1\" class=\"dataframe\">\n",
       "  <thead>\n",
       "    <tr style=\"text-align: right;\">\n",
       "      <th></th>\n",
       "      <th>top_locals_10</th>\n",
       "    </tr>\n",
       "    <tr>\n",
       "      <th>locality_name</th>\n",
       "      <th></th>\n",
       "    </tr>\n",
       "  </thead>\n",
       "  <tbody>\n",
       "    <tr>\n",
       "      <th>Санкт-Петербург</th>\n",
       "      <td>108635.0</td>\n",
       "    </tr>\n",
       "    <tr>\n",
       "      <th>Пушкин</th>\n",
       "      <td>101715.0</td>\n",
       "    </tr>\n",
       "    <tr>\n",
       "      <th>деревня Кудрово</th>\n",
       "      <td>92473.0</td>\n",
       "    </tr>\n",
       "    <tr>\n",
       "      <th>посёлок Парголово</th>\n",
       "      <td>90175.0</td>\n",
       "    </tr>\n",
       "    <tr>\n",
       "      <th>посёлок Мурино</th>\n",
       "      <td>85645.0</td>\n",
       "    </tr>\n",
       "    <tr>\n",
       "      <th>посёлок Шушары</th>\n",
       "      <td>78551.0</td>\n",
       "    </tr>\n",
       "    <tr>\n",
       "      <th>Колпино</th>\n",
       "      <td>75333.0</td>\n",
       "    </tr>\n",
       "    <tr>\n",
       "      <th>Гатчина</th>\n",
       "      <td>68757.0</td>\n",
       "    </tr>\n",
       "    <tr>\n",
       "      <th>Всеволожск</th>\n",
       "      <td>67161.0</td>\n",
       "    </tr>\n",
       "    <tr>\n",
       "      <th>Выборг</th>\n",
       "      <td>58093.0</td>\n",
       "    </tr>\n",
       "  </tbody>\n",
       "</table>\n",
       "</div>"
      ],
      "text/plain": [
       "                   top_locals_10\n",
       "locality_name                   \n",
       "Санкт-Петербург         108635.0\n",
       "Пушкин                  101715.0\n",
       "деревня Кудрово          92473.0\n",
       "посёлок Парголово        90175.0\n",
       "посёлок Мурино           85645.0\n",
       "посёлок Шушары           78551.0\n",
       "Колпино                  75333.0\n",
       "Гатчина                  68757.0\n",
       "Всеволожск               67161.0\n",
       "Выборг                   58093.0"
      ]
     },
     "execution_count": 39,
     "metadata": {},
     "output_type": "execute_result"
    }
   ],
   "source": [
    "top_locals_10 = df.groupby('locality_name')['locality_name'].count().sort_values(ascending=False).head(10).index.values.tolist()\n",
    "df_top_10 = df.query('locality_name in @top_locals_10')\n",
    "df_top_10.groupby('locality_name')['price_for_sq_meter'].mean().round().sort_values(ascending=False).to_frame('top_locals_10')"
   ]
  },
  {
   "cell_type": "markdown",
   "metadata": {},
   "source": [
    " **ВЫВОД**"
   ]
  },
  {
   "cell_type": "markdown",
   "metadata": {},
   "source": [
    "Самые дорогие квартиры располагаются, ожидаемо, в Санкт-Петербурге (107 тыс.), затем идет Пушкин.\n",
    "\n",
    "\n",
    "Низкая стоимость квартир в Выборге - в два раза дешевле, чем в Санкт-Петербурге.\n",
    "\n",
    "\n",
    "Во Всеволожске и Гатчине примерно одинаковые цены за кв.м., порядка 68 тыс."
   ]
  },
  {
   "cell_type": "markdown",
   "metadata": {},
   "source": [
    "**8.** Выделим квартиры в Санкт-Петербурге (locality_name). Необходимо выяснить, какая область входит в центр. Для этого создадим столбец с расстоянием до центра в километрах, округлив до целых значений. Затем посчитаем среднюю цену для каждого километра и построим график, с помощью которого определим, как цена зависит от удалённости по отношению к центру. "
   ]
  },
  {
   "cell_type": "code",
   "execution_count": 40,
   "metadata": {},
   "outputs": [
    {
     "data": {
      "image/png": "[encoded data removed]",
      "text/plain": [
       "<Figure size 864x360 with 1 Axes>"
      ]
     },
     "metadata": {
      "needs_background": "light"
     },
     "output_type": "display_data"
    }
   ],
   "source": [
    "df['km_to_centers'] =( df['city_сenters_nearest']/1000 ).round()\n",
    "plt.figure(figsize=(12,5))\n",
    "df.groupby('km_to_centers')['last_price'].mean().plot()\n",
    "plt.title(\"Стоимость квартиры в зависимости от расстояния до центра\")\n",
    "plt.ylabel(\"Стоимость\")\n",
    "plt.show()"
   ]
  },
  {
   "cell_type": "markdown",
   "metadata": {},
   "source": [
    " **ВЫВОД**"
   ]
  },
  {
   "cell_type": "markdown",
   "metadata": {},
   "source": [
    "На графике видно, что цена сильно меняется на 8-9 километрах, следовательно это и есть граница центра города, поэтому там и самая высокая стоимость недвижимости. Также интересны 2 пика на 45 и 55 км, недвижимость там гораздо дороже. Можно преположить, что там находятся какие-то элитные постройки, возможно микрорайоны, которые являются своеобразными центрами для данной местности, или, например, коттеджные поселки."
   ]
  },
  {
   "cell_type": "markdown",
   "metadata": {},
   "source": [
    "**9.** Выделим сегмент квартир в центре и проанализируем эту территорию по следующим параметрам: площадь, цена, число комнат, высота потолков."
   ]
  },
  {
   "cell_type": "code",
   "execution_count": 41,
   "metadata": {},
   "outputs": [
    {
     "data": {
      "image/png": "[encoded data removed]",
      "text/plain": [
       "<Figure size 576x432 with 1 Axes>"
      ]
     },
     "metadata": {
      "needs_background": "light"
     },
     "output_type": "display_data"
    },
    {
     "data": {
      "image/png": "[encoded data removed]",
      "text/plain": [
       "<Figure size 576x432 with 1 Axes>"
      ]
     },
     "metadata": {
      "needs_background": "light"
     },
     "output_type": "display_data"
    },
    {
     "data": {
      "image/png": "[encoded data removed]",
      "text/plain": [
       "<Figure size 576x432 with 1 Axes>"
      ]
     },
     "metadata": {
      "needs_background": "light"
     },
     "output_type": "display_data"
    },
    {
     "data": {
      "image/png": "[encoded data removed]",
      "text/plain": [
       "<Figure size 576x432 with 1 Axes>"
      ]
     },
     "metadata": {
      "needs_background": "light"
     },
     "output_type": "display_data"
    }
   ],
   "source": [
    "df_flats_in_center = df.query('km_to_centers <= 8 and locality_name == \"Санкт-Петербург\"')\n",
    "df_flats_in_center.plot(y='total_area', kind='hist', density=True, bins=50, xlim=(0,200), figsize=(8,6), title='Общая площадь')\n",
    "df_flats_in_center.plot(y='last_price', kind='hist', density=True, bins=200, xlim=(12190,20000000.0), figsize=(8,6), title='Стоимость')\n",
    "df_flats_in_center.plot(y='rooms', kind='hist', bins=10, range=(0, 10), figsize=(8,6), title='Число комнат')\n",
    "df_flats_in_center.plot(y='ceiling_height', kind='hist', bins=50, range=(2.5, 5), density=True, figsize=(8,6), title='Высота потолков')\n",
    "plt.show()"
   ]
  },
  {
   "cell_type": "code",
   "execution_count": 42,
   "metadata": {},
   "outputs": [
    {
     "data": {
      "text/html": [
       "<div>\n",
       "<style scoped>\n",
       "    .dataframe tbody tr th:only-of-type {\n",
       "        vertical-align: middle;\n",
       "    }\n",
       "\n",
       "    .dataframe tbody tr th {\n",
       "        vertical-align: top;\n",
       "    }\n",
       "\n",
       "    .dataframe thead th {\n",
       "        text-align: right;\n",
       "    }\n",
       "</style>\n",
       "<table border=\"1\" class=\"dataframe\">\n",
       "  <thead>\n",
       "    <tr style=\"text-align: right;\">\n",
       "      <th></th>\n",
       "      <th>Медианное значение</th>\n",
       "    </tr>\n",
       "  </thead>\n",
       "  <tbody>\n",
       "    <tr>\n",
       "      <th>last_price</th>\n",
       "      <td>8150000.00</td>\n",
       "    </tr>\n",
       "    <tr>\n",
       "      <th>total_area</th>\n",
       "      <td>70.00</td>\n",
       "    </tr>\n",
       "    <tr>\n",
       "      <th>ceiling_height</th>\n",
       "      <td>2.75</td>\n",
       "    </tr>\n",
       "    <tr>\n",
       "      <th>rooms</th>\n",
       "      <td>2.00</td>\n",
       "    </tr>\n",
       "  </tbody>\n",
       "</table>\n",
       "</div>"
      ],
      "text/plain": [
       "                Медианное значение\n",
       "last_price              8150000.00\n",
       "total_area                   70.00\n",
       "ceiling_height                2.75\n",
       "rooms                         2.00"
      ]
     },
     "execution_count": 42,
     "metadata": {},
     "output_type": "execute_result"
    }
   ],
   "source": [
    "df_flats_in_center.loc[:, ['last_price','total_area','ceiling_height','rooms']].median().to_frame('Медианное значение')"
   ]
  },
  {
   "cell_type": "markdown",
   "metadata": {},
   "source": [
    " **ВЫВОД**"
   ]
  },
  {
   "cell_type": "markdown",
   "metadata": {},
   "source": [
    "Квартиры в центре города могут \"похвастать\" большей площадью от 66 кв.м. Медиана по площади проходит на значении 75 квадратов.\n",
    "\n",
    "\n",
    "В среднем они более дорогие, медианная стоимость составляет более 8 млн. В то время, как для квартир из всего датафрейма эта стоимость равняется 5,2 миллионам.\n",
    "\n",
    "\n",
    "Квартиры в центре также чаще имеют от двух до 5 комнат, однокомнатных квартир гораздо меньше, чем в основной выборке.\n",
    "Также у данных квартир выше потолки, в среднем 3 метра."
   ]
  },
  {
   "cell_type": "markdown",
   "metadata": {},
   "source": [
    "**10.** Выделим факторы влияющие на стоимость квартиры: число комнат, этаж, удалённость от центра и дата размещения объявления."
   ]
  },
  {
   "cell_type": "code",
   "execution_count": 43,
   "metadata": {},
   "outputs": [
    {
     "data": {
      "image/png": "[encoded data removed]",
      "text/plain": [
       "<Figure size 720x360 with 1 Axes>"
      ]
     },
     "metadata": {
      "needs_background": "light"
     },
     "output_type": "display_data"
    }
   ],
   "source": [
    "#ЧИСЛО КОМНАТ\n",
    "rooms_price_center = df_flats_in_center[['rooms', 'last_price']].groupby(['rooms']).median()\n",
    "plt.figure(figsize=(10,5))\n",
    "plt.barh( rooms_price_center.index, rooms_price_center['last_price'] )\n",
    "plt.title(\"Число комнат\")\n",
    "plt.xlabel(\"Стоимость\")\n",
    "plt.show()"
   ]
  },
  {
   "cell_type": "code",
   "execution_count": 44,
   "metadata": {},
   "outputs": [
    {
     "data": {
      "image/png": "[encoded data removed]",
      "text/plain": [
       "<Figure size 720x360 with 1 Axes>"
      ]
     },
     "metadata": {
      "needs_background": "light"
     },
     "output_type": "display_data"
    }
   ],
   "source": [
    "#ЭТАЖНОСТЬ\n",
    "floor_price_center = ( df_flats_in_center[['floor_group', 'last_price']].groupby('floor_group').median()\n",
    "                      .sort_values('last_price') )\n",
    "plt.figure(figsize=(10,5))\n",
    "plt.barh( floor_price_center.index, floor_price_center['last_price'] )\n",
    "plt.title(\"Этаж\")\n",
    "plt.xlabel(\"Стоимость\")\n",
    "plt.show()"
   ]
  },
  {
   "cell_type": "code",
   "execution_count": 45,
   "metadata": {},
   "outputs": [
    {
     "data": {
      "image/png": "[encoded data removed]",
      "text/plain": [
       "<Figure size 432x288 with 1 Axes>"
      ]
     },
     "metadata": {
      "needs_background": "light"
     },
     "output_type": "display_data"
    }
   ],
   "source": [
    "#УДАЛЕННОСТЬ ОТ ЦЕНТРА\n",
    "plt.scatter(df_flats_in_center['last_price'], df_flats_in_center['city_сenters_nearest'], c='r', alpha=0.05)\n",
    "plt.xlim(0,20000000)\n",
    "plt.xlabel('Цена', fontsize=14)\n",
    "plt.ylabel('Расстояние до центра', fontsize=14)\n",
    "plt.show()"
   ]
  },
  {
   "cell_type": "code",
   "execution_count": 46,
   "metadata": {},
   "outputs": [
    {
     "data": {
      "text/html": [
       "<div>\n",
       "<style scoped>\n",
       "    .dataframe tbody tr th:only-of-type {\n",
       "        vertical-align: middle;\n",
       "    }\n",
       "\n",
       "    .dataframe tbody tr th {\n",
       "        vertical-align: top;\n",
       "    }\n",
       "\n",
       "    .dataframe thead th {\n",
       "        text-align: right;\n",
       "    }\n",
       "</style>\n",
       "<table border=\"1\" class=\"dataframe\">\n",
       "  <thead>\n",
       "    <tr style=\"text-align: right;\">\n",
       "      <th></th>\n",
       "      <th>last_price</th>\n",
       "      <th>city_сenters_nearest</th>\n",
       "    </tr>\n",
       "  </thead>\n",
       "  <tbody>\n",
       "    <tr>\n",
       "      <th>last_price</th>\n",
       "      <td>1.000000</td>\n",
       "      <td>-0.178237</td>\n",
       "    </tr>\n",
       "    <tr>\n",
       "      <th>city_сenters_nearest</th>\n",
       "      <td>-0.178237</td>\n",
       "      <td>1.000000</td>\n",
       "    </tr>\n",
       "  </tbody>\n",
       "</table>\n",
       "</div>"
      ],
      "text/plain": [
       "                      last_price  city_сenters_nearest\n",
       "last_price              1.000000             -0.178237\n",
       "city_сenters_nearest   -0.178237              1.000000"
      ]
     },
     "execution_count": 46,
     "metadata": {},
     "output_type": "execute_result"
    }
   ],
   "source": [
    "df_flats_in_center[['last_price', 'city_сenters_nearest']].corr()"
   ]
  },
  {
   "cell_type": "code",
   "execution_count": 47,
   "metadata": {},
   "outputs": [
    {
     "data": {
      "image/png": "[encoded data removed]",
      "text/plain": [
       "<Figure size 864x360 with 1 Axes>"
      ]
     },
     "metadata": {
      "needs_background": "light"
     },
     "output_type": "display_data"
    }
   ],
   "source": [
    "#ЗАВИСИМОСТЬ ОТ ГОДА\n",
    "year_price_center = df_flats_in_center[['year', 'last_price']].groupby(['year']).median().sort_index()\n",
    "plt.figure(figsize=(12,5))\n",
    "plt.bar( year_price_center.index, year_price_center['last_price'])\n",
    "plt.title(\"Стоимость квартиры по годам\", fontsize=16)\n",
    "plt.ylabel(\"Стоимость\", fontsize=12)\n",
    "plt.ylim(7000000,10000000)\n",
    "plt.show()"
   ]
  },
  {
   "cell_type": "code",
   "execution_count": 48,
   "metadata": {},
   "outputs": [
    {
     "data": {
      "image/png": "[encoded data removed]",
      "text/plain": [
       "<Figure size 864x360 with 1 Axes>"
      ]
     },
     "metadata": {
      "needs_background": "light"
     },
     "output_type": "display_data"
    }
   ],
   "source": [
    "#ЗАВИСИМОСТЬ ОТ МЕСЯЦА\n",
    "month_price_center = df_flats_in_center[['month', 'last_price']].groupby(['month']).median().sort_index()\n",
    "month_price_center.index = ['январь', 'февраль', 'март', \"апрель\", \"май\", \"июнь\", \"июль\", \"август\", \"сентябрь\", \"октябрь\", \"ноябрь\", \"декабрь\"]\n",
    "plt.figure(figsize=(12,5))\n",
    "plt.plot( month_price_center.index, month_price_center['last_price'])\n",
    "plt.title(\"Стоимость квартиры в зависимости от месяца\")\n",
    "plt.ylabel(\"Стоимость\", fontsize=12)\n",
    "plt.show()"
   ]
  },
  {
   "cell_type": "code",
   "execution_count": 49,
   "metadata": {},
   "outputs": [
    {
     "data": {
      "image/png": "[encoded data removed]",
      "text/plain": [
       "<Figure size 864x360 with 1 Axes>"
      ]
     },
     "metadata": {
      "needs_background": "light"
     },
     "output_type": "display_data"
    }
   ],
   "source": [
    "#ЗАВИСИМОСТЬ ОТ ДНЯ НЕДЕЛИ\n",
    "day_price_center = df_flats_in_center[['weekday', 'last_price']].groupby(['weekday']).median().sort_index()\n",
    "day_price_center.index = [\"понедельник\", \"вторник\", \"среда\", \"четверг\", \"пятница\", \"суббота\", \"воскресенье\"]\n",
    "plt.figure(figsize=(12,5))\n",
    "plt.plot( day_price_center.index, day_price_center['last_price'])\n",
    "plt.ylabel(\"Стоимость\", fontsize=12)\n",
    "plt.title(\"Стоимость квартиры в зависимости от дня недели\")\n",
    "plt.show()"
   ]
  },
  {
   "cell_type": "markdown",
   "metadata": {},
   "source": [
    " **ВЫВОД**"
   ]
  },
  {
   "cell_type": "markdown",
   "metadata": {},
   "source": [
    "Стоимость квартиры также увеличивается в зависимости от количества комнат, как и во всем датасете.\n",
    "\n",
    "\n",
    "Квартиры на первом этаже в центре Санкт-Петербурга значительно дешевле квартир на других этажах. Последние этажи также оцениваются дешевле, чем другие этажи.\n",
    "\n",
    "\n",
    "А вот сильной зависимости от удаленности нет, квартиры могут стоить в центре по разному.\n",
    "\n",
    "\n",
    "Диаграмма по годам идентичная всей выборке данных. С 2014 стоимость упала, а c 2017 начинает расти.\n",
    "\n",
    "\n",
    "Для квартир в центре Санкт-Петербурга картина меняется по месяцам: наименьшая стоимость соответствует квартирам, продаваемым в декабре. В июне также присутсвует спад, но не такой большой, как в общей выборке. Наибольшая стоимость также наблюдается в сентябре.\n",
    "\n",
    "Зависимость стоимости квартиры от дня недели также разительно отличается, дешевле всего квартиры выставляются на продажу по субботам, после чего наблюдается резкий тренд на увеличение цены с воскресенья и снова спад во вторник."
   ]
  },
  {
   "cell_type": "markdown",
   "metadata": {},
   "source": [
    "## Общий вывод"
   ]
  },
  {
   "cell_type": "markdown",
   "metadata": {},
   "source": [
    "На основании проведенного исследовательского анализа объявлений о продаже квартир в Санкт-Петербурге и соседних населённых пунктах за несколько лет можно сделать следующие выводы:\n",
    "\n",
    "**Общие параметры для недвижимости:**\n",
    "\n",
    "1. В среднем квартира продается около трех месяцев;\n",
    "2. Стоимость квартиры прямопропорционально зависит от площади и количества комнат;\n",
    "3. На первом и последнем этаже квартиры стоят дешевле;\n",
    "4. Стоимость квартир с 2014 года снизилась более чем на 2,5 млн. руб., а с 2019 года тренд сменился на повышение;\n",
    "5. В июне квартиры продаются по самой низкой стоимости, а в апреле по самой высокой;\n",
    "6. Во вторник и четверг недвижимость дороже в среднем на 200 тыс. в сравнении с воскресеньем;\n",
    "7. Самые дорогие квартиры находятся в Санкт-Петербурге и Пушкине, а самые дешевые в Выборге\n",
    "\n",
    "**Параметры для недвижимости в центре города:**\n",
    "\n",
    "1. Квартиры в центре сильно отличаются в цене, они примерно в два раза дороже. Площадь квартир больше в среднем на 15 кв.м. Чаще встречаются многогомнатные квартиры, нежели однокомнатные. Более высокие потолки - 3 метра, для остальных квартир из датасета - 2,65; \n",
    "2. Стоимость квартир в центре также зависит от количества комнат, от этажа (на первом - дешевле), а от удаленности цена квартиры не зависит, в отличие от квартир из всей выборки;\n",
    "3. По самой дешевой цене квартиры продаются в декабре, по самой дорогой - в сентябре;\n",
    "4. Квартиры, размещаемые на продажу по четвергам продаются дешевле, чем в остальные дни. Пик стоимости приходится на воскресенье."
   ]
  }
 ],
 "metadata": {
  "ExecuteTimeLog": [
   {
    "duration": 1493,
    "start_time": "2022-01-16T09:50:18.998Z"
   },
   {
    "duration": 86,
    "start_time": "2022-01-16T09:50:42.259Z"
   },
   {
    "duration": 27,
    "start_time": "2022-01-16T09:50:50.918Z"
   },
   {
    "duration": 23,
    "start_time": "2022-01-16T09:51:45.538Z"
   },
   {
    "duration": 57,
    "start_time": "2022-01-16T09:51:58.379Z"
   },
   {
    "duration": 37,
    "start_time": "2022-01-16T11:08:42.600Z"
   },
   {
    "duration": 12,
    "start_time": "2022-01-16T11:10:41.160Z"
   },
   {
    "duration": 36,
    "start_time": "2022-01-16T13:58:52.682Z"
   },
   {
    "duration": 40,
    "start_time": "2022-01-16T14:13:39.330Z"
   },
   {
    "duration": 233,
    "start_time": "2022-01-16T16:37:54.613Z"
   },
   {
    "duration": 1121,
    "start_time": "2022-01-16T16:38:06.949Z"
   },
   {
    "duration": 236,
    "start_time": "2022-01-16T16:38:35.757Z"
   },
   {
    "duration": 1027,
    "start_time": "2022-01-16T16:38:46.277Z"
   },
   {
    "duration": 33,
    "start_time": "2022-01-16T16:38:50.537Z"
   },
   {
    "duration": 8,
    "start_time": "2022-01-16T16:38:54.567Z"
   },
   {
    "duration": 8,
    "start_time": "2022-01-16T16:38:58.021Z"
   },
   {
    "duration": 10,
    "start_time": "2022-01-16T16:39:24.177Z"
   },
   {
    "duration": 10,
    "start_time": "2022-01-16T16:50:24.975Z"
   },
   {
    "duration": 279,
    "start_time": "2022-01-16T16:50:43.015Z"
   },
   {
    "duration": 206,
    "start_time": "2022-01-16T16:50:59.125Z"
   },
   {
    "duration": 205,
    "start_time": "2022-01-16T16:51:05.265Z"
   },
   {
    "duration": 9,
    "start_time": "2022-01-16T16:51:22.745Z"
   },
   {
    "duration": 217,
    "start_time": "2022-01-16T17:00:06.215Z"
   },
   {
    "duration": 189,
    "start_time": "2022-01-16T17:01:10.134Z"
   },
   {
    "duration": 1076,
    "start_time": "2022-01-16T17:01:27.429Z"
   },
   {
    "duration": 36,
    "start_time": "2022-01-16T17:01:31.810Z"
   },
   {
    "duration": 9,
    "start_time": "2022-01-16T17:01:35.979Z"
   },
   {
    "duration": 10,
    "start_time": "2022-01-16T17:01:39.770Z"
   },
   {
    "duration": 283,
    "start_time": "2022-01-16T17:01:43.629Z"
   },
   {
    "duration": 5,
    "start_time": "2022-01-16T17:02:05.890Z"
   },
   {
    "duration": 1053,
    "start_time": "2022-01-17T16:27:35.847Z"
   },
   {
    "duration": 40,
    "start_time": "2022-01-17T16:27:40.637Z"
   },
   {
    "duration": 9,
    "start_time": "2022-01-17T16:27:45.686Z"
   },
   {
    "duration": 10,
    "start_time": "2022-01-17T16:27:58.567Z"
   },
   {
    "duration": 9,
    "start_time": "2022-01-17T16:28:02.887Z"
   },
   {
    "duration": 6,
    "start_time": "2022-01-17T16:40:21.255Z"
   },
   {
    "duration": 14,
    "start_time": "2022-01-17T16:51:09.562Z"
   },
   {
    "duration": 12,
    "start_time": "2022-01-17T16:51:56.993Z"
   },
   {
    "duration": 1150,
    "start_time": "2022-01-18T13:28:34.460Z"
   },
   {
    "duration": 38,
    "start_time": "2022-01-18T13:28:35.612Z"
   },
   {
    "duration": 8,
    "start_time": "2022-01-18T13:28:35.653Z"
   },
   {
    "duration": 29,
    "start_time": "2022-01-18T13:28:35.663Z"
   },
   {
    "duration": 9,
    "start_time": "2022-01-18T13:28:35.694Z"
   },
   {
    "duration": 17,
    "start_time": "2022-01-18T13:28:35.704Z"
   },
   {
    "duration": 5,
    "start_time": "2022-01-18T13:28:35.723Z"
   },
   {
    "duration": 8,
    "start_time": "2022-01-18T13:42:54.577Z"
   },
   {
    "duration": 13,
    "start_time": "2022-01-18T13:51:52.855Z"
   },
   {
    "duration": 8,
    "start_time": "2022-01-18T14:40:10.541Z"
   },
   {
    "duration": 6,
    "start_time": "2022-01-18T14:40:32.221Z"
   },
   {
    "duration": 7,
    "start_time": "2022-01-18T14:41:01.221Z"
   },
   {
    "duration": 284,
    "start_time": "2022-01-18T14:42:02.371Z"
   },
   {
    "duration": 7,
    "start_time": "2022-01-18T14:42:11.631Z"
   },
   {
    "duration": 6,
    "start_time": "2022-01-18T15:23:37.129Z"
   },
   {
    "duration": 7,
    "start_time": "2022-01-18T15:23:48.069Z"
   },
   {
    "duration": 6,
    "start_time": "2022-01-18T15:23:59.879Z"
   },
   {
    "duration": 141,
    "start_time": "2022-01-18T15:38:47.568Z"
   },
   {
    "duration": 6,
    "start_time": "2022-01-18T15:39:00.808Z"
   },
   {
    "duration": 132,
    "start_time": "2022-01-18T15:39:14.408Z"
   },
   {
    "duration": 199,
    "start_time": "2022-01-18T15:41:04.547Z"
   },
   {
    "duration": 70,
    "start_time": "2022-01-18T15:44:38.166Z"
   },
   {
    "duration": 9,
    "start_time": "2022-01-18T15:44:57.436Z"
   },
   {
    "duration": 187,
    "start_time": "2022-01-18T16:11:36.950Z"
   },
   {
    "duration": 184,
    "start_time": "2022-01-18T16:12:11.840Z"
   },
   {
    "duration": 186,
    "start_time": "2022-01-18T16:12:46.001Z"
   },
   {
    "duration": 12,
    "start_time": "2022-01-18T16:17:24.690Z"
   },
   {
    "duration": 20,
    "start_time": "2022-01-18T16:17:39.201Z"
   },
   {
    "duration": 20,
    "start_time": "2022-01-18T16:26:31.599Z"
   },
   {
    "duration": 48,
    "start_time": "2022-01-18T16:32:49.988Z"
   },
   {
    "duration": 37,
    "start_time": "2022-01-18T16:33:09.807Z"
   },
   {
    "duration": 5,
    "start_time": "2022-01-18T16:33:47.667Z"
   },
   {
    "duration": 9,
    "start_time": "2022-01-18T16:37:06.967Z"
   },
   {
    "duration": 9,
    "start_time": "2022-01-18T16:54:22.356Z"
   },
   {
    "duration": 183,
    "start_time": "2022-01-18T16:58:11.546Z"
   },
   {
    "duration": 173,
    "start_time": "2022-01-18T16:58:22.296Z"
   },
   {
    "duration": 172,
    "start_time": "2022-01-18T16:58:59.746Z"
   },
   {
    "duration": 9,
    "start_time": "2022-01-18T16:59:20.726Z"
   },
   {
    "duration": 7,
    "start_time": "2022-01-18T16:59:43.496Z"
   },
   {
    "duration": 5,
    "start_time": "2022-01-18T17:00:15.816Z"
   },
   {
    "duration": 7,
    "start_time": "2022-01-18T17:02:21.826Z"
   },
   {
    "duration": 7,
    "start_time": "2022-01-18T17:02:43.016Z"
   },
   {
    "duration": 9,
    "start_time": "2022-01-18T17:03:01.765Z"
   },
   {
    "duration": 8,
    "start_time": "2022-01-18T17:03:19.766Z"
   },
   {
    "duration": 385,
    "start_time": "2022-01-19T12:38:45.352Z"
   },
   {
    "duration": 1164,
    "start_time": "2022-01-19T12:39:00.138Z"
   },
   {
    "duration": 36,
    "start_time": "2022-01-19T12:39:01.304Z"
   },
   {
    "duration": 13,
    "start_time": "2022-01-19T12:39:01.345Z"
   },
   {
    "duration": 20,
    "start_time": "2022-01-19T12:39:01.360Z"
   },
   {
    "duration": 8,
    "start_time": "2022-01-19T12:39:01.381Z"
   },
   {
    "duration": 16,
    "start_time": "2022-01-19T12:39:01.391Z"
   },
   {
    "duration": 6,
    "start_time": "2022-01-19T12:39:01.410Z"
   },
   {
    "duration": 11,
    "start_time": "2022-01-19T12:39:01.418Z"
   },
   {
    "duration": 42,
    "start_time": "2022-01-19T12:39:01.430Z"
   },
   {
    "duration": 16,
    "start_time": "2022-01-19T12:39:01.474Z"
   },
   {
    "duration": 4,
    "start_time": "2022-01-19T12:39:01.492Z"
   },
   {
    "duration": 10,
    "start_time": "2022-01-19T12:39:01.497Z"
   },
   {
    "duration": 394,
    "start_time": "2022-01-19T12:39:01.508Z"
   },
   {
    "duration": 8,
    "start_time": "2022-01-19T12:39:26.367Z"
   },
   {
    "duration": 7,
    "start_time": "2022-01-19T12:40:03.518Z"
   },
   {
    "duration": 301,
    "start_time": "2022-01-19T12:41:08.078Z"
   },
   {
    "duration": 8,
    "start_time": "2022-01-19T12:41:21.097Z"
   },
   {
    "duration": 323,
    "start_time": "2022-01-19T12:42:12.758Z"
   },
   {
    "duration": 7,
    "start_time": "2022-01-19T12:42:24.298Z"
   },
   {
    "duration": 8,
    "start_time": "2022-01-19T12:43:34.638Z"
   },
   {
    "duration": 9,
    "start_time": "2022-01-19T12:44:49.977Z"
   },
   {
    "duration": 8,
    "start_time": "2022-01-19T12:45:12.458Z"
   },
   {
    "duration": 20,
    "start_time": "2022-01-19T12:47:18.827Z"
   },
   {
    "duration": 335,
    "start_time": "2022-01-19T12:48:21.308Z"
   },
   {
    "duration": 373,
    "start_time": "2022-01-19T12:48:45.358Z"
   },
   {
    "duration": 382,
    "start_time": "2022-01-19T12:49:10.057Z"
   },
   {
    "duration": 1267,
    "start_time": "2022-01-19T12:49:37.829Z"
   },
   {
    "duration": 34,
    "start_time": "2022-01-19T12:49:39.099Z"
   },
   {
    "duration": 9,
    "start_time": "2022-01-19T12:49:39.136Z"
   },
   {
    "duration": 25,
    "start_time": "2022-01-19T12:49:39.147Z"
   },
   {
    "duration": 8,
    "start_time": "2022-01-19T12:49:39.174Z"
   },
   {
    "duration": 15,
    "start_time": "2022-01-19T12:49:39.184Z"
   },
   {
    "duration": 5,
    "start_time": "2022-01-19T12:49:39.201Z"
   },
   {
    "duration": 7,
    "start_time": "2022-01-19T12:49:39.209Z"
   },
   {
    "duration": 7,
    "start_time": "2022-01-19T12:49:39.218Z"
   },
   {
    "duration": 47,
    "start_time": "2022-01-19T12:49:39.226Z"
   },
   {
    "duration": 5,
    "start_time": "2022-01-19T12:49:39.274Z"
   },
   {
    "duration": 7,
    "start_time": "2022-01-19T12:49:39.280Z"
   },
   {
    "duration": 18,
    "start_time": "2022-01-19T12:49:39.288Z"
   },
   {
    "duration": 1155,
    "start_time": "2022-01-19T12:50:18.837Z"
   },
   {
    "duration": 35,
    "start_time": "2022-01-19T12:50:19.994Z"
   },
   {
    "duration": 8,
    "start_time": "2022-01-19T12:50:20.031Z"
   },
   {
    "duration": 10,
    "start_time": "2022-01-19T12:50:20.040Z"
   },
   {
    "duration": 27,
    "start_time": "2022-01-19T12:50:20.051Z"
   },
   {
    "duration": 16,
    "start_time": "2022-01-19T12:50:20.079Z"
   },
   {
    "duration": 6,
    "start_time": "2022-01-19T12:50:20.097Z"
   },
   {
    "duration": 6,
    "start_time": "2022-01-19T12:50:20.105Z"
   },
   {
    "duration": 8,
    "start_time": "2022-01-19T12:50:20.113Z"
   },
   {
    "duration": 50,
    "start_time": "2022-01-19T12:50:20.122Z"
   },
   {
    "duration": 4,
    "start_time": "2022-01-19T12:50:20.173Z"
   },
   {
    "duration": 9,
    "start_time": "2022-01-19T12:50:20.179Z"
   },
   {
    "duration": 17,
    "start_time": "2022-01-19T12:50:20.189Z"
   },
   {
    "duration": 1258,
    "start_time": "2022-01-19T12:59:34.236Z"
   },
   {
    "duration": 34,
    "start_time": "2022-01-19T12:59:35.497Z"
   },
   {
    "duration": 9,
    "start_time": "2022-01-19T12:59:35.533Z"
   },
   {
    "duration": 7,
    "start_time": "2022-01-19T12:59:35.544Z"
   },
   {
    "duration": 26,
    "start_time": "2022-01-19T12:59:35.553Z"
   },
   {
    "duration": 16,
    "start_time": "2022-01-19T12:59:35.581Z"
   },
   {
    "duration": 7,
    "start_time": "2022-01-19T12:59:35.599Z"
   },
   {
    "duration": 9,
    "start_time": "2022-01-19T12:59:35.608Z"
   },
   {
    "duration": 13,
    "start_time": "2022-01-19T12:59:35.620Z"
   },
   {
    "duration": 58,
    "start_time": "2022-01-19T12:59:35.635Z"
   },
   {
    "duration": 6,
    "start_time": "2022-01-19T12:59:35.695Z"
   },
   {
    "duration": 12,
    "start_time": "2022-01-19T12:59:35.703Z"
   },
   {
    "duration": 24,
    "start_time": "2022-01-19T12:59:35.717Z"
   },
   {
    "duration": 392,
    "start_time": "2022-01-19T13:01:41.486Z"
   },
   {
    "duration": 312,
    "start_time": "2022-01-19T13:01:53.116Z"
   },
   {
    "duration": 1174,
    "start_time": "2022-01-19T13:02:21.204Z"
   },
   {
    "duration": 36,
    "start_time": "2022-01-19T13:02:22.381Z"
   },
   {
    "duration": 8,
    "start_time": "2022-01-19T13:02:22.419Z"
   },
   {
    "duration": 8,
    "start_time": "2022-01-19T13:02:22.429Z"
   },
   {
    "duration": 33,
    "start_time": "2022-01-19T13:02:22.439Z"
   },
   {
    "duration": 16,
    "start_time": "2022-01-19T13:02:22.473Z"
   },
   {
    "duration": 6,
    "start_time": "2022-01-19T13:02:22.491Z"
   },
   {
    "duration": 8,
    "start_time": "2022-01-19T13:02:22.498Z"
   },
   {
    "duration": 7,
    "start_time": "2022-01-19T13:02:22.508Z"
   },
   {
    "duration": 14,
    "start_time": "2022-01-19T13:02:22.517Z"
   },
   {
    "duration": 4,
    "start_time": "2022-01-19T13:02:22.532Z"
   },
   {
    "duration": 37,
    "start_time": "2022-01-19T13:02:22.537Z"
   },
   {
    "duration": 14,
    "start_time": "2022-01-19T13:02:22.575Z"
   },
   {
    "duration": 5,
    "start_time": "2022-01-19T13:02:29.355Z"
   },
   {
    "duration": 9,
    "start_time": "2022-01-19T13:03:31.394Z"
   },
   {
    "duration": 49,
    "start_time": "2022-01-19T13:12:21.145Z"
   },
   {
    "duration": 4,
    "start_time": "2022-01-19T13:12:59.514Z"
   },
   {
    "duration": 35,
    "start_time": "2022-01-19T13:13:02.404Z"
   },
   {
    "duration": 6,
    "start_time": "2022-01-19T13:15:33.373Z"
   },
   {
    "duration": 39,
    "start_time": "2022-01-19T13:15:35.794Z"
   },
   {
    "duration": 435,
    "start_time": "2022-01-19T13:24:06.432Z"
   },
   {
    "duration": 11,
    "start_time": "2022-01-19T13:24:13.252Z"
   },
   {
    "duration": 24,
    "start_time": "2022-01-19T13:29:58.012Z"
   },
   {
    "duration": 21,
    "start_time": "2022-01-19T13:30:51.462Z"
   },
   {
    "duration": 21,
    "start_time": "2022-01-19T13:31:56.631Z"
   },
   {
    "duration": 22,
    "start_time": "2022-01-19T13:32:03.341Z"
   },
   {
    "duration": 22,
    "start_time": "2022-01-19T13:32:14.563Z"
   },
   {
    "duration": 22,
    "start_time": "2022-01-19T13:32:36.471Z"
   },
   {
    "duration": 23,
    "start_time": "2022-01-19T13:33:14.802Z"
   },
   {
    "duration": 22,
    "start_time": "2022-01-19T13:33:37.981Z"
   },
   {
    "duration": 22,
    "start_time": "2022-01-19T13:34:13.440Z"
   },
   {
    "duration": 25,
    "start_time": "2022-01-19T13:34:35.651Z"
   },
   {
    "duration": 22,
    "start_time": "2022-01-19T13:34:57.231Z"
   },
   {
    "duration": 26,
    "start_time": "2022-01-19T13:37:13.361Z"
   },
   {
    "duration": 759,
    "start_time": "2022-01-19T13:43:52.530Z"
   },
   {
    "duration": 404,
    "start_time": "2022-01-19T13:44:46.940Z"
   },
   {
    "duration": 21,
    "start_time": "2022-01-19T13:47:43.350Z"
   },
   {
    "duration": 23,
    "start_time": "2022-01-19T13:48:20.330Z"
   },
   {
    "duration": 21,
    "start_time": "2022-01-19T13:51:17.459Z"
   },
   {
    "duration": 1086,
    "start_time": "2022-01-19T15:15:22.378Z"
   },
   {
    "duration": 1036,
    "start_time": "2022-01-19T15:18:45.867Z"
   },
   {
    "duration": 1054,
    "start_time": "2022-01-19T15:19:43.797Z"
   },
   {
    "duration": 1147,
    "start_time": "2022-01-19T15:20:08.537Z"
   },
   {
    "duration": 1068,
    "start_time": "2022-01-19T15:20:34.547Z"
   },
   {
    "duration": 1023,
    "start_time": "2022-01-19T15:22:19.517Z"
   },
   {
    "duration": 965,
    "start_time": "2022-01-19T15:23:04.887Z"
   },
   {
    "duration": 1176,
    "start_time": "2022-01-19T15:23:42.777Z"
   },
   {
    "duration": 1096,
    "start_time": "2022-01-19T15:25:09.866Z"
   },
   {
    "duration": 1224,
    "start_time": "2022-01-19T15:25:38.307Z"
   },
   {
    "duration": 1303,
    "start_time": "2022-01-19T15:26:20.096Z"
   },
   {
    "duration": 1095,
    "start_time": "2022-01-19T15:27:08.396Z"
   },
   {
    "duration": 7,
    "start_time": "2022-01-19T15:30:10.585Z"
   },
   {
    "duration": 1256,
    "start_time": "2022-01-19T15:34:59.944Z"
   },
   {
    "duration": 1131,
    "start_time": "2022-01-19T15:35:43.865Z"
   },
   {
    "duration": 386,
    "start_time": "2022-01-19T15:51:11.294Z"
   },
   {
    "duration": 405,
    "start_time": "2022-01-19T15:57:00.693Z"
   },
   {
    "duration": 298,
    "start_time": "2022-01-19T16:07:23.012Z"
   },
   {
    "duration": 321,
    "start_time": "2022-01-19T16:07:37.452Z"
   },
   {
    "duration": 505,
    "start_time": "2022-01-19T16:07:47.752Z"
   },
   {
    "duration": 7,
    "start_time": "2022-01-19T16:08:41.072Z"
   },
   {
    "duration": 8,
    "start_time": "2022-01-19T16:09:47.321Z"
   },
   {
    "duration": 296,
    "start_time": "2022-01-19T16:15:31.121Z"
   },
   {
    "duration": 350,
    "start_time": "2022-01-19T16:15:43.351Z"
   },
   {
    "duration": 891,
    "start_time": "2022-01-19T16:23:11.360Z"
   },
   {
    "duration": 1194,
    "start_time": "2022-01-19T16:24:11.257Z"
   },
   {
    "duration": 34,
    "start_time": "2022-01-19T16:24:12.456Z"
   },
   {
    "duration": 9,
    "start_time": "2022-01-19T16:24:12.492Z"
   },
   {
    "duration": 9,
    "start_time": "2022-01-19T16:24:12.503Z"
   },
   {
    "duration": 10,
    "start_time": "2022-01-19T16:24:12.514Z"
   },
   {
    "duration": 47,
    "start_time": "2022-01-19T16:24:12.525Z"
   },
   {
    "duration": 7,
    "start_time": "2022-01-19T16:24:12.574Z"
   },
   {
    "duration": 6,
    "start_time": "2022-01-19T16:24:12.583Z"
   },
   {
    "duration": 8,
    "start_time": "2022-01-19T16:24:12.591Z"
   },
   {
    "duration": 34,
    "start_time": "2022-01-19T16:24:12.620Z"
   },
   {
    "duration": 5,
    "start_time": "2022-01-19T16:24:12.656Z"
   },
   {
    "duration": 10,
    "start_time": "2022-01-19T16:24:12.663Z"
   },
   {
    "duration": 14,
    "start_time": "2022-01-19T16:24:12.674Z"
   },
   {
    "duration": 6,
    "start_time": "2022-01-19T16:24:12.690Z"
   },
   {
    "duration": 86,
    "start_time": "2022-01-19T16:24:12.697Z"
   },
   {
    "duration": 10,
    "start_time": "2022-01-19T16:24:12.785Z"
   },
   {
    "duration": 29,
    "start_time": "2022-01-19T16:24:12.797Z"
   },
   {
    "duration": 56,
    "start_time": "2022-01-19T16:24:12.828Z"
   },
   {
    "duration": 663,
    "start_time": "2022-01-19T16:24:12.886Z"
   },
   {
    "duration": 29,
    "start_time": "2022-01-19T16:24:13.551Z"
   },
   {
    "duration": 19,
    "start_time": "2022-01-19T16:24:13.581Z"
   },
   {
    "duration": 1126,
    "start_time": "2022-01-19T16:24:13.603Z"
   },
   {
    "duration": 7,
    "start_time": "2022-01-19T16:24:14.731Z"
   },
   {
    "duration": 494,
    "start_time": "2022-01-19T16:24:14.740Z"
   },
   {
    "duration": 436,
    "start_time": "2022-01-19T16:24:15.236Z"
   },
   {
    "duration": 10,
    "start_time": "2022-01-19T16:24:15.674Z"
   },
   {
    "duration": 397,
    "start_time": "2022-01-19T16:24:15.685Z"
   },
   {
    "duration": 8650,
    "start_time": "2022-01-19T16:24:16.084Z"
   },
   {
    "duration": 920,
    "start_time": "2022-01-19T16:25:18.746Z"
   },
   {
    "duration": 1266,
    "start_time": "2022-01-20T15:26:50.052Z"
   },
   {
    "duration": 42,
    "start_time": "2022-01-20T15:26:51.320Z"
   },
   {
    "duration": 20,
    "start_time": "2022-01-20T15:26:51.365Z"
   },
   {
    "duration": 12,
    "start_time": "2022-01-20T15:26:51.388Z"
   },
   {
    "duration": 20,
    "start_time": "2022-01-20T15:26:51.402Z"
   },
   {
    "duration": 20,
    "start_time": "2022-01-20T15:26:51.424Z"
   },
   {
    "duration": 21,
    "start_time": "2022-01-20T15:26:51.446Z"
   },
   {
    "duration": 20,
    "start_time": "2022-01-20T15:26:51.470Z"
   },
   {
    "duration": 10,
    "start_time": "2022-01-20T15:26:51.493Z"
   },
   {
    "duration": 18,
    "start_time": "2022-01-20T15:26:51.505Z"
   },
   {
    "duration": 4,
    "start_time": "2022-01-20T15:26:51.525Z"
   },
   {
    "duration": 39,
    "start_time": "2022-01-20T15:26:51.530Z"
   },
   {
    "duration": 18,
    "start_time": "2022-01-20T15:26:51.571Z"
   },
   {
    "duration": 9,
    "start_time": "2022-01-20T15:26:51.590Z"
   },
   {
    "duration": 63,
    "start_time": "2022-01-20T15:26:51.601Z"
   },
   {
    "duration": 14,
    "start_time": "2022-01-20T15:26:51.667Z"
   },
   {
    "duration": 42,
    "start_time": "2022-01-20T15:26:51.683Z"
   },
   {
    "duration": 28,
    "start_time": "2022-01-20T15:26:51.726Z"
   },
   {
    "duration": 478,
    "start_time": "2022-01-20T15:26:51.760Z"
   },
   {
    "duration": 39,
    "start_time": "2022-01-20T15:26:52.240Z"
   },
   {
    "duration": 21,
    "start_time": "2022-01-20T15:26:52.281Z"
   },
   {
    "duration": 1265,
    "start_time": "2022-01-20T15:26:52.304Z"
   },
   {
    "duration": 13,
    "start_time": "2022-01-20T15:26:53.572Z"
   },
   {
    "duration": 530,
    "start_time": "2022-01-20T15:26:53.588Z"
   },
   {
    "duration": 482,
    "start_time": "2022-01-20T15:26:54.121Z"
   },
   {
    "duration": 13,
    "start_time": "2022-01-20T15:26:54.606Z"
   },
   {
    "duration": 430,
    "start_time": "2022-01-20T15:26:54.621Z"
   },
   {
    "duration": 1087,
    "start_time": "2022-01-20T15:26:55.060Z"
   },
   {
    "duration": 394,
    "start_time": "2022-01-20T15:26:56.149Z"
   },
   {
    "duration": 293,
    "start_time": "2022-01-20T15:28:47.401Z"
   },
   {
    "duration": 11,
    "start_time": "2022-01-20T15:29:21.512Z"
   },
   {
    "duration": 289,
    "start_time": "2022-01-20T15:35:13.161Z"
   },
   {
    "duration": 156,
    "start_time": "2022-01-20T15:36:13.510Z"
   },
   {
    "duration": 255,
    "start_time": "2022-01-20T15:43:43.019Z"
   },
   {
    "duration": 28,
    "start_time": "2022-01-20T15:45:23.629Z"
   },
   {
    "duration": 213,
    "start_time": "2022-01-20T15:45:46.739Z"
   },
   {
    "duration": 320,
    "start_time": "2022-01-20T15:47:59.358Z"
   },
   {
    "duration": 341,
    "start_time": "2022-01-20T15:48:26.820Z"
   },
   {
    "duration": 218,
    "start_time": "2022-01-20T15:51:28.909Z"
   },
   {
    "duration": 197,
    "start_time": "2022-01-20T15:53:48.389Z"
   },
   {
    "duration": 262,
    "start_time": "2022-01-20T16:02:44.737Z"
   },
   {
    "duration": 18,
    "start_time": "2022-01-20T16:03:54.837Z"
   },
   {
    "duration": 20,
    "start_time": "2022-01-20T16:05:46.097Z"
   },
   {
    "duration": 19,
    "start_time": "2022-01-20T16:06:18.527Z"
   },
   {
    "duration": 18,
    "start_time": "2022-01-20T16:06:31.907Z"
   },
   {
    "duration": 17,
    "start_time": "2022-01-20T16:06:48.088Z"
   },
   {
    "duration": 18,
    "start_time": "2022-01-20T16:06:53.377Z"
   },
   {
    "duration": 17,
    "start_time": "2022-01-20T16:07:10.137Z"
   },
   {
    "duration": 23,
    "start_time": "2022-01-20T16:07:23.227Z"
   },
   {
    "duration": 17,
    "start_time": "2022-01-20T16:07:28.877Z"
   },
   {
    "duration": 8263,
    "start_time": "2022-01-20T16:18:47.025Z"
   },
   {
    "duration": 6683,
    "start_time": "2022-01-20T16:19:07.105Z"
   },
   {
    "duration": 31,
    "start_time": "2022-01-20T16:19:37.405Z"
   },
   {
    "duration": 5,
    "start_time": "2022-01-20T16:20:05.135Z"
   },
   {
    "duration": 219,
    "start_time": "2022-01-20T16:20:19.915Z"
   },
   {
    "duration": 80,
    "start_time": "2022-01-20T16:20:57.075Z"
   },
   {
    "duration": 222,
    "start_time": "2022-01-20T16:21:06.475Z"
   },
   {
    "duration": 213,
    "start_time": "2022-01-20T16:22:05.615Z"
   },
   {
    "duration": 1866,
    "start_time": "2022-01-22T07:05:41.522Z"
   },
   {
    "duration": 82,
    "start_time": "2022-01-22T07:05:43.391Z"
   },
   {
    "duration": 11,
    "start_time": "2022-01-22T07:05:43.476Z"
   },
   {
    "duration": 14,
    "start_time": "2022-01-22T07:05:43.490Z"
   },
   {
    "duration": 16,
    "start_time": "2022-01-22T07:05:43.507Z"
   },
   {
    "duration": 63,
    "start_time": "2022-01-22T07:05:43.526Z"
   },
   {
    "duration": 10,
    "start_time": "2022-01-22T07:05:43.591Z"
   },
   {
    "duration": 9,
    "start_time": "2022-01-22T07:05:43.605Z"
   },
   {
    "duration": 52,
    "start_time": "2022-01-22T07:05:43.617Z"
   },
   {
    "duration": 25,
    "start_time": "2022-01-22T07:05:43.672Z"
   },
   {
    "duration": 6,
    "start_time": "2022-01-22T07:05:43.699Z"
   },
   {
    "duration": 15,
    "start_time": "2022-01-22T07:05:43.707Z"
   },
   {
    "duration": 58,
    "start_time": "2022-01-22T07:05:43.725Z"
   },
   {
    "duration": 9,
    "start_time": "2022-01-22T07:05:43.786Z"
   },
   {
    "duration": 101,
    "start_time": "2022-01-22T07:05:43.797Z"
   },
   {
    "duration": 16,
    "start_time": "2022-01-22T07:05:43.901Z"
   },
   {
    "duration": 66,
    "start_time": "2022-01-22T07:05:43.920Z"
   },
   {
    "duration": 55,
    "start_time": "2022-01-22T07:05:43.989Z"
   },
   {
    "duration": 828,
    "start_time": "2022-01-22T07:05:44.046Z"
   },
   {
    "duration": 36,
    "start_time": "2022-01-22T07:05:44.877Z"
   },
   {
    "duration": 64,
    "start_time": "2022-01-22T07:05:44.916Z"
   },
   {
    "duration": 2224,
    "start_time": "2022-01-22T07:05:44.983Z"
   },
   {
    "duration": 9,
    "start_time": "2022-01-22T07:05:47.211Z"
   },
   {
    "duration": 784,
    "start_time": "2022-01-22T07:05:47.223Z"
   },
   {
    "duration": 817,
    "start_time": "2022-01-22T07:05:48.010Z"
   },
   {
    "duration": 13,
    "start_time": "2022-01-22T07:05:48.830Z"
   },
   {
    "duration": 684,
    "start_time": "2022-01-22T07:05:48.846Z"
   },
   {
    "duration": 1494,
    "start_time": "2022-01-22T07:05:49.532Z"
   },
   {
    "duration": 40,
    "start_time": "2022-01-22T07:05:51.029Z"
   },
   {
    "duration": 261,
    "start_time": "2022-01-22T07:05:51.072Z"
   },
   {
    "duration": 359,
    "start_time": "2022-01-22T07:05:51.335Z"
   },
   {
    "duration": 361,
    "start_time": "2022-01-22T07:05:51.697Z"
   },
   {
    "duration": 424,
    "start_time": "2022-01-22T07:05:52.061Z"
   },
   {
    "duration": 25,
    "start_time": "2022-01-22T07:05:52.487Z"
   },
   {
    "duration": 528,
    "start_time": "2022-01-22T07:05:52.514Z"
   },
   {
    "duration": 7,
    "start_time": "2022-01-22T07:05:53.044Z"
   },
   {
    "duration": 678,
    "start_time": "2022-01-22T07:09:42.722Z"
   },
   {
    "duration": 353,
    "start_time": "2022-01-22T07:13:44.961Z"
   },
   {
    "duration": 490,
    "start_time": "2022-01-22T07:23:09.770Z"
   },
   {
    "duration": 2288,
    "start_time": "2022-01-22T07:23:47.480Z"
   },
   {
    "duration": 8954,
    "start_time": "2022-01-22T07:29:45.250Z"
   },
   {
    "duration": 10,
    "start_time": "2022-01-22T07:32:18.899Z"
   },
   {
    "duration": 10,
    "start_time": "2022-01-22T07:33:05.808Z"
   },
   {
    "duration": 23,
    "start_time": "2022-01-22T07:34:03.439Z"
   },
   {
    "duration": 9,
    "start_time": "2022-01-22T07:43:50.408Z"
   },
   {
    "duration": 11,
    "start_time": "2022-01-22T07:44:48.907Z"
   },
   {
    "duration": 13,
    "start_time": "2022-01-22T07:45:07.727Z"
   },
   {
    "duration": 444,
    "start_time": "2022-01-22T08:02:33.025Z"
   },
   {
    "duration": 326,
    "start_time": "2022-01-22T08:03:47.405Z"
   },
   {
    "duration": 333,
    "start_time": "2022-01-22T08:05:37.415Z"
   },
   {
    "duration": 301,
    "start_time": "2022-01-22T08:11:18.834Z"
   },
   {
    "duration": 312,
    "start_time": "2022-01-22T08:11:39.623Z"
   },
   {
    "duration": 242,
    "start_time": "2022-01-22T08:11:58.474Z"
   },
   {
    "duration": 7234,
    "start_time": "2022-01-22T08:18:07.242Z"
   },
   {
    "duration": 482,
    "start_time": "2022-01-22T08:18:30.453Z"
   },
   {
    "duration": 427,
    "start_time": "2022-01-22T08:19:03.393Z"
   },
   {
    "duration": 14,
    "start_time": "2022-01-22T08:20:45.243Z"
   },
   {
    "duration": 357,
    "start_time": "2022-01-22T08:27:35.092Z"
   },
   {
    "duration": 337,
    "start_time": "2022-01-22T08:28:54.132Z"
   },
   {
    "duration": 339,
    "start_time": "2022-01-22T08:29:17.502Z"
   },
   {
    "duration": 330,
    "start_time": "2022-01-22T08:29:26.382Z"
   },
   {
    "duration": 408,
    "start_time": "2022-01-22T08:29:53.822Z"
   },
   {
    "duration": 364,
    "start_time": "2022-01-22T08:30:06.662Z"
   },
   {
    "duration": 421,
    "start_time": "2022-01-22T08:30:13.283Z"
   },
   {
    "duration": 363,
    "start_time": "2022-01-22T08:30:18.032Z"
   },
   {
    "duration": 438,
    "start_time": "2022-01-22T08:30:40.732Z"
   },
   {
    "duration": 326,
    "start_time": "2022-01-22T08:32:06.331Z"
   },
   {
    "duration": 329,
    "start_time": "2022-01-22T08:33:21.272Z"
   },
   {
    "duration": 1491,
    "start_time": "2022-01-24T14:29:46.576Z"
   },
   {
    "duration": 55,
    "start_time": "2022-01-24T14:29:48.070Z"
   },
   {
    "duration": 15,
    "start_time": "2022-01-24T14:29:48.130Z"
   },
   {
    "duration": 13,
    "start_time": "2022-01-24T14:29:48.148Z"
   },
   {
    "duration": 12,
    "start_time": "2022-01-24T14:29:48.163Z"
   },
   {
    "duration": 65,
    "start_time": "2022-01-24T14:29:48.178Z"
   },
   {
    "duration": 12,
    "start_time": "2022-01-24T14:29:48.246Z"
   },
   {
    "duration": 10,
    "start_time": "2022-01-24T14:29:48.263Z"
   },
   {
    "duration": 10,
    "start_time": "2022-01-24T14:29:48.276Z"
   },
   {
    "duration": 60,
    "start_time": "2022-01-24T14:29:48.288Z"
   },
   {
    "duration": 5,
    "start_time": "2022-01-24T14:29:48.350Z"
   },
   {
    "duration": 11,
    "start_time": "2022-01-24T14:29:48.357Z"
   },
   {
    "duration": 57,
    "start_time": "2022-01-24T14:29:48.370Z"
   },
   {
    "duration": 9,
    "start_time": "2022-01-24T14:29:48.431Z"
   },
   {
    "duration": 60,
    "start_time": "2022-01-24T14:29:48.442Z"
   },
   {
    "duration": 18,
    "start_time": "2022-01-24T14:29:48.524Z"
   },
   {
    "duration": 36,
    "start_time": "2022-01-24T14:29:48.545Z"
   },
   {
    "duration": 76,
    "start_time": "2022-01-24T14:29:48.583Z"
   },
   {
    "duration": 708,
    "start_time": "2022-01-24T14:29:48.662Z"
   },
   {
    "duration": 34,
    "start_time": "2022-01-24T14:29:49.373Z"
   },
   {
    "duration": 53,
    "start_time": "2022-01-24T14:29:49.409Z"
   },
   {
    "duration": 2025,
    "start_time": "2022-01-24T14:29:49.465Z"
   },
   {
    "duration": 27,
    "start_time": "2022-01-24T14:29:51.497Z"
   },
   {
    "duration": 766,
    "start_time": "2022-01-24T14:29:51.529Z"
   },
   {
    "duration": 714,
    "start_time": "2022-01-24T14:29:52.299Z"
   },
   {
    "duration": 17,
    "start_time": "2022-01-24T14:29:53.023Z"
   },
   {
    "duration": 675,
    "start_time": "2022-01-24T14:29:53.042Z"
   },
   {
    "duration": 1498,
    "start_time": "2022-01-24T14:29:53.719Z"
   },
   {
    "duration": 15,
    "start_time": "2022-01-24T14:29:55.220Z"
   },
   {
    "duration": 262,
    "start_time": "2022-01-24T14:29:55.238Z"
   },
   {
    "duration": 347,
    "start_time": "2022-01-24T14:29:55.502Z"
   },
   {
    "duration": 377,
    "start_time": "2022-01-24T14:29:55.852Z"
   },
   {
    "duration": 395,
    "start_time": "2022-01-24T14:29:56.232Z"
   },
   {
    "duration": 28,
    "start_time": "2022-01-24T14:29:56.630Z"
   },
   {
    "duration": 393,
    "start_time": "2022-01-24T14:29:56.661Z"
   },
   {
    "duration": 2347,
    "start_time": "2022-01-24T14:29:57.056Z"
   },
   {
    "duration": 26,
    "start_time": "2022-01-24T14:29:59.406Z"
   },
   {
    "duration": 347,
    "start_time": "2022-01-24T14:29:59.434Z"
   },
   {
    "duration": 253,
    "start_time": "2022-01-24T14:29:59.783Z"
   },
   {
    "duration": 453,
    "start_time": "2022-01-24T14:30:00.040Z"
   },
   {
    "duration": 12,
    "start_time": "2022-01-24T14:30:00.495Z"
   },
   {
    "duration": 438,
    "start_time": "2022-01-24T14:30:00.510Z"
   },
   {
    "duration": 341,
    "start_time": "2022-01-24T14:30:00.950Z"
   },
   {
    "duration": 311,
    "start_time": "2022-01-24T14:30:01.293Z"
   },
   {
    "duration": 2190,
    "start_time": "2022-01-24T14:31:19.996Z"
   },
   {
    "duration": 1941,
    "start_time": "2022-01-24T14:31:45.266Z"
   },
   {
    "duration": 2107,
    "start_time": "2022-01-24T14:32:15.216Z"
   },
   {
    "duration": 2022,
    "start_time": "2022-01-24T14:32:36.965Z"
   },
   {
    "duration": 1924,
    "start_time": "2022-01-24T14:32:57.976Z"
   },
   {
    "duration": 1830,
    "start_time": "2022-01-24T14:33:10.585Z"
   },
   {
    "duration": 2047,
    "start_time": "2022-01-24T14:33:32.605Z"
   },
   {
    "duration": 1703,
    "start_time": "2022-01-24T14:39:53.097Z"
   },
   {
    "duration": 58,
    "start_time": "2022-01-24T14:39:54.803Z"
   },
   {
    "duration": 11,
    "start_time": "2022-01-24T14:39:54.864Z"
   },
   {
    "duration": 11,
    "start_time": "2022-01-24T14:39:54.878Z"
   },
   {
    "duration": 43,
    "start_time": "2022-01-24T14:39:54.892Z"
   },
   {
    "duration": 24,
    "start_time": "2022-01-24T14:39:54.938Z"
   },
   {
    "duration": 9,
    "start_time": "2022-01-24T14:39:54.964Z"
   },
   {
    "duration": 17,
    "start_time": "2022-01-24T14:39:54.976Z"
   },
   {
    "duration": 41,
    "start_time": "2022-01-24T14:39:54.996Z"
   },
   {
    "duration": 26,
    "start_time": "2022-01-24T14:39:55.040Z"
   },
   {
    "duration": 5,
    "start_time": "2022-01-24T14:39:55.068Z"
   },
   {
    "duration": 47,
    "start_time": "2022-01-24T14:39:55.077Z"
   },
   {
    "duration": 25,
    "start_time": "2022-01-24T14:39:55.128Z"
   },
   {
    "duration": 6,
    "start_time": "2022-01-24T14:39:55.156Z"
   },
   {
    "duration": 101,
    "start_time": "2022-01-24T14:39:55.164Z"
   },
   {
    "duration": 12,
    "start_time": "2022-01-24T14:39:55.268Z"
   },
   {
    "duration": 54,
    "start_time": "2022-01-24T14:39:55.282Z"
   },
   {
    "duration": 40,
    "start_time": "2022-01-24T14:39:55.339Z"
   },
   {
    "duration": 684,
    "start_time": "2022-01-24T14:39:55.381Z"
   },
   {
    "duration": 33,
    "start_time": "2022-01-24T14:39:56.068Z"
   },
   {
    "duration": 55,
    "start_time": "2022-01-24T14:39:56.103Z"
   },
   {
    "duration": 1920,
    "start_time": "2022-01-24T14:39:56.160Z"
   },
   {
    "duration": 10,
    "start_time": "2022-01-24T14:39:58.084Z"
   },
   {
    "duration": 803,
    "start_time": "2022-01-24T14:39:58.097Z"
   },
   {
    "duration": 737,
    "start_time": "2022-01-24T14:39:58.903Z"
   },
   {
    "duration": 12,
    "start_time": "2022-01-24T14:39:59.643Z"
   },
   {
    "duration": 684,
    "start_time": "2022-01-24T14:39:59.657Z"
   },
   {
    "duration": 1486,
    "start_time": "2022-01-24T14:40:00.344Z"
   },
   {
    "duration": 18,
    "start_time": "2022-01-24T14:40:01.833Z"
   },
   {
    "duration": 275,
    "start_time": "2022-01-24T14:40:01.854Z"
   },
   {
    "duration": 452,
    "start_time": "2022-01-24T14:40:02.131Z"
   },
   {
    "duration": 344,
    "start_time": "2022-01-24T14:40:02.585Z"
   },
   {
    "duration": 410,
    "start_time": "2022-01-24T14:40:02.932Z"
   },
   {
    "duration": 28,
    "start_time": "2022-01-24T14:40:03.345Z"
   },
   {
    "duration": 372,
    "start_time": "2022-01-24T14:40:03.375Z"
   },
   {
    "duration": 2247,
    "start_time": "2022-01-24T14:40:03.749Z"
   },
   {
    "duration": 35,
    "start_time": "2022-01-24T14:40:05.999Z"
   },
   {
    "duration": 358,
    "start_time": "2022-01-24T14:40:06.037Z"
   },
   {
    "duration": 259,
    "start_time": "2022-01-24T14:40:06.397Z"
   },
   {
    "duration": 495,
    "start_time": "2022-01-24T14:40:06.659Z"
   },
   {
    "duration": 10,
    "start_time": "2022-01-24T14:40:07.157Z"
   },
   {
    "duration": 441,
    "start_time": "2022-01-24T14:40:07.170Z"
   },
   {
    "duration": 342,
    "start_time": "2022-01-24T14:40:07.613Z"
   },
   {
    "duration": 314,
    "start_time": "2022-01-24T14:40:07.957Z"
   },
   {
    "duration": 670,
    "start_time": "2022-01-24T14:43:09.817Z"
   },
   {
    "duration": 6,
    "start_time": "2022-01-24T14:48:33.168Z"
   },
   {
    "duration": 1512,
    "start_time": "2022-01-24T14:53:43.560Z"
   },
   {
    "duration": 62,
    "start_time": "2022-01-24T14:53:45.075Z"
   },
   {
    "duration": 12,
    "start_time": "2022-01-24T14:53:45.141Z"
   },
   {
    "duration": 12,
    "start_time": "2022-01-24T14:53:45.155Z"
   },
   {
    "duration": 12,
    "start_time": "2022-01-24T14:53:45.170Z"
   },
   {
    "duration": 58,
    "start_time": "2022-01-24T14:53:45.184Z"
   },
   {
    "duration": 10,
    "start_time": "2022-01-24T14:53:45.244Z"
   },
   {
    "duration": 8,
    "start_time": "2022-01-24T14:53:45.258Z"
   },
   {
    "duration": 11,
    "start_time": "2022-01-24T14:53:45.269Z"
   },
   {
    "duration": 70,
    "start_time": "2022-01-24T14:53:45.282Z"
   },
   {
    "duration": 7,
    "start_time": "2022-01-24T14:53:45.355Z"
   },
   {
    "duration": 17,
    "start_time": "2022-01-24T14:53:45.365Z"
   },
   {
    "duration": 57,
    "start_time": "2022-01-24T14:53:45.385Z"
   },
   {
    "duration": 7,
    "start_time": "2022-01-24T14:53:45.445Z"
   },
   {
    "duration": 90,
    "start_time": "2022-01-24T14:53:45.454Z"
   },
   {
    "duration": 13,
    "start_time": "2022-01-24T14:53:45.547Z"
   },
   {
    "duration": 37,
    "start_time": "2022-01-24T14:53:45.562Z"
   },
   {
    "duration": 60,
    "start_time": "2022-01-24T14:53:45.601Z"
   },
   {
    "duration": 707,
    "start_time": "2022-01-24T14:53:45.663Z"
   },
   {
    "duration": 31,
    "start_time": "2022-01-24T14:53:46.372Z"
   },
   {
    "duration": 54,
    "start_time": "2022-01-24T14:53:46.405Z"
   },
   {
    "duration": 1995,
    "start_time": "2022-01-24T14:53:46.461Z"
   },
   {
    "duration": 9,
    "start_time": "2022-01-24T14:53:48.461Z"
   },
   {
    "duration": 742,
    "start_time": "2022-01-24T14:53:48.472Z"
   },
   {
    "duration": 14,
    "start_time": "2022-01-24T14:53:49.216Z"
   },
   {
    "duration": 735,
    "start_time": "2022-01-24T14:53:49.233Z"
   },
   {
    "duration": 11,
    "start_time": "2022-01-24T14:53:49.971Z"
   },
   {
    "duration": 723,
    "start_time": "2022-01-24T14:53:49.985Z"
   },
   {
    "duration": 1689,
    "start_time": "2022-01-24T14:53:50.711Z"
   },
   {
    "duration": 30,
    "start_time": "2022-01-24T14:53:52.402Z"
   },
   {
    "duration": 275,
    "start_time": "2022-01-24T14:53:52.435Z"
   },
   {
    "duration": 361,
    "start_time": "2022-01-24T14:53:52.712Z"
   },
   {
    "duration": 363,
    "start_time": "2022-01-24T14:53:53.075Z"
   },
   {
    "duration": 402,
    "start_time": "2022-01-24T14:53:53.440Z"
   },
   {
    "duration": 24,
    "start_time": "2022-01-24T14:53:53.845Z"
   },
   {
    "duration": 375,
    "start_time": "2022-01-24T14:53:53.871Z"
   },
   {
    "duration": 2396,
    "start_time": "2022-01-24T14:53:54.248Z"
   },
   {
    "duration": 14,
    "start_time": "2022-01-24T14:53:56.647Z"
   },
   {
    "duration": 415,
    "start_time": "2022-01-24T14:53:56.664Z"
   },
   {
    "duration": 285,
    "start_time": "2022-01-24T14:53:57.082Z"
   },
   {
    "duration": 579,
    "start_time": "2022-01-24T14:53:57.371Z"
   },
   {
    "duration": 12,
    "start_time": "2022-01-24T14:53:57.952Z"
   },
   {
    "duration": 487,
    "start_time": "2022-01-24T14:53:57.966Z"
   },
   {
    "duration": 388,
    "start_time": "2022-01-24T14:53:58.455Z"
   },
   {
    "duration": 320,
    "start_time": "2022-01-24T14:53:58.845Z"
   },
   {
    "duration": 12,
    "start_time": "2022-01-24T15:02:10.753Z"
   },
   {
    "duration": 500,
    "start_time": "2022-01-24T15:03:24.769Z"
   },
   {
    "duration": 2305,
    "start_time": "2022-01-24T16:16:49.360Z"
   },
   {
    "duration": 2358,
    "start_time": "2022-01-24T16:17:10.434Z"
   },
   {
    "duration": 2326,
    "start_time": "2022-01-24T16:17:35.100Z"
   },
   {
    "duration": 92,
    "start_time": "2022-01-25T13:40:55.025Z"
   },
   {
    "duration": 1693,
    "start_time": "2022-01-25T13:42:32.623Z"
   },
   {
    "duration": 43,
    "start_time": "2022-01-25T13:42:34.318Z"
   },
   {
    "duration": 13,
    "start_time": "2022-01-25T13:42:34.364Z"
   },
   {
    "duration": 35,
    "start_time": "2022-01-25T13:42:34.379Z"
   },
   {
    "duration": 11,
    "start_time": "2022-01-25T13:42:34.416Z"
   },
   {
    "duration": 22,
    "start_time": "2022-01-25T13:42:34.429Z"
   },
   {
    "duration": 8,
    "start_time": "2022-01-25T13:42:34.453Z"
   },
   {
    "duration": 10,
    "start_time": "2022-01-25T13:42:34.464Z"
   },
   {
    "duration": 19,
    "start_time": "2022-01-25T13:42:34.508Z"
   },
   {
    "duration": 20,
    "start_time": "2022-01-25T13:42:34.529Z"
   },
   {
    "duration": 5,
    "start_time": "2022-01-25T13:42:34.550Z"
   },
   {
    "duration": 16,
    "start_time": "2022-01-25T13:42:34.557Z"
   },
   {
    "duration": 40,
    "start_time": "2022-01-25T13:42:34.574Z"
   },
   {
    "duration": 6,
    "start_time": "2022-01-25T13:42:34.616Z"
   },
   {
    "duration": 53,
    "start_time": "2022-01-25T13:42:34.624Z"
   },
   {
    "duration": 28,
    "start_time": "2022-01-25T13:42:34.679Z"
   },
   {
    "duration": 30,
    "start_time": "2022-01-25T13:42:34.710Z"
   },
   {
    "duration": 31,
    "start_time": "2022-01-25T13:42:34.741Z"
   },
   {
    "duration": 490,
    "start_time": "2022-01-25T13:42:34.774Z"
   },
   {
    "duration": 27,
    "start_time": "2022-01-25T13:42:35.265Z"
   },
   {
    "duration": 27,
    "start_time": "2022-01-25T13:42:35.307Z"
   },
   {
    "duration": 1390,
    "start_time": "2022-01-25T13:42:35.336Z"
   },
   {
    "duration": 9,
    "start_time": "2022-01-25T13:42:36.731Z"
   },
   {
    "duration": 566,
    "start_time": "2022-01-25T13:42:36.743Z"
   },
   {
    "duration": 6,
    "start_time": "2022-01-25T13:42:37.312Z"
   },
   {
    "duration": 531,
    "start_time": "2022-01-25T13:42:37.320Z"
   },
   {
    "duration": 11,
    "start_time": "2022-01-25T13:42:37.853Z"
   },
   {
    "duration": 397,
    "start_time": "2022-01-25T13:42:37.866Z"
   },
   {
    "duration": 9,
    "start_time": "2022-01-25T13:42:38.265Z"
   },
   {
    "duration": 1145,
    "start_time": "2022-01-25T13:42:38.276Z"
   },
   {
    "duration": 12,
    "start_time": "2022-01-25T13:42:39.423Z"
   },
   {
    "duration": 195,
    "start_time": "2022-01-25T13:42:39.437Z"
   },
   {
    "duration": 249,
    "start_time": "2022-01-25T13:42:39.635Z"
   },
   {
    "duration": 255,
    "start_time": "2022-01-25T13:42:39.887Z"
   },
   {
    "duration": 295,
    "start_time": "2022-01-25T13:42:40.144Z"
   },
   {
    "duration": 19,
    "start_time": "2022-01-25T13:42:40.441Z"
   },
   {
    "duration": 261,
    "start_time": "2022-01-25T13:42:40.462Z"
   },
   {
    "duration": 1584,
    "start_time": "2022-01-25T13:42:40.725Z"
   },
   {
    "duration": 10,
    "start_time": "2022-01-25T13:42:42.311Z"
   },
   {
    "duration": 247,
    "start_time": "2022-01-25T13:42:42.323Z"
   },
   {
    "duration": 176,
    "start_time": "2022-01-25T13:42:42.572Z"
   },
   {
    "duration": 355,
    "start_time": "2022-01-25T13:42:42.750Z"
   },
   {
    "duration": 9,
    "start_time": "2022-01-25T13:42:43.107Z"
   },
   {
    "duration": 343,
    "start_time": "2022-01-25T13:42:43.118Z"
   },
   {
    "duration": 244,
    "start_time": "2022-01-25T13:42:43.463Z"
   },
   {
    "duration": 228,
    "start_time": "2022-01-25T13:42:43.709Z"
   },
   {
    "duration": 1192,
    "start_time": "2022-02-02T12:30:55.260Z"
   },
   {
    "duration": 44,
    "start_time": "2022-02-02T12:30:56.454Z"
   },
   {
    "duration": 8,
    "start_time": "2022-02-02T12:30:56.514Z"
   },
   {
    "duration": 9,
    "start_time": "2022-02-02T12:30:56.523Z"
   },
   {
    "duration": 9,
    "start_time": "2022-02-02T12:30:56.534Z"
   },
   {
    "duration": 16,
    "start_time": "2022-02-02T12:30:56.544Z"
   },
   {
    "duration": 6,
    "start_time": "2022-02-02T12:30:56.562Z"
   },
   {
    "duration": 43,
    "start_time": "2022-02-02T12:30:56.571Z"
   },
   {
    "duration": 8,
    "start_time": "2022-02-02T12:30:56.616Z"
   },
   {
    "duration": 16,
    "start_time": "2022-02-02T12:30:56.626Z"
   },
   {
    "duration": 5,
    "start_time": "2022-02-02T12:30:56.643Z"
   },
   {
    "duration": 10,
    "start_time": "2022-02-02T12:30:56.649Z"
   },
   {
    "duration": 14,
    "start_time": "2022-02-02T12:30:56.660Z"
   },
   {
    "duration": 40,
    "start_time": "2022-02-02T12:30:56.675Z"
   },
   {
    "duration": 42,
    "start_time": "2022-02-02T12:30:56.717Z"
   },
   {
    "duration": 9,
    "start_time": "2022-02-02T12:30:56.760Z"
   },
   {
    "duration": 45,
    "start_time": "2022-02-02T12:30:56.771Z"
   },
   {
    "duration": 30,
    "start_time": "2022-02-02T12:30:56.817Z"
   },
   {
    "duration": 431,
    "start_time": "2022-02-02T12:30:56.849Z"
   },
   {
    "duration": 31,
    "start_time": "2022-02-02T12:30:57.282Z"
   },
   {
    "duration": 22,
    "start_time": "2022-02-02T12:30:57.315Z"
   },
   {
    "duration": 1329,
    "start_time": "2022-02-02T12:30:57.340Z"
   },
   {
    "duration": 7,
    "start_time": "2022-02-02T12:30:58.671Z"
   },
   {
    "duration": 528,
    "start_time": "2022-02-02T12:30:58.679Z"
   },
   {
    "duration": 4,
    "start_time": "2022-02-02T12:30:59.212Z"
   },
   {
    "duration": 483,
    "start_time": "2022-02-02T12:30:59.217Z"
   },
   {
    "duration": 16,
    "start_time": "2022-02-02T12:30:59.702Z"
   },
   {
    "duration": 353,
    "start_time": "2022-02-02T12:30:59.720Z"
   },
   {
    "duration": 7,
    "start_time": "2022-02-02T12:31:00.075Z"
   },
   {
    "duration": 989,
    "start_time": "2022-02-02T12:31:00.084Z"
   },
   {
    "duration": 11,
    "start_time": "2022-02-02T12:31:01.074Z"
   },
   {
    "duration": 169,
    "start_time": "2022-02-02T12:31:01.087Z"
   },
   {
    "duration": 224,
    "start_time": "2022-02-02T12:31:01.258Z"
   },
   {
    "duration": 240,
    "start_time": "2022-02-02T12:31:01.484Z"
   },
   {
    "duration": 275,
    "start_time": "2022-02-02T12:31:01.726Z"
   },
   {
    "duration": 24,
    "start_time": "2022-02-02T12:31:02.003Z"
   },
   {
    "duration": 236,
    "start_time": "2022-02-02T12:31:02.028Z"
   },
   {
    "duration": 1509,
    "start_time": "2022-02-02T12:31:02.265Z"
   },
   {
    "duration": 10,
    "start_time": "2022-02-02T12:31:03.776Z"
   },
   {
    "duration": 240,
    "start_time": "2022-02-02T12:31:03.787Z"
   },
   {
    "duration": 172,
    "start_time": "2022-02-02T12:31:04.029Z"
   },
   {
    "duration": 370,
    "start_time": "2022-02-02T12:31:04.203Z"
   },
   {
    "duration": 8,
    "start_time": "2022-02-02T12:31:04.574Z"
   },
   {
    "duration": 325,
    "start_time": "2022-02-02T12:31:04.584Z"
   },
   {
    "duration": 231,
    "start_time": "2022-02-02T12:31:04.911Z"
   },
   {
    "duration": 206,
    "start_time": "2022-02-02T12:31:05.143Z"
   },
   {
    "duration": 78,
    "start_time": "2022-02-02T12:54:20.080Z"
   },
   {
    "duration": 37,
    "start_time": "2022-02-02T12:54:20.160Z"
   },
   {
    "duration": 10,
    "start_time": "2022-02-02T12:54:20.211Z"
   },
   {
    "duration": 8,
    "start_time": "2022-02-02T12:54:20.223Z"
   },
   {
    "duration": 8,
    "start_time": "2022-02-02T12:54:20.233Z"
   },
   {
    "duration": 16,
    "start_time": "2022-02-02T12:54:20.259Z"
   },
   {
    "duration": 7,
    "start_time": "2022-02-02T12:54:20.277Z"
   },
   {
    "duration": 27,
    "start_time": "2022-02-02T12:54:20.286Z"
   },
   {
    "duration": 8,
    "start_time": "2022-02-02T12:54:20.315Z"
   },
   {
    "duration": 16,
    "start_time": "2022-02-02T12:54:20.325Z"
   },
   {
    "duration": 11,
    "start_time": "2022-02-02T12:54:25.680Z"
   },
   {
    "duration": 4,
    "start_time": "2022-02-02T12:55:09.730Z"
   },
   {
    "duration": 9,
    "start_time": "2022-02-02T12:55:12.719Z"
   },
   {
    "duration": 9,
    "start_time": "2022-02-02T12:55:33.500Z"
   },
   {
    "duration": 6645,
    "start_time": "2022-02-02T13:02:32.325Z"
   },
   {
    "duration": 6,
    "start_time": "2022-02-02T13:02:48.759Z"
   },
   {
    "duration": 207,
    "start_time": "2022-02-03T14:48:05.964Z"
   },
   {
    "duration": 7166,
    "start_time": "2022-02-03T14:48:19.233Z"
   },
   {
    "duration": 11,
    "start_time": "2022-02-03T14:49:31.603Z"
   },
   {
    "duration": 9,
    "start_time": "2022-02-03T14:49:40.433Z"
   },
   {
    "duration": 5,
    "start_time": "2022-02-03T14:50:10.953Z"
   },
   {
    "duration": 5,
    "start_time": "2022-02-03T14:51:22.093Z"
   },
   {
    "duration": 7,
    "start_time": "2022-02-03T14:52:05.819Z"
   },
   {
    "duration": 252,
    "start_time": "2022-02-03T15:08:40.801Z"
   },
   {
    "duration": 212,
    "start_time": "2022-02-03T15:10:06.431Z"
   },
   {
    "duration": 498,
    "start_time": "2022-02-03T15:10:24.255Z"
   },
   {
    "duration": 383,
    "start_time": "2022-02-03T15:10:34.251Z"
   },
   {
    "duration": 416,
    "start_time": "2022-02-03T15:12:03.881Z"
   },
   {
    "duration": 835,
    "start_time": "2022-02-03T15:13:00.622Z"
   },
   {
    "duration": 214,
    "start_time": "2022-02-03T15:13:23.671Z"
   },
   {
    "duration": 235,
    "start_time": "2022-02-03T15:15:08.821Z"
   },
   {
    "duration": 240,
    "start_time": "2022-02-03T15:15:48.641Z"
   },
   {
    "duration": 229,
    "start_time": "2022-02-03T15:16:19.831Z"
   },
   {
    "duration": 210,
    "start_time": "2022-02-03T15:16:28.250Z"
   },
   {
    "duration": 1220,
    "start_time": "2022-02-03T15:22:44.645Z"
   },
   {
    "duration": 9,
    "start_time": "2022-02-03T15:24:22.316Z"
   },
   {
    "duration": 6,
    "start_time": "2022-02-03T15:24:55.745Z"
   },
   {
    "duration": 219,
    "start_time": "2022-02-03T15:26:05.276Z"
   },
   {
    "duration": 241,
    "start_time": "2022-02-03T15:28:39.625Z"
   },
   {
    "duration": 174,
    "start_time": "2022-02-03T15:31:28.176Z"
   },
   {
    "duration": 246,
    "start_time": "2022-02-03T15:33:57.135Z"
   },
   {
    "duration": 283,
    "start_time": "2022-02-03T15:34:02.435Z"
   },
   {
    "duration": 282,
    "start_time": "2022-02-03T15:36:02.985Z"
   },
   {
    "duration": 1220,
    "start_time": "2022-02-03T15:36:18.753Z"
   },
   {
    "duration": 6,
    "start_time": "2022-02-03T15:36:38.163Z"
   },
   {
    "duration": 226,
    "start_time": "2022-02-03T15:36:41.244Z"
   },
   {
    "duration": 1140,
    "start_time": "2022-02-03T15:38:00.679Z"
   },
   {
    "duration": 7,
    "start_time": "2022-02-03T15:38:18.299Z"
   },
   {
    "duration": 81,
    "start_time": "2022-02-03T15:38:20.789Z"
   },
   {
    "duration": 57,
    "start_time": "2022-02-03T15:45:41.179Z"
   },
   {
    "duration": 1164,
    "start_time": "2022-02-03T15:49:24.028Z"
   },
   {
    "duration": 6,
    "start_time": "2022-02-03T15:49:34.279Z"
   },
   {
    "duration": 4844,
    "start_time": "2022-02-03T15:49:39.239Z"
   },
   {
    "duration": 4883,
    "start_time": "2022-02-03T15:52:54.898Z"
   },
   {
    "duration": 5161,
    "start_time": "2022-02-03T15:53:11.448Z"
   },
   {
    "duration": 4872,
    "start_time": "2022-02-03T15:57:18.547Z"
   },
   {
    "duration": 4840,
    "start_time": "2022-02-03T15:57:40.398Z"
   },
   {
    "duration": 2304,
    "start_time": "2022-02-03T15:59:11.238Z"
   },
   {
    "duration": 1149,
    "start_time": "2022-02-03T15:59:55.185Z"
   },
   {
    "duration": 7,
    "start_time": "2022-02-03T16:00:13.084Z"
   },
   {
    "duration": 47,
    "start_time": "2022-02-03T16:00:15.734Z"
   },
   {
    "duration": 2064,
    "start_time": "2022-02-03T16:00:17.965Z"
   },
   {
    "duration": 1214,
    "start_time": "2022-02-03T16:01:49.285Z"
   },
   {
    "duration": 7,
    "start_time": "2022-02-03T16:02:10.184Z"
   },
   {
    "duration": 51,
    "start_time": "2022-02-03T16:02:12.176Z"
   },
   {
    "duration": 50,
    "start_time": "2022-02-03T16:02:14.554Z"
   },
   {
    "duration": 47,
    "start_time": "2022-02-03T16:04:06.425Z"
   },
   {
    "duration": 1168,
    "start_time": "2022-02-03T16:04:25.524Z"
   },
   {
    "duration": 87,
    "start_time": "2022-02-03T16:04:32.115Z"
   },
   {
    "duration": 87,
    "start_time": "2022-02-03T16:10:40.853Z"
   },
   {
    "duration": 2053,
    "start_time": "2022-02-03T16:12:06.888Z"
   },
   {
    "duration": 82,
    "start_time": "2022-02-03T16:12:53.454Z"
   },
   {
    "duration": 56,
    "start_time": "2022-02-03T16:14:44.784Z"
   },
   {
    "duration": 73,
    "start_time": "2022-02-03T16:14:50.373Z"
   },
   {
    "duration": 81,
    "start_time": "2022-02-03T16:16:16.144Z"
   },
   {
    "duration": 81,
    "start_time": "2022-02-03T16:17:04.473Z"
   },
   {
    "duration": 57,
    "start_time": "2022-02-03T16:17:29.623Z"
   },
   {
    "duration": 56,
    "start_time": "2022-02-03T16:17:49.473Z"
   },
   {
    "duration": 5430,
    "start_time": "2022-02-03T16:18:15.782Z"
   },
   {
    "duration": 7,
    "start_time": "2022-02-03T16:18:28.432Z"
   },
   {
    "duration": 59,
    "start_time": "2022-02-03T16:18:31.183Z"
   },
   {
    "duration": 93,
    "start_time": "2022-02-03T16:20:21.812Z"
   },
   {
    "duration": 56,
    "start_time": "2022-02-03T16:20:55.542Z"
   },
   {
    "duration": 57,
    "start_time": "2022-02-03T16:21:07.832Z"
   },
   {
    "duration": 60,
    "start_time": "2022-02-03T16:23:21.042Z"
   },
   {
    "duration": 56,
    "start_time": "2022-02-03T16:23:36.442Z"
   },
   {
    "duration": 53,
    "start_time": "2022-02-03T16:25:17.322Z"
   },
   {
    "duration": 345,
    "start_time": "2022-02-03T16:26:16.532Z"
   },
   {
    "duration": 1054,
    "start_time": "2022-02-03T16:30:16.252Z"
   },
   {
    "duration": 56,
    "start_time": "2022-02-03T16:30:41.972Z"
   },
   {
    "duration": 62,
    "start_time": "2022-02-03T16:31:45.342Z"
   },
   {
    "duration": 62,
    "start_time": "2022-02-03T16:32:03.312Z"
   },
   {
    "duration": 1119,
    "start_time": "2022-02-03T16:49:15.676Z"
   },
   {
    "duration": 36,
    "start_time": "2022-02-03T16:49:16.797Z"
   },
   {
    "duration": 8,
    "start_time": "2022-02-03T16:49:16.834Z"
   },
   {
    "duration": 21,
    "start_time": "2022-02-03T16:49:16.844Z"
   },
   {
    "duration": 10,
    "start_time": "2022-02-03T16:49:16.866Z"
   },
   {
    "duration": 16,
    "start_time": "2022-02-03T16:49:16.877Z"
   },
   {
    "duration": 6,
    "start_time": "2022-02-03T16:49:16.895Z"
   },
   {
    "duration": 8,
    "start_time": "2022-02-03T16:49:16.903Z"
   },
   {
    "duration": 10,
    "start_time": "2022-02-03T16:49:16.913Z"
   },
   {
    "duration": 49,
    "start_time": "2022-02-03T16:49:16.924Z"
   },
   {
    "duration": 3,
    "start_time": "2022-02-03T16:49:16.975Z"
   },
   {
    "duration": 11,
    "start_time": "2022-02-03T16:49:16.980Z"
   },
   {
    "duration": 7,
    "start_time": "2022-02-03T16:49:16.993Z"
   },
   {
    "duration": 8,
    "start_time": "2022-02-03T16:49:17.001Z"
   },
   {
    "duration": 75,
    "start_time": "2022-02-03T16:49:17.010Z"
   },
   {
    "duration": 53,
    "start_time": "2022-02-03T16:49:17.087Z"
   },
   {
    "duration": 57,
    "start_time": "2022-02-03T16:49:17.142Z"
   },
   {
    "duration": 10,
    "start_time": "2022-02-03T16:49:17.201Z"
   },
   {
    "duration": 52,
    "start_time": "2022-02-03T16:49:17.213Z"
   },
   {
    "duration": 29,
    "start_time": "2022-02-03T16:49:17.267Z"
   },
   {
    "duration": 543,
    "start_time": "2022-02-03T16:49:17.298Z"
   },
   {
    "duration": 26,
    "start_time": "2022-02-03T16:49:17.842Z"
   },
   {
    "duration": 21,
    "start_time": "2022-02-03T16:49:17.872Z"
   },
   {
    "duration": 1204,
    "start_time": "2022-02-03T16:49:17.895Z"
   },
   {
    "duration": 6,
    "start_time": "2022-02-03T16:49:19.101Z"
   },
   {
    "duration": 485,
    "start_time": "2022-02-03T16:49:19.109Z"
   },
   {
    "duration": 5,
    "start_time": "2022-02-03T16:49:19.595Z"
   },
   {
    "duration": 422,
    "start_time": "2022-02-03T16:49:19.601Z"
   },
   {
    "duration": 9,
    "start_time": "2022-02-03T16:49:20.025Z"
   },
   {
    "duration": 331,
    "start_time": "2022-02-03T16:49:20.035Z"
   },
   {
    "duration": 8,
    "start_time": "2022-02-03T16:49:20.368Z"
   },
   {
    "duration": 1084,
    "start_time": "2022-02-03T16:49:20.377Z"
   },
   {
    "duration": 11,
    "start_time": "2022-02-03T16:49:21.463Z"
   },
   {
    "duration": 163,
    "start_time": "2022-02-03T16:49:21.475Z"
   },
   {
    "duration": 208,
    "start_time": "2022-02-03T16:49:21.639Z"
   },
   {
    "duration": 219,
    "start_time": "2022-02-03T16:49:21.848Z"
   },
   {
    "duration": 281,
    "start_time": "2022-02-03T16:49:22.069Z"
   },
   {
    "duration": 19,
    "start_time": "2022-02-03T16:49:22.359Z"
   },
   {
    "duration": 217,
    "start_time": "2022-02-03T16:49:22.379Z"
   },
   {
    "duration": 1397,
    "start_time": "2022-02-03T16:49:22.598Z"
   },
   {
    "duration": 9,
    "start_time": "2022-02-03T16:49:23.997Z"
   },
   {
    "duration": 217,
    "start_time": "2022-02-03T16:49:24.007Z"
   },
   {
    "duration": 175,
    "start_time": "2022-02-03T16:49:24.226Z"
   },
   {
    "duration": 318,
    "start_time": "2022-02-03T16:49:24.402Z"
   },
   {
    "duration": 10,
    "start_time": "2022-02-03T16:49:24.722Z"
   },
   {
    "duration": 317,
    "start_time": "2022-02-03T16:49:24.733Z"
   },
   {
    "duration": 217,
    "start_time": "2022-02-03T16:49:25.053Z"
   },
   {
    "duration": 201,
    "start_time": "2022-02-03T16:49:25.272Z"
   },
   {
    "duration": 1228,
    "start_time": "2022-02-03T16:59:01.591Z"
   },
   {
    "duration": 40,
    "start_time": "2022-02-03T16:59:02.820Z"
   },
   {
    "duration": 9,
    "start_time": "2022-02-03T16:59:02.862Z"
   },
   {
    "duration": 19,
    "start_time": "2022-02-03T16:59:02.873Z"
   },
   {
    "duration": 10,
    "start_time": "2022-02-03T16:59:02.894Z"
   },
   {
    "duration": 20,
    "start_time": "2022-02-03T16:59:02.906Z"
   },
   {
    "duration": 7,
    "start_time": "2022-02-03T16:59:02.928Z"
   },
   {
    "duration": 8,
    "start_time": "2022-02-03T16:59:02.960Z"
   },
   {
    "duration": 10,
    "start_time": "2022-02-03T16:59:02.970Z"
   },
   {
    "duration": 18,
    "start_time": "2022-02-03T16:59:02.982Z"
   },
   {
    "duration": 4,
    "start_time": "2022-02-03T16:59:03.001Z"
   },
   {
    "duration": 15,
    "start_time": "2022-02-03T16:59:03.007Z"
   },
   {
    "duration": 35,
    "start_time": "2022-02-03T16:59:03.024Z"
   },
   {
    "duration": 4,
    "start_time": "2022-02-03T16:59:03.061Z"
   },
   {
    "duration": 54,
    "start_time": "2022-02-03T16:59:03.067Z"
   },
   {
    "duration": 78,
    "start_time": "2022-02-03T16:59:03.123Z"
   },
   {
    "duration": 57,
    "start_time": "2022-02-03T16:59:03.203Z"
   },
   {
    "duration": 9,
    "start_time": "2022-02-03T16:59:03.262Z"
   },
   {
    "duration": 32,
    "start_time": "2022-02-03T16:59:03.273Z"
   },
   {
    "duration": 54,
    "start_time": "2022-02-03T16:59:03.306Z"
   },
   {
    "duration": 587,
    "start_time": "2022-02-03T16:59:03.361Z"
   },
   {
    "duration": 32,
    "start_time": "2022-02-03T16:59:03.949Z"
   },
   {
    "duration": 24,
    "start_time": "2022-02-03T16:59:03.984Z"
   },
   {
    "duration": 1371,
    "start_time": "2022-02-03T16:59:04.011Z"
   },
   {
    "duration": 8,
    "start_time": "2022-02-03T16:59:05.384Z"
   },
   {
    "duration": 601,
    "start_time": "2022-02-03T16:59:05.393Z"
   },
   {
    "duration": 5,
    "start_time": "2022-02-03T16:59:05.996Z"
   },
   {
    "duration": 484,
    "start_time": "2022-02-03T16:59:06.004Z"
   },
   {
    "duration": 10,
    "start_time": "2022-02-03T16:59:06.491Z"
   },
   {
    "duration": 360,
    "start_time": "2022-02-03T16:59:06.503Z"
   },
   {
    "duration": 8,
    "start_time": "2022-02-03T16:59:06.865Z"
   },
   {
    "duration": 1121,
    "start_time": "2022-02-03T16:59:06.874Z"
   },
   {
    "duration": 12,
    "start_time": "2022-02-03T16:59:07.997Z"
   },
   {
    "duration": 187,
    "start_time": "2022-02-03T16:59:08.011Z"
   },
   {
    "duration": 240,
    "start_time": "2022-02-03T16:59:08.200Z"
   },
   {
    "duration": 234,
    "start_time": "2022-02-03T16:59:08.441Z"
   },
   {
    "duration": 304,
    "start_time": "2022-02-03T16:59:08.677Z"
   },
   {
    "duration": 22,
    "start_time": "2022-02-03T16:59:08.983Z"
   },
   {
    "duration": 233,
    "start_time": "2022-02-03T16:59:09.007Z"
   },
   {
    "duration": 1548,
    "start_time": "2022-02-03T16:59:09.242Z"
   },
   {
    "duration": 10,
    "start_time": "2022-02-03T16:59:10.792Z"
   },
   {
    "duration": 240,
    "start_time": "2022-02-03T16:59:10.804Z"
   },
   {
    "duration": 187,
    "start_time": "2022-02-03T16:59:11.045Z"
   },
   {
    "duration": 390,
    "start_time": "2022-02-03T16:59:11.234Z"
   },
   {
    "duration": 10,
    "start_time": "2022-02-03T16:59:11.626Z"
   },
   {
    "duration": 352,
    "start_time": "2022-02-03T16:59:11.638Z"
   },
   {
    "duration": 233,
    "start_time": "2022-02-03T16:59:11.992Z"
   },
   {
    "duration": 224,
    "start_time": "2022-02-03T16:59:12.227Z"
   }
  ],
  "kernelspec": {
   "display_name": "Python 3",
   "language": "python",
   "name": "python3"
  },
  "language_info": {
   "codemirror_mode": {
    "name": "ipython",
    "version": 3
   },
   "file_extension": ".py",
   "mimetype": "text/x-python",
   "name": "python",
   "nbconvert_exporter": "python",
   "pygments_lexer": "ipython3",
   "version": "3.8.5"
  },
  "toc": {
   "base_numbering": 1,
   "nav_menu": {},
   "number_sections": false,
   "sideBar": true,
   "skip_h1_title": false,
   "title_cell": "Содержание",
   "title_sidebar": "Contents",
   "toc_cell": true,
   "toc_position": {
    "height": "calc(100% - 180px)",
    "left": "10px",
    "top": "150px",
    "width": "288.011px"
   },
   "toc_section_display": true,
   "toc_window_display": false
  }
 },
 "nbformat": 4,
 "nbformat_minor": 2
}
